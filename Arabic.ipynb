{
 "cells": [
  {
   "cell_type": "markdown",
   "metadata": {},
   "source": [
    "# Arabic"
   ]
  },
  {
   "cell_type": "markdown",
   "metadata": {},
   "source": [
    "## Libraries"
   ]
  },
  {
   "cell_type": "code",
   "execution_count": 1,
   "metadata": {
    "ExecuteTime": {
     "end_time": "2022-02-13T18:11:02.503769Z",
     "start_time": "2022-02-13T18:11:00.359672Z"
    }
   },
   "outputs": [
    {
     "ename": "ModuleNotFoundError",
     "evalue": "No module named 'nltk'",
     "output_type": "error",
     "traceback": [
      "\u001b[0;31m---------------------------------------------------------------------------\u001b[0m",
      "\u001b[0;31mModuleNotFoundError\u001b[0m                       Traceback (most recent call last)",
      "Input \u001b[0;32mIn [1]\u001b[0m, in \u001b[0;36m<module>\u001b[0;34m\u001b[0m\n\u001b[1;32m     11\u001b[0m \u001b[38;5;28;01mfrom\u001b[39;00m \u001b[38;5;21;01mfarasa\u001b[39;00m\u001b[38;5;21;01m.\u001b[39;00m\u001b[38;5;21;01mdiacratizer\u001b[39;00m \u001b[38;5;28;01mimport\u001b[39;00m FarasaDiacritizer\n\u001b[1;32m     13\u001b[0m \u001b[38;5;66;03m# for NLP\u001b[39;00m\n\u001b[0;32m---> 14\u001b[0m \u001b[38;5;28;01mimport\u001b[39;00m \u001b[38;5;21;01mnltk\u001b[39;00m\n\u001b[1;32m     16\u001b[0m \u001b[38;5;66;03m# for string manipulation\u001b[39;00m\n\u001b[1;32m     17\u001b[0m \u001b[38;5;28;01mimport\u001b[39;00m \u001b[38;5;21;01mre\u001b[39;00m\n",
      "\u001b[0;31mModuleNotFoundError\u001b[0m: No module named 'nltk'"
     ]
    }
   ],
   "source": [
    "# for data analysis\n",
    "import pandas as pd\n",
    "import seaborn as sns\n",
    "import matplotlib.pyplot as plt\n",
    "\n",
    "# for English NLP\n",
    "import spacy\n",
    "\n",
    "# for Arabic lemmatization and diacritization\n",
    "from farasa.stemmer import FarasaStemmer\n",
    "from farasa.diacratizer import FarasaDiacritizer\n",
    "\n",
    "# for NLP\n",
    "import nltk\n",
    "\n",
    "# for string manipulation\n",
    "import re\n",
    "\n",
    "# for getting translations\n",
    "# from reverso_api.context import ReversoContextAPI\n",
    "\n",
    "# for creating anki decks\n",
    "# import genanki\n",
    "\n",
    "# generic\n",
    "from itertools import islice, permutations\n",
    "from time import sleep\n",
    "import pickle"
   ]
  },
  {
   "cell_type": "markdown",
   "metadata": {},
   "source": [
    "## Texts"
   ]
  },
  {
   "cell_type": "code",
   "execution_count": 34,
   "metadata": {
    "ExecuteTime": {
     "end_time": "2021-08-02T15:12:32.743232Z",
     "start_time": "2021-08-02T15:12:32.733199Z"
    }
   },
   "outputs": [],
   "source": [
    "# load Arabic text\n",
    "# with open('/home/warehouse/Nextcloud/Books/Arabic/Fiction/Andy Weir - Artemis - ar.txt', 'r') as file:\n",
    "#     text_ar = file.read()\n",
    "\n",
    "with open('./Books/Stephen King, Institute.txt', 'r') as file:\n",
    "    text_ar = file.read()\n",
    "    \n",
    "# text_ar = regex.sub(r\"\\p{P}+\", '  ', text_ar)"
   ]
  },
  {
   "cell_type": "code",
   "execution_count": 3,
   "metadata": {
    "ExecuteTime": {
     "end_time": "2021-02-12T16:04:01.274385Z",
     "start_time": "2021-02-12T16:04:01.262148Z"
    }
   },
   "outputs": [],
   "source": [
    "# load English text\n",
    "with open('/home/warehouse/Nextcloud/Books/Arabic/Fiction/Andy Weir - Artemis - en.txt', 'r') as file:\n",
    "    text_en = file.read()\n",
    "    \n",
    "# text_en = regex.sub(r\"\\p{P}+\", '  ', text_en)"
   ]
  },
  {
   "cell_type": "markdown",
   "metadata": {
    "heading_collapsed": true
   },
   "source": [
    "## Naive approach"
   ]
  },
  {
   "cell_type": "code",
   "execution_count": 4,
   "metadata": {
    "ExecuteTime": {
     "end_time": "2021-08-02T14:48:25.097918Z",
     "start_time": "2021-08-02T14:48:25.087955Z"
    },
    "hidden": true
   },
   "outputs": [],
   "source": [
    "# naive approach to textual analysis, devoid of any normalisation\n",
    "def naive_approach(text):\n",
    "    # tokenization\n",
    "    words = text.split()\n",
    "    words_unique = set(text.split())\n",
    "    \n",
    "    # count frequencies of unique lemmas\n",
    "    freq_list = nltk.FreqDist(words)\n",
    "    \n",
    "    # determine coverage of total lemmas by the n most frequent lemmas\n",
    "    coverage = pd.DataFrame({\n",
    "        'Lemma': dict(freq_list.most_common()).keys(),\n",
    "        'Values': dict(freq_list.most_common()).values()\n",
    "    })\n",
    "    coverage['Cumulative'] = coverage['Values'].cumsum() / coverage['Values'].sum() * 100\n",
    "    \n",
    "    elements = {\n",
    "        'words': words,\n",
    "        'words_unique': words_unique,\n",
    "        'freq_list': freq_list,\n",
    "        'coverage': coverage,\n",
    "    }\n",
    "    \n",
    "    return elements"
   ]
  },
  {
   "cell_type": "markdown",
   "metadata": {
    "heading_collapsed": true,
    "hidden": true
   },
   "source": [
    "### Arabic text"
   ]
  },
  {
   "cell_type": "code",
   "execution_count": 5,
   "metadata": {
    "ExecuteTime": {
     "end_time": "2021-08-02T14:48:31.312399Z",
     "start_time": "2021-08-02T14:48:31.063695Z"
    },
    "hidden": true
   },
   "outputs": [],
   "source": [
    "# naive approach applied to Arabic text\n",
    "naive_approach_ar = naive_approach(text_ar)"
   ]
  },
  {
   "cell_type": "code",
   "execution_count": 6,
   "metadata": {
    "ExecuteTime": {
     "end_time": "2021-08-02T14:48:34.266730Z",
     "start_time": "2021-08-02T14:48:34.013536Z"
    },
    "hidden": true
   },
   "outputs": [
    {
     "name": "stdout",
     "output_type": "stream",
     "text": [
      "words:\t\t 142582 \n",
      "unique words:\t 38156\n",
      "[('في', 3033), ('على', 2204), ('من', 2167), ('أن', 2159), ('إلى', 1857), ('لا', 1228), ('كان', 911), ('لُوك', 891), ('لكن', 870), ('لم', 870)]\n",
      "0 0\n",
      "10 7\n",
      "20 36\n",
      "30 128\n",
      "40 368\n",
      "50 966\n",
      "60 2283\n",
      "70 5114\n",
      "80 11091\n",
      "90 23897\n",
      "100 38156\n"
     ]
    },
    {
     "data": {
      "text/plain": [
       "<AxesSubplot:>"
      ]
     },
     "execution_count": 6,
     "metadata": {},
     "output_type": "execute_result"
    },
    {
     "data": {
      "image/png": "[encoded data removed]",
      "text/plain": [
       "<Figure size 432x288 with 1 Axes>"
      ]
     },
     "metadata": {
      "needs_background": "light"
     },
     "output_type": "display_data"
    }
   ],
   "source": [
    "# metrics of naive approach\n",
    "print(\n",
    "    'words:\\t\\t', len(naive_approach_ar['words']),\n",
    "    '\\nunique words:\\t', len(naive_approach_ar['words_unique'])\n",
    ")\n",
    "\n",
    "print(naive_approach_ar['freq_list'].most_common(10))\n",
    "    \n",
    "for i in range(0, 101, 10):\n",
    "    print(i, sum(naive_approach_ar['coverage']['Cumulative'] <= i))\n",
    "\n",
    "naive_approach_ar['coverage']['Cumulative'].plot()"
   ]
  },
  {
   "cell_type": "markdown",
   "metadata": {
    "heading_collapsed": true,
    "hidden": true
   },
   "source": [
    "### English text"
   ]
  },
  {
   "cell_type": "code",
   "execution_count": 11,
   "metadata": {
    "ExecuteTime": {
     "end_time": "2021-02-10T11:15:07.607485Z",
     "start_time": "2021-02-10T11:15:07.460751Z"
    },
    "hidden": true
   },
   "outputs": [],
   "source": [
    "# naive approach applied to English text\n",
    "naive_approach_en = naive_approach(text_en)"
   ]
  },
  {
   "cell_type": "code",
   "execution_count": 12,
   "metadata": {
    "ExecuteTime": {
     "end_time": "2021-02-10T11:15:14.092122Z",
     "start_time": "2021-02-10T11:15:13.865858Z"
    },
    "hidden": true
   },
   "outputs": [
    {
     "name": "stdout",
     "output_type": "stream",
     "text": [
      "words:\t\t 88311 \n",
      "unique words:\t 14291\n",
      "[('the', 4080), ('I', 3128), ('to', 2454), ('a', 2254), ('and', 1641), ('of', 1275), ('in', 980), ('my', 909), ('was', 825), ('it', 779)]\n",
      "0 0\n",
      "10 2\n",
      "20 9\n",
      "30 27\n",
      "40 69\n",
      "50 161\n",
      "60 382\n",
      "70 896\n",
      "80 2200\n",
      "90 5631\n",
      "100 14291\n"
     ]
    },
    {
     "data": {
      "text/plain": [
       "<AxesSubplot:>"
      ]
     },
     "execution_count": 12,
     "metadata": {},
     "output_type": "execute_result"
    },
    {
     "data": {
      "image/png": "[encoded data removed]",
      "text/plain": [
       "<Figure size 432x288 with 1 Axes>"
      ]
     },
     "metadata": {
      "needs_background": "light"
     },
     "output_type": "display_data"
    }
   ],
   "source": [
    "# metrics of naive approach\n",
    "print(\n",
    "    'words:\\t\\t', len(naive_approach_en['words']),\n",
    "    '\\nunique words:\\t', len(naive_approach_en['words_unique'])\n",
    ")\n",
    "\n",
    "print(naive_approach_en['freq_list'].most_common(10))\n",
    "    \n",
    "for i in range(0, 101, 10):\n",
    "    print(i, sum(naive_approach_en['coverage']['Cumulative'] <= i))\n",
    "\n",
    "naive_approach_en['coverage']['Cumulative'].plot()"
   ]
  },
  {
   "cell_type": "markdown",
   "metadata": {},
   "source": [
    "## NLP"
   ]
  },
  {
   "cell_type": "markdown",
   "metadata": {},
   "source": [
    "Approach:\n",
    "- load NLP model\n",
    "- process text\n",
    "- perform a sanity check\n",
    "- lemmatize text\n",
    "- identify unique lemmas\n",
    "- plot cumulative frequency of unique lemmas\n",
    "- perform the above analysis without stopwords\n",
    "- check what tokens have been discarded during the analysis"
   ]
  },
  {
   "cell_type": "markdown",
   "metadata": {
    "heading_collapsed": true
   },
   "source": [
    "### English text"
   ]
  },
  {
   "cell_type": "markdown",
   "metadata": {
    "heading_collapsed": true,
    "hidden": true
   },
   "source": [
    "#### Unique lemmas"
   ]
  },
  {
   "cell_type": "code",
   "execution_count": 13,
   "metadata": {
    "ExecuteTime": {
     "end_time": "2021-02-10T11:15:26.187390Z",
     "start_time": "2021-02-10T11:15:24.435810Z"
    },
    "hidden": true
   },
   "outputs": [],
   "source": [
    "# initiate English NLP model\n",
    "nlp = spacy.load('en_core_web_md')"
   ]
  },
  {
   "cell_type": "code",
   "execution_count": 14,
   "metadata": {
    "ExecuteTime": {
     "end_time": "2021-02-10T11:16:13.344900Z",
     "start_time": "2021-02-10T11:15:27.220546Z"
    },
    "hidden": true
   },
   "outputs": [],
   "source": [
    "# process text\n",
    "doc = nlp(text_en)"
   ]
  },
  {
   "cell_type": "code",
   "execution_count": 16,
   "metadata": {
    "ExecuteTime": {
     "end_time": "2021-02-10T11:19:49.972880Z",
     "start_time": "2021-02-10T11:19:49.964150Z"
    },
    "hidden": true,
    "scrolled": true
   },
   "outputs": [],
   "source": [
    "# sanity check to estimate the most frequent tokens that fulfill given criteria\n",
    "def check_freqs(text, keep):\n",
    "    condition = lambda token, keep: any([\n",
    "        token.is_alpha,\n",
    "        token.is_stop,\n",
    "        (token.is_oov and not token.is_space)\n",
    "    ]) if keep else all([\n",
    "        not token.is_alpha,\n",
    "        not token.is_digit,\n",
    "        not token.is_punct,\n",
    "        not token.is_space,\n",
    "        not token.is_stop\n",
    "    ])\n",
    "    \n",
    "    freqs = nltk.FreqDist([token.lemma_ for token in doc if condition(token, keep)])\n",
    "    \n",
    "    return freqs"
   ]
  },
  {
   "cell_type": "code",
   "execution_count": 17,
   "metadata": {
    "ExecuteTime": {
     "end_time": "2021-02-10T11:21:40.998091Z",
     "start_time": "2021-02-10T11:21:40.707727Z"
    },
    "hidden": true
   },
   "outputs": [
    {
     "name": "stdout",
     "output_type": "stream",
     "text": [
      "Kept tokens: 91736 occurrences from 5995 tokens\n",
      " [('I', 4708), ('the', 4636), ('to', 2495), ('be', 2436), ('a', 2377), ('and', 1860), ('it', 1648), ('you', 1346), ('of', 1326), ('he', 1179)] \n",
      "\n",
      " Discarded tokens: 173 occurrences from 95 tokens\n",
      " [('Mr.', 18), ('CO2', 10), ('p.m.', 8), ('°', 8), ('a.m.', 7), ('>', 6), ('+', 4), ('ma’am', 4), ('CU12', 3), ('416,922', 3)]\n"
     ]
    }
   ],
   "source": [
    "# apply sanity check to text\n",
    "freqs_kept = check_freqs(text_en, True)\n",
    "freqs_discarded = check_freqs(text_en, False)\n",
    "print(\n",
    "    'Kept tokens: {} occurrences from {} tokens\\n'.format(\n",
    "        sum(freqs_kept.values()), len(freqs_kept)\n",
    "    ),\n",
    "    freqs_kept.most_common(10),\n",
    "    '\\n\\n',\n",
    "    'Discarded tokens: {} occurrences from {} tokens\\n'.format(\n",
    "        sum(freqs_discarded.values()), len(freqs_discarded)\n",
    "    ),\n",
    "    freqs_discarded.most_common(10)\n",
    ")"
   ]
  },
  {
   "cell_type": "code",
   "execution_count": 18,
   "metadata": {
    "ExecuteTime": {
     "end_time": "2021-02-10T11:22:21.032581Z",
     "start_time": "2021-02-10T11:22:20.978324Z"
    },
    "hidden": true,
    "scrolled": true
   },
   "outputs": [
    {
     "data": {
      "text/plain": [
       "91736"
      ]
     },
     "execution_count": 18,
     "metadata": {},
     "output_type": "execute_result"
    }
   ],
   "source": [
    "# lemmatization and tokenization\n",
    "lemmas_en = [\n",
    "    token.lemma_ for token in doc if (\n",
    "        token.is_alpha \\\n",
    "        or token.is_stop\n",
    "        or (token.is_oov and not token.is_space) \\\n",
    "    )\n",
    "]\n",
    "len(lemmas_en)"
   ]
  },
  {
   "cell_type": "code",
   "execution_count": 19,
   "metadata": {
    "ExecuteTime": {
     "end_time": "2021-02-10T11:22:25.060433Z",
     "start_time": "2021-02-10T11:22:25.048982Z"
    },
    "hidden": true
   },
   "outputs": [
    {
     "data": {
      "text/plain": [
       "5995"
      ]
     },
     "execution_count": 19,
     "metadata": {},
     "output_type": "execute_result"
    }
   ],
   "source": [
    "# identify unique lemmas\n",
    "lemmas_unique_en = set(lemmas_en)\n",
    "len(lemmas_unique_en)"
   ]
  },
  {
   "cell_type": "code",
   "execution_count": 23,
   "metadata": {
    "ExecuteTime": {
     "end_time": "2021-02-10T11:28:44.950729Z",
     "start_time": "2021-02-10T11:28:44.820437Z"
    },
    "hidden": true
   },
   "outputs": [],
   "source": [
    "# count frequencies of unique lemmas across kept lemmas\n",
    "freq_lemmas_en = nltk.FreqDist(lemmas_en)"
   ]
  },
  {
   "cell_type": "code",
   "execution_count": 24,
   "metadata": {
    "ExecuteTime": {
     "end_time": "2021-02-10T11:28:47.292386Z",
     "start_time": "2021-02-10T11:28:47.283952Z"
    },
    "hidden": true
   },
   "outputs": [
    {
     "data": {
      "text/plain": [
       "[('I', 4708),\n",
       " ('the', 4636),\n",
       " ('to', 2495),\n",
       " ('be', 2436),\n",
       " ('a', 2377),\n",
       " ('and', 1860),\n",
       " ('it', 1648),\n",
       " ('you', 1346),\n",
       " ('of', 1326),\n",
       " ('he', 1179)]"
      ]
     },
     "execution_count": 24,
     "metadata": {},
     "output_type": "execute_result"
    }
   ],
   "source": [
    "# sort in descending order\n",
    "freq_lemmas_en.most_common(10)"
   ]
  },
  {
   "cell_type": "markdown",
   "metadata": {
    "heading_collapsed": true,
    "hidden": true
   },
   "source": [
    "#### Cumulative frequency"
   ]
  },
  {
   "cell_type": "code",
   "execution_count": 205,
   "metadata": {
    "ExecuteTime": {
     "end_time": "2021-02-10T13:37:39.696179Z",
     "start_time": "2021-02-10T13:37:39.673171Z"
    },
    "hidden": true
   },
   "outputs": [],
   "source": [
    "# determine coverage of total lemmas by the n most frequent lemmas\n",
    "coverage_en = pd.DataFrame({\n",
    "    'Lemma': dict(freq_lemmas_en.most_common()).keys(),\n",
    "    'Values': dict(freq_lemmas_en.most_common()).values(),\n",
    "})\n",
    "\n",
    "coverage_en['Cumulative'] = coverage_en['Values'].cumsum() / coverage_en['Values'].sum() * 100"
   ]
  },
  {
   "cell_type": "code",
   "execution_count": 207,
   "metadata": {
    "ExecuteTime": {
     "end_time": "2021-02-10T13:37:42.821837Z",
     "start_time": "2021-02-10T13:37:42.648024Z"
    },
    "hidden": true
   },
   "outputs": [
    {
     "name": "stdout",
     "output_type": "stream",
     "text": [
      "0 0\n",
      "10 1\n",
      "20 5\n",
      "30 13\n",
      "40 28\n",
      "50 57\n",
      "60 118\n",
      "70 241\n",
      "80 517\n",
      "90 1302\n",
      "100 5995\n"
     ]
    },
    {
     "data": {
      "image/png": "[encoded data removed]",
      "text/plain": [
       "<Figure size 432x288 with 1 Axes>"
      ]
     },
     "metadata": {
      "needs_background": "light"
     },
     "output_type": "display_data"
    }
   ],
   "source": [
    "# plot coverage\n",
    "coverage_en['Cumulative'].plot()\n",
    "\n",
    "for i in range(0, 101, 10):\n",
    "    print(i, sum(coverage_en['Cumulative'] <= i))"
   ]
  },
  {
   "cell_type": "markdown",
   "metadata": {
    "heading_collapsed": true,
    "hidden": true
   },
   "source": [
    "#### Lemmas not considered"
   ]
  },
  {
   "cell_type": "code",
   "execution_count": 71,
   "metadata": {
    "ExecuteTime": {
     "end_time": "2021-02-10T12:02:53.246778Z",
     "start_time": "2021-02-10T12:02:53.236877Z"
    },
    "hidden": true,
    "scrolled": true
   },
   "outputs": [],
   "source": [
    "# check discarded tokens to ensure that they are not a large part of the text\n",
    "def discarded(tokens, lemmas_unique):\n",
    "#     list conditions for discarding\n",
    "    conditions = lambda token: all([\n",
    "        not token.is_alpha,\n",
    "        not token.is_digit,\n",
    "        not token.is_punct,\n",
    "        not token.is_space,\n",
    "        not token.is_stop\n",
    "    ])\n",
    "\n",
    "#     identify unique discarded tokens\n",
    "    others = [token.lemma_.lower() for token in tokens if conditions(token)]\n",
    "    others_unique = set(others)\n",
    "    print(\n",
    "        'Discarded tokens: {} occurrences from {} tokens\\n'.format(\n",
    "            len(others), len(others_unique)\n",
    "        )\n",
    "    )\n",
    "\n",
    "#     count frequencies of discarded and kept tokens across all tokens\n",
    "    freq_others = {}\n",
    "    freq_lemmas = {}\n",
    "    items = [token.lemma_.lower() for token in tokens]\n",
    "    \n",
    "    for other in others_unique:\n",
    "        freq_others[other] = items.count(other.lower())\n",
    "    for lemma in lemmas_unique:\n",
    "        freq_lemmas[lemma] = items.count(lemma.lower())\n",
    "\n",
    "    print(\n",
    "        'Total tokens not considered:\\t\\t{}\\nCompared to total tokens considered:\\t{:.2%}\\n'.format(\n",
    "            sum(freq_others.values()),\n",
    "            sum(freq_others.values()) / sum(freq_lemmas.values())\n",
    "        )\n",
    "    )\n",
    "\n",
    "#     sort discarded tokens\n",
    "    freq_sorted_others = sorted(freq_others, key=freq_others.get, reverse=True)\n",
    "    print('Most frequent:\\n')\n",
    "    for i in freq_sorted_others:\n",
    "        print(i, freq_others[i])\n",
    "        \n",
    "    return"
   ]
  },
  {
   "cell_type": "code",
   "execution_count": 42,
   "metadata": {
    "ExecuteTime": {
     "end_time": "2021-02-10T11:47:57.086381Z",
     "start_time": "2021-02-10T11:47:46.916572Z"
    },
    "hidden": true,
    "scrolled": true
   },
   "outputs": [
    {
     "name": "stdout",
     "output_type": "stream",
     "text": [
      "Discarded tokens: 173 occurrences from 92 tokens\n",
      "\n",
      "Total tokens not considered:\t\t173\n",
      "Compared to total tokens considered:\t0.17%\n",
      "\n",
      "Discarded tokens:\n",
      "\n",
      "mr. 18\n",
      "co2 10\n",
      "p.m. 8\n",
      "° 8\n",
      "a.m. 7\n",
      "> 6\n",
      "+ 4\n",
      "ma’am 4\n",
      "416,922 3\n",
      "g. 3\n",
      "= 3\n",
      "dr. 3\n",
      "cu12 3\n",
      "ms. 2\n",
      "2:34 2\n",
      "cd6 2\n",
      "⅙th 2\n",
      "you’re 2\n",
      "1950 2\n",
      "chang’e 2\n",
      "that’s 2\n",
      "2,000ğ 2\n",
      "cd2 2\n",
      "j. 2\n",
      "20.4 2\n",
      "inc. 2\n",
      "’cause 2\n",
      "wait’ll 1\n",
      "ma’aref 1\n",
      "1,000,000ğ 1\n",
      "ncc-1701 1\n",
      "2.4 1\n",
      "12,000 1\n",
      "~100kg 1\n",
      "8:05 1\n",
      "75ğ 1\n",
      "a.m 1\n",
      "100,000ğ 1\n",
      "0.4 1\n",
      "31ğ 1\n",
      "won’t 1\n",
      "100ğ 1\n",
      "200ğ 1\n",
      "50,000ğ 1\n",
      "don’t 1\n",
      "how’d 1\n",
      "416,922ğ 1\n",
      "452ğ 1\n",
      "kovalto1 1\n",
      "ag-5250 1\n",
      "1.458 1\n",
      "12,000ğ 1\n",
      "they’re 1\n",
      "11,916ğ 1\n",
      "1800s 1\n",
      "der´mo 1\n",
      "b. 1\n",
      "10:14 1\n",
      "© 1\n",
      "1920s 1\n",
      "2.5 1\n",
      "750ğ 1\n",
      "0.216 1\n",
      "i’ll 1\n",
      "mrs. 1\n",
      "0:00 1\n",
      "ld7 1\n",
      "8:00 1\n",
      "3:17 1\n",
      "’em 1\n",
      "ma’alesh 1\n",
      "isn’t 1\n",
      "rudy’d 1\n",
      "m’okay 1\n",
      "384,000 1\n",
      "we’re 1\n",
      "there? 1\n",
      "10,814ğ 1\n",
      "d’d 1\n",
      "10,800ğ 1\n",
      "crownpublishing.com 1\n",
      "0.001 1\n",
      "400,000 1\n",
      "3,000 1\n",
      "✕ 1\n",
      "1,500ğ 1\n",
      "v5.1 1\n",
      "i’m 1\n",
      "585,966 1\n",
      "85,000ğ 1\n",
      "21,628ğ 1\n",
      "o2 1\n"
     ]
    }
   ],
   "source": [
    "# determine the discarded tokens\n",
    "discarded(doc, lemmas_unique_en)"
   ]
  },
  {
   "cell_type": "markdown",
   "metadata": {
    "heading_collapsed": true,
    "hidden": true
   },
   "source": [
    "#### Stopwords"
   ]
  },
  {
   "cell_type": "code",
   "execution_count": 132,
   "metadata": {
    "ExecuteTime": {
     "end_time": "2021-02-10T12:39:24.114165Z",
     "start_time": "2021-02-10T12:39:23.874630Z"
    },
    "hidden": true
   },
   "outputs": [
    {
     "name": "stdout",
     "output_type": "stream",
     "text": [
      "Stopwords: 53686 occurrences of 266 unique stopword lemmas\n",
      "\n",
      "Most frequent:\n",
      "\n",
      "I 5.13%\n",
      "the 5.05%\n",
      "to 2.72%\n",
      "be 2.66%\n",
      "a 2.59%\n",
      "and 2.03%\n",
      "it 1.80%\n",
      "you 1.47%\n",
      "of 1.45%\n",
      "he 1.29%\n"
     ]
    },
    {
     "data": {
      "text/plain": [
       "<AxesSubplot:>"
      ]
     },
     "execution_count": 132,
     "metadata": {},
     "output_type": "execute_result"
    },
    {
     "data": {
      "image/png": "[encoded data removed]",
      "text/plain": [
       "<Figure size 432x288 with 1 Axes>"
      ]
     },
     "metadata": {
      "needs_background": "light"
     },
     "output_type": "display_data"
    }
   ],
   "source": [
    "# identify unique stopword lemmas\n",
    "stopwords_en = [token.lemma_ for token in doc if token.is_stop]\n",
    "stopwords_unique_en = set(stopwords_en)\n",
    "print(\n",
    "    'Stopwords: {} occurrences of {} unique stopword lemmas\\n'.format(\n",
    "        len(stopwords_en),\n",
    "        len(stopwords_unique_en)\n",
    "    )\n",
    ")\n",
    "\n",
    "# determine frequencies of unique stopwords\n",
    "freq_stops_en = {}\n",
    "for stop in stopwords_unique_en:\n",
    "    freq_stops_en[stop] = freq_lemmas_en[stop] / sum(freq_lemmas_en.values())\n",
    "    \n",
    "# sort discarded tokens\n",
    "freq_sorted_stops_en = sorted(freq_stops_en, key=freq_stops_en.get, reverse=True)\n",
    "print('Most frequent:\\n')\n",
    "for stop in freq_sorted_stops_en[:10]:\n",
    "    print(stop, '{:.2%}'.format(freq_stops_en[stop]))\n",
    "\n",
    "# determine cumulative frequencies\n",
    "coverage_en = pd.DataFrame({\n",
    "    'Index': freq_stops_en.keys(),\n",
    "    'Coverage': freq_stops_en.values()\n",
    "}).sort_values('Coverage', ascending=False, ignore_index=True)\n",
    "coverage_en['Cumulative'] = coverage_en['Coverage'].cumsum()\n",
    "\n",
    "# plot cumulative frequencies\n",
    "coverage_en['Cumulative'].plot()"
   ]
  },
  {
   "cell_type": "code",
   "execution_count": 133,
   "metadata": {
    "ExecuteTime": {
     "end_time": "2021-02-10T12:40:10.051624Z",
     "start_time": "2021-02-10T12:39:47.798545Z"
    },
    "hidden": true,
    "scrolled": false
   },
   "outputs": [
    {
     "name": "stdout",
     "output_type": "stream",
     "text": [
      "Non-stopwords: 36247 occurrences of 5671 unique non-stopword lemmas\n",
      "\n",
      "Most frequent:\n",
      "\n",
      "know 0.30%\n",
      "like 0.28%\n",
      "right 0.26%\n",
      "time 0.25%\n",
      "want 0.24%\n",
      "look 0.24%\n",
      "air 0.22%\n",
      "good 0.22%\n",
      "Dale 0.20%\n",
      "work 0.18%\n"
     ]
    },
    {
     "data": {
      "text/plain": [
       "<AxesSubplot:>"
      ]
     },
     "execution_count": 133,
     "metadata": {},
     "output_type": "execute_result"
    },
    {
     "data": {
      "image/png": "[encoded data removed]",
      "text/plain": [
       "<Figure size 432x288 with 1 Axes>"
      ]
     },
     "metadata": {
      "needs_background": "light"
     },
     "output_type": "display_data"
    }
   ],
   "source": [
    "# identify unique non-stopword lemmas\n",
    "# conditions for non-stopwords lead to some overlap however with stopwords\n",
    "non_stopwords_en = [\n",
    "    token.lemma_ for token in doc if (\n",
    "        token.is_alpha \\\n",
    "        and not token.is_stop \\\n",
    "        and token.lemma_ not in stopwords_en\n",
    "    )\n",
    "]\n",
    "non_stopwords_unique_en = set(non_stopwords_en)\n",
    "print(\n",
    "    'Non-stopwords: {} occurrences of {} unique non-stopword lemmas\\n'.format(\n",
    "        len(non_stopwords_en),\n",
    "        len(non_stopwords_unique_en)\n",
    "    )\n",
    ")\n",
    "\n",
    "# determine frequencies of unique non-stopwords\n",
    "freq_non_stops_en = {}\n",
    "for non_stop in non_stopwords_unique_en:\n",
    "    freq_non_stops_en[non_stop] = freq_lemmas_en[non_stop] / sum(freq_lemmas_en.values())\n",
    "\n",
    "# sort discarded tokens\n",
    "freq_sorted_non_stops_en = sorted(freq_non_stops_en, key=freq_non_stops_en.get, reverse=True)\n",
    "print('Most frequent:\\n')\n",
    "for non_stop in freq_sorted_non_stops_en[:10]:\n",
    "    print(non_stop, '{:.2%}'.format(freq_non_stops_en[non_stop]))\n",
    "\n",
    "# determine cumulative frequencies\n",
    "coverage_non_stop_en = pd.DataFrame({\n",
    "    'Index': freq_non_stops_en.keys(),\n",
    "    'Coverage': freq_non_stops_en.values()\n",
    "}).sort_values('Coverage', ascending=False, ignore_index=True)\n",
    "coverage_non_stop_en['Cumulative'] = coverage_non_stop_en['Coverage'].cumsum()\n",
    "\n",
    "# plot cumulative frequencies\n",
    "coverage_non_stop_en['Cumulative'].plot()"
   ]
  },
  {
   "cell_type": "code",
   "execution_count": 160,
   "metadata": {
    "ExecuteTime": {
     "end_time": "2021-02-10T12:53:39.747359Z",
     "start_time": "2021-02-10T12:53:34.433103Z"
    },
    "hidden": true
   },
   "outputs": [
    {
     "name": "stdout",
     "output_type": "stream",
     "text": [
      "Both stop and non-stop:\t\t0\n",
      "Neither stop nor non-stop:\t3\n"
     ]
    },
    {
     "data": {
      "text/html": [
       "<div>\n",
       "<style scoped>\n",
       "    .dataframe tbody tr th:only-of-type {\n",
       "        vertical-align: middle;\n",
       "    }\n",
       "\n",
       "    .dataframe tbody tr th {\n",
       "        vertical-align: top;\n",
       "    }\n",
       "\n",
       "    .dataframe thead th {\n",
       "        text-align: right;\n",
       "    }\n",
       "</style>\n",
       "<table border=\"1\" class=\"dataframe\">\n",
       "  <thead>\n",
       "    <tr style=\"text-align: right;\">\n",
       "      <th></th>\n",
       "      <th>Lemma</th>\n",
       "      <th>Freq</th>\n",
       "      <th>Stop</th>\n",
       "      <th>Non-stop</th>\n",
       "    </tr>\n",
       "  </thead>\n",
       "  <tbody>\n",
       "    <tr>\n",
       "      <th>0</th>\n",
       "      <td>I</td>\n",
       "      <td>4708</td>\n",
       "      <td>True</td>\n",
       "      <td>False</td>\n",
       "    </tr>\n",
       "    <tr>\n",
       "      <th>1</th>\n",
       "      <td>the</td>\n",
       "      <td>4636</td>\n",
       "      <td>True</td>\n",
       "      <td>False</td>\n",
       "    </tr>\n",
       "    <tr>\n",
       "      <th>2</th>\n",
       "      <td>to</td>\n",
       "      <td>2495</td>\n",
       "      <td>True</td>\n",
       "      <td>False</td>\n",
       "    </tr>\n",
       "    <tr>\n",
       "      <th>3</th>\n",
       "      <td>be</td>\n",
       "      <td>2436</td>\n",
       "      <td>True</td>\n",
       "      <td>False</td>\n",
       "    </tr>\n",
       "    <tr>\n",
       "      <th>4</th>\n",
       "      <td>a</td>\n",
       "      <td>2377</td>\n",
       "      <td>True</td>\n",
       "      <td>False</td>\n",
       "    </tr>\n",
       "  </tbody>\n",
       "</table>\n",
       "</div>"
      ],
      "text/plain": [
       "  Lemma  Freq  Stop  Non-stop\n",
       "0     I  4708  True     False\n",
       "1   the  4636  True     False\n",
       "2    to  2495  True     False\n",
       "3    be  2436  True     False\n",
       "4     a  2377  True     False"
      ]
     },
     "execution_count": 160,
     "metadata": {},
     "output_type": "execute_result"
    },
    {
     "data": {
      "image/png": "[encoded data removed]",
      "text/plain": [
       "<Figure size 432x288 with 1 Axes>"
      ]
     },
     "metadata": {
      "needs_background": "light"
     },
     "output_type": "display_data"
    }
   ],
   "source": [
    "# populate dataframe with lemmas and frequencies\n",
    "lemmas = pd.DataFrame(freq_lemmas_en.most_common(), columns=['Lemma', 'Freq']).iloc[:2500]\n",
    "lemmas['Stop'] = lemmas['Lemma'].isin(stopwords_unique_en)\n",
    "lemmas['Non-stop'] = lemmas['Lemma'].isin(non_stopwords_unique_en)\n",
    "print(\n",
    "    'Both stop and non-stop:\\t\\t{}\\nNeither stop nor non-stop:\\t{}'.format(\n",
    "        sum(lemmas['Stop'] & lemmas['Non-stop']),\n",
    "        sum(~lemmas['Stop'] & ~lemmas['Non-stop'])\n",
    "    )\n",
    ")\n",
    "\n",
    "# plot frequencies of lemmas whether they are stopwords or not\n",
    "sns.barplot(\n",
    "    data=lemmas.iloc[:200],\n",
    "    x=list(range(200)),\n",
    "    y='Freq',\n",
    "    hue='Stop',\n",
    ")\n",
    "\n",
    "lemmas.head()"
   ]
  },
  {
   "cell_type": "markdown",
   "metadata": {},
   "source": [
    "### Arabic text"
   ]
  },
  {
   "cell_type": "markdown",
   "metadata": {},
   "source": [
    "#### Unique lemmas"
   ]
  },
  {
   "cell_type": "code",
   "execution_count": 7,
   "metadata": {
    "ExecuteTime": {
     "end_time": "2021-08-02T14:48:49.147603Z",
     "start_time": "2021-08-02T14:48:48.807921Z"
    }
   },
   "outputs": [],
   "source": [
    "# initiate Arabic NLP model\n",
    "stemmer = FarasaStemmer()"
   ]
  },
  {
   "cell_type": "code",
   "execution_count": 8,
   "metadata": {
    "ExecuteTime": {
     "end_time": "2021-08-02T14:49:01.928111Z",
     "start_time": "2021-08-02T14:48:50.635946Z"
    }
   },
   "outputs": [],
   "source": [
    "# lemmatization\n",
    "text_stemmed_ar = stemmer.stem(text_ar)"
   ]
  },
  {
   "cell_type": "code",
   "execution_count": 9,
   "metadata": {
    "ExecuteTime": {
     "end_time": "2021-08-02T14:49:02.039069Z",
     "start_time": "2021-08-02T14:49:02.035295Z"
    }
   },
   "outputs": [],
   "source": [
    "# normalize text by removing diacritics and dealing with different forms of alif\n",
    "def normalize_ar(token):\n",
    "    # strip Arabic diacritics\n",
    "    token = re.compile(r'[\\u064B-\\u065F]').sub('', token)\n",
    "    # replace Hamzated Alif with Alif bare\n",
    "    token = re.compile(r'[\\u0622\\u0623\\u0625]').sub('\\u0627', token)\n",
    "    # replace alifMaqsura with Yaa\n",
    "    token = re.compile(r'[\\u0649]').sub('\\u064A', token)\n",
    "    \n",
    "    return token"
   ]
  },
  {
   "cell_type": "code",
   "execution_count": 10,
   "metadata": {
    "ExecuteTime": {
     "end_time": "2021-08-02T14:49:02.174715Z",
     "start_time": "2021-08-02T14:49:02.130355Z"
    }
   },
   "outputs": [],
   "source": [
    "# normalize text by removing diacritics and dealing with different forms of alif\n",
    "text_stemmed_ar = normalize_ar(text_stemmed_ar)"
   ]
  },
  {
   "cell_type": "code",
   "execution_count": 11,
   "metadata": {
    "ExecuteTime": {
     "end_time": "2021-08-02T14:49:02.289735Z",
     "start_time": "2021-08-02T14:49:02.283075Z"
    }
   },
   "outputs": [],
   "source": [
    "# sanity check to estimate the most frequent tokens that fulfill given criteria\n",
    "def check_freqs(tokens, keep):\n",
    "    condition = lambda token, keep: any([\n",
    "        token.isalpha()\n",
    "    ]) if keep else all([\n",
    "        not token.isalpha(),\n",
    "        not token.isnumeric(),\n",
    "        not token.isspace(),\n",
    "        token.isalnum()\n",
    "    ])\n",
    "    \n",
    "    freqs = nltk.FreqDist([token for token in tokens if condition(token, keep)])\n",
    "    \n",
    "    return freqs"
   ]
  },
  {
   "cell_type": "code",
   "execution_count": 12,
   "metadata": {
    "ExecuteTime": {
     "end_time": "2021-08-02T14:49:06.505178Z",
     "start_time": "2021-08-02T14:49:06.135368Z"
    }
   },
   "outputs": [
    {
     "name": "stdout",
     "output_type": "stream",
     "text": [
      "Kept tokens: 141456 occurrences from 8753 tokens\n",
      " [('ان', 4996), ('في', 3323), ('علي', 2749), ('من', 2716), ('كان', 2649), ('الي', 2126), ('هذا', 1926), ('لا', 1901), ('لكن', 1608), ('قال', 1552)] \n",
      "\n",
      " Discarded tokens: 8 occurrences from 6 tokens\n",
      " [('940NF', 2), ('HK37', 2), ('37s', 1), ('x49ger194GbL4', 1), ('AC6000CW', 1), ('P238S', 1)]\n"
     ]
    }
   ],
   "source": [
    "# apply sanity check to text\n",
    "freqs_kept = check_freqs(nltk.wordpunct_tokenize(text_stemmed_ar), True)\n",
    "freqs_discarded = check_freqs(nltk.wordpunct_tokenize(text_stemmed_ar), False)\n",
    "print(\n",
    "    'Kept tokens: {} occurrences from {} tokens\\n'.format(\n",
    "        sum(freqs_kept.values()), len(freqs_kept)\n",
    "    ),\n",
    "    freqs_kept.most_common(10),\n",
    "    '\\n\\n',\n",
    "    'Discarded tokens: {} occurrences from {} tokens\\n'.format(\n",
    "        sum(freqs_discarded.values()), len(freqs_discarded)\n",
    "    ),\n",
    "    freqs_discarded.most_common(10)\n",
    ")"
   ]
  },
  {
   "cell_type": "code",
   "execution_count": 13,
   "metadata": {
    "ExecuteTime": {
     "end_time": "2021-08-02T14:49:09.685215Z",
     "start_time": "2021-08-02T14:49:09.534874Z"
    },
    "scrolled": false
   },
   "outputs": [
    {
     "data": {
      "text/plain": [
       "141456"
      ]
     },
     "execution_count": 13,
     "metadata": {},
     "output_type": "execute_result"
    }
   ],
   "source": [
    "# tokenization of lemmas\n",
    "lemmas_ar = [token for token in nltk.wordpunct_tokenize(text_stemmed_ar) if token.isalpha()]\n",
    "len(lemmas_ar)"
   ]
  },
  {
   "cell_type": "code",
   "execution_count": 14,
   "metadata": {
    "ExecuteTime": {
     "end_time": "2021-08-02T14:49:14.892481Z",
     "start_time": "2021-08-02T14:49:14.866206Z"
    }
   },
   "outputs": [
    {
     "data": {
      "text/plain": [
       "8753"
      ]
     },
     "execution_count": 14,
     "metadata": {},
     "output_type": "execute_result"
    }
   ],
   "source": [
    "# identify unique lemmas\n",
    "lemmas_unique_ar = set(lemmas_ar)\n",
    "len(lemmas_unique_ar)"
   ]
  },
  {
   "cell_type": "code",
   "execution_count": 15,
   "metadata": {
    "ExecuteTime": {
     "end_time": "2021-08-02T14:49:27.277636Z",
     "start_time": "2021-08-02T14:49:27.186125Z"
    }
   },
   "outputs": [],
   "source": [
    "# count frequencies of unique lemmas across kept lemmas\n",
    "freq_lemmas_ar = nltk.FreqDist(lemmas_ar)\n",
    "\n",
    "# pickle frequencies of unique lemmas\n",
    "with open('freq_lemmas_ar.pkl', 'wb') as file:\n",
    "    pickle.dump(freq_lemmas_ar, file)"
   ]
  },
  {
   "cell_type": "code",
   "execution_count": 16,
   "metadata": {
    "ExecuteTime": {
     "end_time": "2021-08-02T14:49:37.202819Z",
     "start_time": "2021-08-02T14:49:37.195213Z"
    }
   },
   "outputs": [
    {
     "data": {
      "text/plain": [
       "[('ان', 4996),\n",
       " ('في', 3323),\n",
       " ('علي', 2749),\n",
       " ('من', 2716),\n",
       " ('كان', 2649),\n",
       " ('الي', 2126),\n",
       " ('هذا', 1926),\n",
       " ('لا', 1901),\n",
       " ('لكن', 1608),\n",
       " ('قال', 1552)]"
      ]
     },
     "execution_count": 16,
     "metadata": {},
     "output_type": "execute_result"
    }
   ],
   "source": [
    "# sort in descending order\n",
    "freq_lemmas_ar.most_common(10)"
   ]
  },
  {
   "cell_type": "markdown",
   "metadata": {},
   "source": [
    "#### Cumulative frequency"
   ]
  },
  {
   "cell_type": "code",
   "execution_count": 17,
   "metadata": {
    "ExecuteTime": {
     "end_time": "2021-08-02T14:50:06.420705Z",
     "start_time": "2021-08-02T14:50:06.393093Z"
    }
   },
   "outputs": [],
   "source": [
    "# determine coverage of total lemmas by the n most frequent lemmas\n",
    "coverage_ar = pd.DataFrame({\n",
    "    'Lemma': dict(freq_lemmas_ar.most_common()).keys(),\n",
    "    'Values': dict(freq_lemmas_ar.most_common()).values(),\n",
    "})\n",
    "\n",
    "coverage_ar['Cumulative'] = coverage_ar['Values'].cumsum() / coverage_ar['Values'].sum() * 100"
   ]
  },
  {
   "cell_type": "code",
   "execution_count": 33,
   "metadata": {
    "ExecuteTime": {
     "end_time": "2021-08-02T15:08:48.531192Z",
     "start_time": "2021-08-02T15:08:48.518217Z"
    }
   },
   "outputs": [
    {
     "data": {
      "text/html": [
       "<div>\n",
       "<style scoped>\n",
       "    .dataframe tbody tr th:only-of-type {\n",
       "        vertical-align: middle;\n",
       "    }\n",
       "\n",
       "    .dataframe tbody tr th {\n",
       "        vertical-align: top;\n",
       "    }\n",
       "\n",
       "    .dataframe thead th {\n",
       "        text-align: right;\n",
       "    }\n",
       "</style>\n",
       "<table border=\"1\" class=\"dataframe\">\n",
       "  <thead>\n",
       "    <tr style=\"text-align: right;\">\n",
       "      <th></th>\n",
       "      <th>Index</th>\n",
       "      <th>Coverage</th>\n",
       "      <th>Cumulative</th>\n",
       "    </tr>\n",
       "  </thead>\n",
       "  <tbody>\n",
       "    <tr>\n",
       "      <th>120</th>\n",
       "      <td>اثنان</td>\n",
       "      <td>0.000311</td>\n",
       "      <td>0.383144</td>\n",
       "    </tr>\n",
       "    <tr>\n",
       "      <th>121</th>\n",
       "      <td>عشرون</td>\n",
       "      <td>0.000311</td>\n",
       "      <td>0.383455</td>\n",
       "    </tr>\n",
       "    <tr>\n",
       "      <th>122</th>\n",
       "      <td>تم</td>\n",
       "      <td>0.000297</td>\n",
       "      <td>0.383752</td>\n",
       "    </tr>\n",
       "    <tr>\n",
       "      <th>123</th>\n",
       "      <td>جميع</td>\n",
       "      <td>0.000290</td>\n",
       "      <td>0.384042</td>\n",
       "    </tr>\n",
       "    <tr>\n",
       "      <th>124</th>\n",
       "      <td>ال</td>\n",
       "      <td>0.000276</td>\n",
       "      <td>0.384317</td>\n",
       "    </tr>\n",
       "    <tr>\n",
       "      <th>125</th>\n",
       "      <td>سوي</td>\n",
       "      <td>0.000276</td>\n",
       "      <td>0.384593</td>\n",
       "    </tr>\n",
       "    <tr>\n",
       "      <th>126</th>\n",
       "      <td>اجل</td>\n",
       "      <td>0.000269</td>\n",
       "      <td>0.384862</td>\n",
       "    </tr>\n",
       "    <tr>\n",
       "      <th>127</th>\n",
       "      <td>ظل</td>\n",
       "      <td>0.000262</td>\n",
       "      <td>0.385123</td>\n",
       "    </tr>\n",
       "    <tr>\n",
       "      <th>128</th>\n",
       "      <td>عام</td>\n",
       "      <td>0.000262</td>\n",
       "      <td>0.385385</td>\n",
       "    </tr>\n",
       "    <tr>\n",
       "      <th>129</th>\n",
       "      <td>ايا</td>\n",
       "      <td>0.000254</td>\n",
       "      <td>0.385639</td>\n",
       "    </tr>\n",
       "    <tr>\n",
       "      <th>130</th>\n",
       "      <td>غادر</td>\n",
       "      <td>0.000240</td>\n",
       "      <td>0.385880</td>\n",
       "    </tr>\n",
       "    <tr>\n",
       "      <th>131</th>\n",
       "      <td>اب</td>\n",
       "      <td>0.000240</td>\n",
       "      <td>0.386120</td>\n",
       "    </tr>\n",
       "    <tr>\n",
       "      <th>132</th>\n",
       "      <td>ست</td>\n",
       "      <td>0.000233</td>\n",
       "      <td>0.386353</td>\n",
       "    </tr>\n",
       "    <tr>\n",
       "      <th>133</th>\n",
       "      <td>مئة</td>\n",
       "      <td>0.000226</td>\n",
       "      <td>0.386580</td>\n",
       "    </tr>\n",
       "    <tr>\n",
       "      <th>134</th>\n",
       "      <td>حي</td>\n",
       "      <td>0.000226</td>\n",
       "      <td>0.386806</td>\n",
       "    </tr>\n",
       "  </tbody>\n",
       "</table>\n",
       "</div>"
      ],
      "text/plain": [
       "     Index  Coverage  Cumulative\n",
       "120  اثنان  0.000311    0.383144\n",
       "121  عشرون  0.000311    0.383455\n",
       "122     تم  0.000297    0.383752\n",
       "123   جميع  0.000290    0.384042\n",
       "124     ال  0.000276    0.384317\n",
       "125    سوي  0.000276    0.384593\n",
       "126    اجل  0.000269    0.384862\n",
       "127     ظل  0.000262    0.385123\n",
       "128    عام  0.000262    0.385385\n",
       "129    ايا  0.000254    0.385639\n",
       "130   غادر  0.000240    0.385880\n",
       "131     اب  0.000240    0.386120\n",
       "132     ست  0.000233    0.386353\n",
       "133    مئة  0.000226    0.386580\n",
       "134     حي  0.000226    0.386806"
      ]
     },
     "execution_count": 33,
     "metadata": {},
     "output_type": "execute_result"
    }
   ],
   "source": [
    "coverage_ar[120:135]"
   ]
  },
  {
   "cell_type": "code",
   "execution_count": 18,
   "metadata": {
    "ExecuteTime": {
     "end_time": "2021-08-02T14:50:08.487868Z",
     "start_time": "2021-08-02T14:50:08.319371Z"
    }
   },
   "outputs": [
    {
     "name": "stdout",
     "output_type": "stream",
     "text": [
      "0 0\n",
      "10 4\n",
      "20 11\n",
      "30 31\n",
      "40 67\n",
      "50 134\n",
      "60 263\n",
      "70 504\n",
      "80 982\n",
      "90 2179\n",
      "100 8753\n"
     ]
    },
    {
     "data": {
      "image/png": "[encoded data removed]",
      "text/plain": [
       "<Figure size 432x288 with 1 Axes>"
      ]
     },
     "metadata": {
      "needs_background": "light"
     },
     "output_type": "display_data"
    }
   ],
   "source": [
    "# plot coverage\n",
    "coverage_ar['Cumulative'].plot()\n",
    "\n",
    "for i in range(0, 101, 10):\n",
    "    print(i, sum(coverage_ar['Cumulative'] <= i))"
   ]
  },
  {
   "cell_type": "markdown",
   "metadata": {
    "heading_collapsed": true
   },
   "source": [
    "#### Lemmas not considered"
   ]
  },
  {
   "cell_type": "code",
   "execution_count": 19,
   "metadata": {
    "ExecuteTime": {
     "end_time": "2021-08-02T14:50:44.724833Z",
     "start_time": "2021-08-02T14:50:44.713408Z"
    },
    "hidden": true,
    "scrolled": true
   },
   "outputs": [],
   "source": [
    "# check discarded tokens to ensure that they are not a large part of the text\n",
    "def discarded(tokens, lemmas_unique):\n",
    "#     list conditions for discarding\n",
    "    conditions = lambda token: all([\n",
    "        not token.isalpha(),\n",
    "        not token.isnumeric(),\n",
    "        not token.isspace(),\n",
    "        token.isalnum()\n",
    "    ])\n",
    "\n",
    "#     identify unique discarded tokens\n",
    "    others = [token for token in tokens if conditions(token)]\n",
    "    others_unique = set(others)\n",
    "    print(\n",
    "        'Discarded tokens: {} occurrences from {} tokens\\n'.format(\n",
    "            len(others), len(others_unique)\n",
    "        )\n",
    "    )\n",
    "\n",
    "#     count frequencies of discarded and kept tokens across all tokens\n",
    "    freq_others = {}\n",
    "    freq_lemmas = {}\n",
    "\n",
    "    for other in others_unique:\n",
    "        freq_others[other] = tokens.count(other)\n",
    "    for lemma in lemmas_unique:\n",
    "        freq_lemmas[lemma] = tokens.count(lemma)\n",
    "\n",
    "    print(\n",
    "        'Total tokens not considered:\\t\\t{}\\nCompared to total tokens considered:\\t{:.2%}\\n'.format(\n",
    "            sum(freq_others.values()),\n",
    "            sum(freq_others.values()) / sum(freq_lemmas.values())\n",
    "        )\n",
    "    )\n",
    "    \n",
    "#     sort discarded tokens\n",
    "    freq_sorted_others = sorted(freq_others, key=freq_others.get, reverse=True)\n",
    "    print('Most frequent:\\n')\n",
    "    for i in freq_sorted_others:\n",
    "        print(i, freq_others[i])\n",
    "    \n",
    "    return"
   ]
  },
  {
   "cell_type": "code",
   "execution_count": 20,
   "metadata": {
    "ExecuteTime": {
     "end_time": "2021-08-02T14:51:17.307216Z",
     "start_time": "2021-08-02T14:50:47.580241Z"
    },
    "hidden": true
   },
   "outputs": [
    {
     "name": "stdout",
     "output_type": "stream",
     "text": [
      "Discarded tokens: 8 occurrences from 6 tokens\n",
      "\n",
      "Total tokens not considered:\t\t8\n",
      "Compared to total tokens considered:\t0.01%\n",
      "\n",
      "Most frequent:\n",
      "\n",
      "940NF 2\n",
      "HK37 2\n",
      "x49ger194GbL4 1\n",
      "37s 1\n",
      "AC6000CW 1\n",
      "P238S 1\n"
     ]
    }
   ],
   "source": [
    "# determine the discarded tokens\n",
    "discarded(nltk.wordpunct_tokenize(text_stemmed_ar), lemmas_unique_ar)"
   ]
  },
  {
   "cell_type": "markdown",
   "metadata": {
    "ExecuteTime": {
     "end_time": "2021-02-04T11:43:19.038761Z",
     "start_time": "2021-02-04T11:43:19.027418Z"
    }
   },
   "source": [
    "#### Stopwords"
   ]
  },
  {
   "cell_type": "code",
   "execution_count": 22,
   "metadata": {
    "ExecuteTime": {
     "end_time": "2021-08-02T14:52:47.673019Z",
     "start_time": "2021-08-02T14:52:47.667800Z"
    }
   },
   "outputs": [],
   "source": [
    "# load list of Arabic stopwords\n",
    "with open('stopwords.txt', 'r') as file:\n",
    "    stopwords_all_ar = file.read()\n",
    "    \n",
    "# normalise the stopwords through dediacritization\n",
    "stopwords_all_ar = normalize_ar(stopwords_all_ar)"
   ]
  },
  {
   "cell_type": "code",
   "execution_count": 23,
   "metadata": {
    "ExecuteTime": {
     "end_time": "2021-08-02T14:53:05.410798Z",
     "start_time": "2021-08-02T14:53:05.178705Z"
    }
   },
   "outputs": [
    {
     "name": "stdout",
     "output_type": "stream",
     "text": [
      "Stopwords: 751 occurrences of 673 unique stopword lemmas\n",
      "\n",
      "Most frequent:\n",
      "\n",
      "ان \n",
      "\t3.53%\n",
      "في \n",
      "\t2.35%\n",
      "علي \n",
      "\t1.94%\n",
      "من \n",
      "\t1.92%\n",
      "كان \n",
      "\t1.87%\n",
      "الي \n",
      "\t1.50%\n",
      "هذا \n",
      "\t1.36%\n",
      "لا \n",
      "\t1.34%\n",
      "لكن \n",
      "\t1.14%\n",
      "قال \n",
      "\t1.10%\n"
     ]
    },
    {
     "data": {
      "text/plain": [
       "<AxesSubplot:>"
      ]
     },
     "execution_count": 23,
     "metadata": {},
     "output_type": "execute_result"
    },
    {
     "data": {
      "image/png": "[encoded data removed]",
      "text/plain": [
       "<Figure size 432x288 with 1 Axes>"
      ]
     },
     "metadata": {
      "needs_background": "light"
     },
     "output_type": "display_data"
    }
   ],
   "source": [
    "# identify unique stopword lemmas\n",
    "stopwords_ar = [token for token in stopwords_all_ar.split() if token.isalpha()]\n",
    "stopwords_unique_ar = set(stopwords_ar)\n",
    "print(\n",
    "    'Stopwords: {} occurrences of {} unique stopword lemmas\\n'.format(\n",
    "        len(stopwords_ar),\n",
    "        len(stopwords_unique_ar)\n",
    "    )\n",
    ")\n",
    "\n",
    "# determine frequencies\n",
    "freq_stops_ar = {}\n",
    "for stop in stopwords_unique_ar:\n",
    "    try:\n",
    "        freq_stops_ar[stop] = freq_lemmas_ar[stop] / sum(freq_lemmas_ar.values())\n",
    "    except:\n",
    "        print(stop)\n",
    "        continue\n",
    "        \n",
    "# sort discarded tokens\n",
    "freq_sorted_stops_ar = sorted(freq_stops_ar, key=freq_stops_ar.get, reverse=True)\n",
    "print('Most frequent:\\n')\n",
    "for stop in freq_sorted_stops_ar[:10]:\n",
    "    print(stop, '\\n\\t{:.2%}'.format(freq_stops_ar[stop]))\n",
    "    \n",
    "# determine cumulative frequencies\n",
    "coverage_ar = pd.DataFrame({\n",
    "    'Index': freq_stops_ar.keys(),\n",
    "    'Coverage': freq_stops_ar.values()\n",
    "}).sort_values('Coverage', ascending=False, ignore_index=True)\n",
    "coverage_ar['Cumulative'] = coverage_ar['Coverage'].cumsum()\n",
    "\n",
    "# plot cumulative frequencies\n",
    "coverage_ar['Cumulative'].plot()"
   ]
  },
  {
   "cell_type": "code",
   "execution_count": 24,
   "metadata": {
    "ExecuteTime": {
     "end_time": "2021-08-02T14:53:15.332711Z",
     "start_time": "2021-08-02T14:53:14.371127Z"
    }
   },
   "outputs": [
    {
     "name": "stdout",
     "output_type": "stream",
     "text": [
      "Non-stopwords: 85367 occurrences of 8456 unique non-stopword lemmas\n",
      "\n",
      "Most frequent:\n",
      "\n",
      "لوك 0.99%\n",
      "اخر 0.55%\n",
      "بدا 0.53%\n",
      "شيء 0.50%\n",
      "عرف 0.48%\n",
      "ولد 0.47%\n",
      "امكن 0.46%\n",
      "يا 0.41%\n",
      "تيم 0.39%\n",
      "سيد 0.37%\n"
     ]
    },
    {
     "data": {
      "text/plain": [
       "<AxesSubplot:>"
      ]
     },
     "execution_count": 24,
     "metadata": {},
     "output_type": "execute_result"
    },
    {
     "data": {
      "image/png": "[encoded data removed]",
      "text/plain": [
       "<Figure size 432x288 with 1 Axes>"
      ]
     },
     "metadata": {
      "needs_background": "light"
     },
     "output_type": "display_data"
    }
   ],
   "source": [
    "# identify unique non-stopword lemmas\n",
    "# conditions for non-stopwords lead to some overlap however with stopwords\n",
    "non_stopwords_ar = [\n",
    "    token for token in nltk.wordpunct_tokenize(text_stemmed_ar) if (\n",
    "        token.isalpha() \\\n",
    "        and token not in stopwords_unique_ar\n",
    "    )\n",
    "]\n",
    "non_stopwords_unique_ar = set(non_stopwords_ar)\n",
    "print(\n",
    "    'Non-stopwords: {} occurrences of {} unique non-stopword lemmas\\n'.format(\n",
    "        len(non_stopwords_ar),\n",
    "        len(non_stopwords_unique_ar)\n",
    "    )\n",
    ")\n",
    "\n",
    "# determine frequencies\n",
    "freq_non_stops_ar = {}\n",
    "for non_stop in non_stopwords_unique_ar:\n",
    "    freq_non_stops_ar[non_stop] = freq_lemmas_ar[non_stop] / sum(freq_lemmas_ar.values())\n",
    "    \n",
    "# sort discarded tokens\n",
    "freq_sorted_non_stops_ar = sorted(freq_non_stops_ar, key=freq_non_stops_ar.get, reverse=True)\n",
    "print('Most frequent:\\n')\n",
    "for non_stop in freq_sorted_non_stops_ar[:10]:\n",
    "    print(non_stop, '{:.2%}'.format(freq_non_stops_ar[non_stop]))\n",
    "\n",
    "# determine cumulative frequency\n",
    "coverage_non_stop_ar = pd.DataFrame({\n",
    "    'Index': freq_non_stops_ar.keys(),\n",
    "    'Coverage': freq_non_stops_ar.values()\n",
    "}).sort_values('Coverage', ascending=False, ignore_index=True)\n",
    "coverage_non_stop_ar['Cumulative'] = coverage_non_stop_ar['Coverage'].cumsum()\n",
    "\n",
    "# plot cumulative frequencies\n",
    "coverage_non_stop_ar['Cumulative'].plot()"
   ]
  },
  {
   "cell_type": "code",
   "execution_count": 25,
   "metadata": {
    "ExecuteTime": {
     "end_time": "2021-08-02T14:53:52.669867Z",
     "start_time": "2021-08-02T14:53:47.810557Z"
    }
   },
   "outputs": [
    {
     "name": "stdout",
     "output_type": "stream",
     "text": [
      "Both stop and non-stop:\t\t0\n",
      "Neither stop nor non-stop:\t0\n"
     ]
    },
    {
     "data": {
      "text/html": [
       "<div>\n",
       "<style scoped>\n",
       "    .dataframe tbody tr th:only-of-type {\n",
       "        vertical-align: middle;\n",
       "    }\n",
       "\n",
       "    .dataframe tbody tr th {\n",
       "        vertical-align: top;\n",
       "    }\n",
       "\n",
       "    .dataframe thead th {\n",
       "        text-align: right;\n",
       "    }\n",
       "</style>\n",
       "<table border=\"1\" class=\"dataframe\">\n",
       "  <thead>\n",
       "    <tr style=\"text-align: right;\">\n",
       "      <th></th>\n",
       "      <th>Lemma</th>\n",
       "      <th>Freq</th>\n",
       "      <th>Stop</th>\n",
       "      <th>Non-stop</th>\n",
       "    </tr>\n",
       "  </thead>\n",
       "  <tbody>\n",
       "    <tr>\n",
       "      <th>0</th>\n",
       "      <td>ان</td>\n",
       "      <td>4996</td>\n",
       "      <td>True</td>\n",
       "      <td>False</td>\n",
       "    </tr>\n",
       "    <tr>\n",
       "      <th>1</th>\n",
       "      <td>في</td>\n",
       "      <td>3323</td>\n",
       "      <td>True</td>\n",
       "      <td>False</td>\n",
       "    </tr>\n",
       "    <tr>\n",
       "      <th>2</th>\n",
       "      <td>علي</td>\n",
       "      <td>2749</td>\n",
       "      <td>True</td>\n",
       "      <td>False</td>\n",
       "    </tr>\n",
       "    <tr>\n",
       "      <th>3</th>\n",
       "      <td>من</td>\n",
       "      <td>2716</td>\n",
       "      <td>True</td>\n",
       "      <td>False</td>\n",
       "    </tr>\n",
       "    <tr>\n",
       "      <th>4</th>\n",
       "      <td>كان</td>\n",
       "      <td>2649</td>\n",
       "      <td>True</td>\n",
       "      <td>False</td>\n",
       "    </tr>\n",
       "  </tbody>\n",
       "</table>\n",
       "</div>"
      ],
      "text/plain": [
       "  Lemma  Freq  Stop  Non-stop\n",
       "0    ان  4996  True     False\n",
       "1    في  3323  True     False\n",
       "2   علي  2749  True     False\n",
       "3    من  2716  True     False\n",
       "4   كان  2649  True     False"
      ]
     },
     "execution_count": 25,
     "metadata": {},
     "output_type": "execute_result"
    },
    {
     "data": {
      "image/png": "[encoded data removed]",
      "text/plain": [
       "<Figure size 432x288 with 1 Axes>"
      ]
     },
     "metadata": {
      "needs_background": "light"
     },
     "output_type": "display_data"
    }
   ],
   "source": [
    "# populate dataframe with lemmas and frequencies\n",
    "lemmas = pd.DataFrame(freq_lemmas_ar.most_common(), columns=['Lemma', 'Freq']).iloc[:2500]\n",
    "lemmas['Stop'] = lemmas['Lemma'].isin(stopwords_unique_ar)\n",
    "lemmas['Non-stop'] = lemmas['Lemma'].isin(non_stopwords_unique_ar)\n",
    "print(\n",
    "    'Both stop and non-stop:\\t\\t{}\\nNeither stop nor non-stop:\\t{}'.format(\n",
    "        sum(lemmas['Stop'] & lemmas['Non-stop']),\n",
    "        sum(~lemmas['Stop'] & ~lemmas['Non-stop'])\n",
    "    )\n",
    ")\n",
    "\n",
    "# plot frequencies of lemmas whether they are stopwords or not\n",
    "sns.barplot(\n",
    "    data=lemmas.iloc[:200],\n",
    "    x=list(range(200)),\n",
    "    y='Freq',\n",
    "    hue='Stop',\n",
    ")\n",
    "\n",
    "lemmas.head()"
   ]
  },
  {
   "cell_type": "markdown",
   "metadata": {},
   "source": [
    "## Online sentences and translations"
   ]
  },
  {
   "cell_type": "markdown",
   "metadata": {
    "heading_collapsed": true
   },
   "source": [
    "### Frequency list and functions"
   ]
  },
  {
   "cell_type": "code",
   "execution_count": 14,
   "metadata": {
    "ExecuteTime": {
     "end_time": "2021-02-20T13:59:32.997714Z",
     "start_time": "2021-02-20T13:59:32.986508Z"
    },
    "hidden": true
   },
   "outputs": [],
   "source": [
    "# load Arabic frequency list from text\n",
    "with open('freq_lemmas_ar.pkl', 'rb') as file:\n",
    "    freq_lemmas_ar = pickle.load(file)"
   ]
  },
  {
   "cell_type": "code",
   "execution_count": 15,
   "metadata": {
    "ExecuteTime": {
     "end_time": "2021-02-20T13:59:33.325959Z",
     "start_time": "2021-02-20T13:59:33.319829Z"
    },
    "hidden": true
   },
   "outputs": [],
   "source": [
    "# normalize text by removing diacritics and dealing with different forms of alif\n",
    "def normalize_ar(token):\n",
    "    # strip Arabic diacritics\n",
    "    token = re.compile(r'[\\u064B-\\u065F]').sub('', token)\n",
    "    # replace Hamzated Alif with Alif bare\n",
    "    token = re.compile(r'[\\u0622\\u0623\\u0625]').sub('\\u0627', token)\n",
    "    # replace alifMaqsura with Yaa\n",
    "    token = re.compile(r'[\\u0649]').sub('\\u064A', token)\n",
    "    \n",
    "    return token"
   ]
  },
  {
   "cell_type": "code",
   "execution_count": 9,
   "metadata": {
    "ExecuteTime": {
     "end_time": "2021-02-20T13:58:45.451854Z",
     "start_time": "2021-02-20T13:58:45.444421Z"
    },
    "hidden": true
   },
   "outputs": [],
   "source": [
    "# keep only the first token from every row of a frequency list that is not from text\n",
    "def normalize_freq_list(freq_list):\n",
    "    keys = freq_list\\\n",
    "        .apply(normalize_ar)\\\n",
    "        .apply(lambda x: re.sub(r'^\\W+', '', x))\\\n",
    "        .apply(lambda x: re.sub(r'\\W+.*', '', x))\\\n",
    "        .drop_duplicates()\\\n",
    "        .reset_index(drop=True)\n",
    "    \n",
    "    freq_list = {\n",
    "        key: len(keys) - index for index, key in keys.iteritems()\n",
    "    }\n",
    "    \n",
    "    return freq_list"
   ]
  },
  {
   "cell_type": "code",
   "execution_count": 250,
   "metadata": {
    "ExecuteTime": {
     "end_time": "2021-02-19T16:05:10.479758Z",
     "start_time": "2021-02-19T16:05:10.330939Z"
    },
    "hidden": true
   },
   "outputs": [
    {
     "data": {
      "text/plain": [
       "{'الـ': 4569,\n",
       " 'و': 4568,\n",
       " 'في': 4567,\n",
       " 'من': 4566,\n",
       " 'لـ': 4565,\n",
       " 'بـ': 4564,\n",
       " 'علي': 4563,\n",
       " 'ان': 4562,\n",
       " 'الي': 4561,\n",
       " 'كان': 4560,\n",
       " 'لا': 4559,\n",
       " 'الله': 4558,\n",
       " 'عن': 4557,\n",
       " 'قال': 4556,\n",
       " 'هذا': 4555,\n",
       " 'مع': 4554,\n",
       " 'التي': 4553,\n",
       " 'كل': 4552,\n",
       " 'هو': 4551,\n",
       " 'فـ': 4550,\n",
       " 'هذه': 4549,\n",
       " 'او': 4548,\n",
       " 'الذي': 4547,\n",
       " 'انا': 4546,\n",
       " 'يوم': 4545,\n",
       " 'لم': 4544,\n",
       " 'ما': 4543,\n",
       " 'بين': 4542,\n",
       " 'هي': 4541,\n",
       " 'بعد': 4540,\n",
       " 'يا': 4539,\n",
       " 'ذلك': 4538,\n",
       " 'قد': 4537,\n",
       " 'اخر': 4536,\n",
       " 'شيء': 4535,\n",
       " 'عند': 4534,\n",
       " 'اول': 4533,\n",
       " 'غير': 4532,\n",
       " 'اذا': 4531,\n",
       " 'نفس': 4530,\n",
       " 'عربي': 4529,\n",
       " 'اي': 4528,\n",
       " 'رئيس': 4527,\n",
       " 'عمل': 4526,\n",
       " 'عرف': 4525,\n",
       " 'بعض': 4524,\n",
       " 'دولة': 4523,\n",
       " 'كما': 4522,\n",
       " 'الا': 4521,\n",
       " 'انت': 4520,\n",
       " 'كثير': 4519,\n",
       " 'واحد': 4518,\n",
       " 'لان': 4517,\n",
       " 'لكن': 4516,\n",
       " 'ليس': 4515,\n",
       " 'جديد': 4514,\n",
       " 'عام': 4513,\n",
       " 'احد': 4512,\n",
       " 'اكثر': 4511,\n",
       " 'كبير': 4510,\n",
       " 'اخ': 4509,\n",
       " 'كيف': 4508,\n",
       " 'قبل': 4507,\n",
       " 'سنة': 4506,\n",
       " 'امر': 4505,\n",
       " 'قوة': 4504,\n",
       " 'هل': 4503,\n",
       " 'خلال': 4502,\n",
       " 'مرة': 4501,\n",
       " 'راي': 4500,\n",
       " 'اب': 4499,\n",
       " 'هناك': 4498,\n",
       " 'تم': 4497,\n",
       " 'حيث': 4496,\n",
       " 'ثان': 4495,\n",
       " 'حتي': 4494,\n",
       " 'جميع': 4493,\n",
       " 'منطقة': 4492,\n",
       " 'حق': 4491,\n",
       " 'امريكي': 4490,\n",
       " 'مثل': 4489,\n",
       " 'لو': 4488,\n",
       " 'اسم': 4487,\n",
       " 'امكن': 4486,\n",
       " 'رجل': 4485,\n",
       " 'عالم': 4484,\n",
       " 'حياة': 4483,\n",
       " 'موضوع': 4482,\n",
       " 'وزير': 4481,\n",
       " 'نحن': 4480,\n",
       " 'وقت': 4479,\n",
       " 'بلد': 4478,\n",
       " 'مجلس': 4477,\n",
       " 'قام': 4476,\n",
       " 'حكومة': 4475,\n",
       " 'بيت': 4474,\n",
       " 'دون': 4473,\n",
       " 'سياسي': 4472,\n",
       " 'فلسطيني': 4471,\n",
       " 'ثم': 4470,\n",
       " 'جاء': 4469,\n",
       " 'قلب': 4468,\n",
       " 'الف': 4467,\n",
       " 'اللي': 4466,\n",
       " 'راح': 4465,\n",
       " 'ناس': 4464,\n",
       " 'طريق': 4463,\n",
       " 'ارض': 4462,\n",
       " 'سبب': 4461,\n",
       " 'شركة': 4460,\n",
       " 'عدد': 4459,\n",
       " 'صورة': 4458,\n",
       " 'دولي': 4457,\n",
       " 'شعب': 4456,\n",
       " 'عاد': 4455,\n",
       " 'شاء': 4454,\n",
       " 'اراد': 4453,\n",
       " 'اهل': 4452,\n",
       " 'تلك': 4451,\n",
       " 'عين': 4450,\n",
       " 'الذين': 4449,\n",
       " 'شكل': 4448,\n",
       " 'عملية': 4447,\n",
       " 'اما': 4446,\n",
       " 'خاص': 4445,\n",
       " 'حول': 4444,\n",
       " 'عني': 4443,\n",
       " 'وجد': 4442,\n",
       " 'خير': 4441,\n",
       " 'شو': 4440,\n",
       " 'اه': 4439,\n",
       " 'وطني': 4438,\n",
       " 'مدينة': 4437,\n",
       " 'ابن': 4436,\n",
       " 'ايضا': 4435,\n",
       " 'طيب': 4434,\n",
       " 'يد': 4433,\n",
       " 'سـ': 4432,\n",
       " 'مشروع': 4431,\n",
       " 'ثلاثة': 4430,\n",
       " 'صوت': 4429,\n",
       " 'امام': 4428,\n",
       " 'سمع': 4427,\n",
       " 'نسبة': 4426,\n",
       " 'بس': 4425,\n",
       " 'حال': 4424,\n",
       " 'شهر': 4423,\n",
       " 'هنا': 4422,\n",
       " 'بل': 4421,\n",
       " 'برنامج': 4420,\n",
       " 'لن': 4419,\n",
       " 'ام': 4418,\n",
       " 'ايه': 4417,\n",
       " 'حرب': 4416,\n",
       " 'عندما': 4415,\n",
       " 'وضع': 4414,\n",
       " 'هم': 4413,\n",
       " 'دور': 4412,\n",
       " 'وجه': 4411,\n",
       " 'جد': 4410,\n",
       " 'بدا': 4409,\n",
       " 'كلمة': 4408,\n",
       " 'طفل': 4407,\n",
       " 'منذ': 4406,\n",
       " 'لدي': 4405,\n",
       " 'عراقي': 4404,\n",
       " 'اصبح': 4403,\n",
       " 'مكان': 4402,\n",
       " 'صار': 4401,\n",
       " 'مشكلة': 4400,\n",
       " 'عشرة': 4399,\n",
       " 'وصل': 4398,\n",
       " 'اسلامي': 4397,\n",
       " 'ساعة': 4396,\n",
       " 'شيخ': 4395,\n",
       " 'اكد': 4394,\n",
       " 'سلام': 4393,\n",
       " 'سيد': 4392,\n",
       " 'صاحب': 4391,\n",
       " 'عدم': 4390,\n",
       " 'ها': 4389,\n",
       " 'حركة': 4388,\n",
       " 'رب': 4387,\n",
       " 'اكبر': 4386,\n",
       " 'كتاب': 4385,\n",
       " 'حد': 4384,\n",
       " 'اخذ': 4383,\n",
       " 'نظام': 4382,\n",
       " 'ذات': 4381,\n",
       " 'نعم': 4380,\n",
       " 'قضية': 4379,\n",
       " 'ماض': 4378,\n",
       " 'انسان': 4377,\n",
       " 'حالة': 4376,\n",
       " 'اخير': 4375,\n",
       " 'رغم': 4374,\n",
       " 'جانب': 4373,\n",
       " 'حب': 4372,\n",
       " 'جامعة': 4371,\n",
       " 'قرار': 4370,\n",
       " 'لبناني': 4369,\n",
       " 'لقد': 4368,\n",
       " 'زال': 4367,\n",
       " 'راس': 4366,\n",
       " 'تحت': 4365,\n",
       " 'وزارة': 4364,\n",
       " 'هدف': 4363,\n",
       " 'علاقة': 4362,\n",
       " 'شكرا': 4361,\n",
       " 'متحد': 4360,\n",
       " 'مجتمع': 4359,\n",
       " 'مركز': 4358,\n",
       " 'حكي': 4357,\n",
       " 'نتيجة': 4356,\n",
       " 'اخت': 4355,\n",
       " 'ادارة': 4354,\n",
       " 'مسلم': 4353,\n",
       " 'صغير': 4352,\n",
       " 'قانون': 4351,\n",
       " 'اسرائيلي': 4350,\n",
       " 'بما': 4349,\n",
       " 'استطاع': 4348,\n",
       " 'ماء': 4347,\n",
       " 'امس': 4346,\n",
       " 'امن': 4345,\n",
       " 'مش': 4344,\n",
       " 'قدم': 4343,\n",
       " 'شخص': 4342,\n",
       " 'كلام': 4341,\n",
       " 'موقع': 4340,\n",
       " 'مئة': 4339,\n",
       " 'حين': 4338,\n",
       " 'داخل': 4337,\n",
       " 'وحدة': 4336,\n",
       " 'امة': 4335,\n",
       " 'مهم': 4334,\n",
       " 'مليون': 4333,\n",
       " 'سيارة': 4332,\n",
       " 'بنت': 4331,\n",
       " 'دكتور': 4330,\n",
       " 'فعل': 4329,\n",
       " 'حلو': 4328,\n",
       " 'فريق': 4327,\n",
       " 'بقي': 4326,\n",
       " 'لجنة': 4325,\n",
       " 'مختلف': 4324,\n",
       " 'وجب': 4323,\n",
       " 'نظر': 4322,\n",
       " 'مجال': 4321,\n",
       " 'فترة': 4320,\n",
       " 'شب': 4319,\n",
       " 'شان': 4318,\n",
       " 'ذكر': 4317,\n",
       " 'سؤال': 4316,\n",
       " 'وجود': 4315,\n",
       " 'حل': 4314,\n",
       " 'طالب': 4313,\n",
       " 'مستوي': 4312,\n",
       " 'فقط': 4311,\n",
       " 'ماذا': 4310,\n",
       " 'ولاية': 4309,\n",
       " 'عضو': 4308,\n",
       " 'ع': 4307,\n",
       " 'عمر': 4306,\n",
       " 'شاف': 4305,\n",
       " 'دائم': 4304,\n",
       " 'سابق': 4303,\n",
       " 'خبر': 4302,\n",
       " 'تاريخ': 4301,\n",
       " 'دراسة': 4300,\n",
       " 'موقف': 4299,\n",
       " 'حزب': 4298,\n",
       " 'مؤسسة': 4297,\n",
       " 'اضاف': 4296,\n",
       " 'قطاع': 4295,\n",
       " 'مجموعة': 4294,\n",
       " 'سلم': 4293,\n",
       " 'سوق': 4292,\n",
       " 'حمد': 4291,\n",
       " 'دخل': 4290,\n",
       " 'باب': 4289,\n",
       " 'مما': 4288,\n",
       " 'اجل': 4287,\n",
       " 'اتحاد': 4286,\n",
       " 'تحقيق': 4285,\n",
       " 'مدرسة': 4284,\n",
       " 'جميل': 4283,\n",
       " 'نوع': 4282,\n",
       " 'طلع': 4281,\n",
       " 'خدمة': 4280,\n",
       " 'عالمي': 4279,\n",
       " 'فيما': 4278,\n",
       " 'حالي': 4277,\n",
       " 'حكم': 4276,\n",
       " 'اشار': 4275,\n",
       " 'جهة': 4274,\n",
       " 'نحو': 4273,\n",
       " 'فيه': 4272,\n",
       " 'طويل': 4271,\n",
       " 'كذلك': 4270,\n",
       " 'حاول': 4269,\n",
       " 'قول': 4268,\n",
       " 'مراة': 4267,\n",
       " 'حقيقة': 4266,\n",
       " 'جعل': 4265,\n",
       " 'لما': 4264,\n",
       " 'سال': 4263,\n",
       " 'عاش': 4262,\n",
       " 'مواطن': 4261,\n",
       " 'سلطة': 4260,\n",
       " 'خمسة': 4259,\n",
       " 'اقتصادي': 4258,\n",
       " 'بحث': 4257,\n",
       " 'دين': 4256,\n",
       " 'حمل': 4255,\n",
       " 'عسكري': 4254,\n",
       " 'كم': 4253,\n",
       " 'جيش': 4252,\n",
       " 'جهاز': 4251,\n",
       " 'مشاركة': 4250,\n",
       " 'طبع': 4249,\n",
       " 'اعتبر': 4248,\n",
       " 'احب': 4247,\n",
       " 'اتي': 4246,\n",
       " 'بد': 4245,\n",
       " 'خرج': 4244,\n",
       " 'اعطي': 4243,\n",
       " 'حبيب': 4242,\n",
       " 'فوق': 4241,\n",
       " 'خارج': 4240,\n",
       " 'رقم': 4239,\n",
       " 'ضد': 4238,\n",
       " 'جري': 4237,\n",
       " 'مسؤول': 4236,\n",
       " 'بعيد': 4235,\n",
       " 'اربعة': 4234,\n",
       " 'كتب': 4233,\n",
       " 'نائب': 4232,\n",
       " 'خاصة': 4231,\n",
       " 'ولد': 4230,\n",
       " 'دم': 4229,\n",
       " 'صحيح': 4228,\n",
       " 'اسلام': 4227,\n",
       " 'مرحلة': 4226,\n",
       " 'ثالث': 4225,\n",
       " 'اجتماعي': 4224,\n",
       " 'حديث': 4223,\n",
       " 'سياسة': 4222,\n",
       " 'طرف': 4221,\n",
       " 'ا': 4220,\n",
       " 'وطن': 4219,\n",
       " 'ربما': 4218,\n",
       " 'لماذا': 4217,\n",
       " 'قليل': 4216,\n",
       " 'علم': 4215,\n",
       " 'مدير': 4214,\n",
       " 'نهاية': 4213,\n",
       " 'مصري': 4212,\n",
       " 'اضافة': 4211,\n",
       " 'واقع': 4210,\n",
       " 'كامل': 4209,\n",
       " 'عبر': 4208,\n",
       " 'شرق': 4207,\n",
       " 'ظل': 4206,\n",
       " 'تعليم': 4205,\n",
       " 'روح': 4204,\n",
       " 'افضل': 4203,\n",
       " 'مال': 4202,\n",
       " 'ليل': 4201,\n",
       " 'اسبوع': 4200,\n",
       " 'مؤتمر': 4199,\n",
       " 'لقاء': 4198,\n",
       " 'رد': 4197,\n",
       " 'كي': 4196,\n",
       " 'صديق': 4195,\n",
       " 'دولار': 4194,\n",
       " 'بناء': 4193,\n",
       " 'طريقة': 4192,\n",
       " 'اعلي': 4191,\n",
       " 'ممكن': 4190,\n",
       " 'دعم': 4189,\n",
       " 'وين': 4188,\n",
       " 'مصدر': 4187,\n",
       " 'حدث': 4186,\n",
       " 'لحظة': 4185,\n",
       " 'فرصة': 4184,\n",
       " 'نادي': 4183,\n",
       " 'معلومة': 4182,\n",
       " 'هيئة': 4181,\n",
       " 'قصة': 4180,\n",
       " 'بداية': 4179,\n",
       " 'جنوب': 4178,\n",
       " 'دري': 4177,\n",
       " 'دعا': 4176,\n",
       " 'مباراة': 4175,\n",
       " 'تعالي': 4174,\n",
       " 'اذ': 4173,\n",
       " 'اعتقد': 4172,\n",
       " 'حسب': 4171,\n",
       " 'دقيقة': 4170,\n",
       " 'ملك': 4169,\n",
       " 'اعلن': 4168,\n",
       " 'قيمة': 4167,\n",
       " 'لاعب': 4166,\n",
       " 'ادي': 4165,\n",
       " 'مادة': 4164,\n",
       " 'خط': 4163,\n",
       " 'عرض': 4162,\n",
       " 'رسالة': 4161,\n",
       " 'انتخاب': 4160,\n",
       " 'هؤلاء': 4159,\n",
       " 'معني': 4158,\n",
       " 'نقطة': 4157,\n",
       " 'قوي': 4156,\n",
       " 'حوار': 4155,\n",
       " 'لغة': 4154,\n",
       " 'بلغ': 4153,\n",
       " 'سعر': 4152,\n",
       " 'حصل': 4151,\n",
       " 'اقل': 4150,\n",
       " 'قل': 4149,\n",
       " 'تمام': 4148,\n",
       " 'صباح': 4147,\n",
       " 'موجود': 4146,\n",
       " 'تمني': 4145,\n",
       " 'مرض': 4144,\n",
       " 'تحدث': 4143,\n",
       " 'اهم': 4142,\n",
       " 'طلب': 4141,\n",
       " 'صحة': 4140,\n",
       " 'وقع': 4139,\n",
       " 'سوف': 4138,\n",
       " 'اين': 4137,\n",
       " 'لازم': 4136,\n",
       " 'تعاون': 4135,\n",
       " 'زوج': 4134,\n",
       " 'لذلك': 4133,\n",
       " 'تال': 4132,\n",
       " 'شارع': 4131,\n",
       " 'نار': 4130,\n",
       " 'عديد': 4129,\n",
       " 'صلي': 4128,\n",
       " 'فكرة': 4127,\n",
       " 'ترك': 4126,\n",
       " 'درجة': 4125,\n",
       " 'اجتماع': 4124,\n",
       " 'قريب': 4123,\n",
       " 'وسط': 4122,\n",
       " 'سعودي': 4121,\n",
       " 'واضح': 4120,\n",
       " 'موت': 4119,\n",
       " 'خصوص': 4118,\n",
       " 'انما': 4117,\n",
       " 'مصلحة': 4116,\n",
       " 'اساس': 4115,\n",
       " 'صحيفة': 4114,\n",
       " 'وقف': 4113,\n",
       " 'جيد': 4112,\n",
       " 'ذهب': 4111,\n",
       " 'زيارة': 4110,\n",
       " 'رائع': 4109,\n",
       " 'اجراء': 4108,\n",
       " 'اتصال': 4107,\n",
       " 'دنيا': 4106,\n",
       " 'زوجة': 4105,\n",
       " 'تنفيذ': 4104,\n",
       " 'لون': 4103,\n",
       " 'قديم': 4102,\n",
       " 'قادم': 4101,\n",
       " 'كرة': 4100,\n",
       " 'زاد': 4099,\n",
       " 'عدة': 4098,\n",
       " 'عودة': 4097,\n",
       " 'عال': 4096,\n",
       " 'سوي': 4095,\n",
       " 'بحر': 4094,\n",
       " 'شعر': 4093,\n",
       " 'تقرير': 4092,\n",
       " 'مر': 4091,\n",
       " 'نساء': 4090,\n",
       " 'فتح': 4089,\n",
       " 'شهد': 4088,\n",
       " 'سلاح': 4087,\n",
       " 'اعادة': 4086,\n",
       " 'عم': 4085,\n",
       " 'ليلة': 4084,\n",
       " 'ثقافة': 4083,\n",
       " 'داخلي': 4082,\n",
       " 'منظمة': 4081,\n",
       " 'فكر': 4080,\n",
       " 'رسول': 4079,\n",
       " 'جزء': 4078,\n",
       " 'انتهي': 4077,\n",
       " 'غريب': 4076,\n",
       " 'غرفة': 4075,\n",
       " 'مرور': 4074,\n",
       " 'حرية': 4073,\n",
       " 'هكذا': 4072,\n",
       " 'هيك': 4071,\n",
       " 'زيادة': 4070,\n",
       " 'قائد': 4069,\n",
       " 'وسيلة': 4068,\n",
       " 'نقل': 4067,\n",
       " 'حقيقي': 4066,\n",
       " 'احتاج': 4065,\n",
       " 'مستقبل': 4064,\n",
       " 'محكمة': 4063,\n",
       " 'قيادة': 4062,\n",
       " 'دفاع': 4061,\n",
       " 'سبيل': 4060,\n",
       " 'انتي': 4059,\n",
       " 'علمي': 4058,\n",
       " 'بينما': 4057,\n",
       " 'اصل': 4056,\n",
       " 'امني': 4055,\n",
       " 'منزل': 4054,\n",
       " 'زمن': 4053,\n",
       " 'بيان': 4052,\n",
       " 'غربي': 4051,\n",
       " 'اثر': 4050,\n",
       " 'ضرورة': 4049,\n",
       " 'كريم': 4048,\n",
       " 'اساسي': 4047,\n",
       " 'ورقة': 4046,\n",
       " 'والد': 4045,\n",
       " 'جمعية': 4044,\n",
       " 'رسمي': 4043,\n",
       " 'استاذ': 4042,\n",
       " 'احتلال': 4041,\n",
       " 'ابيض': 4040,\n",
       " 'مكتب': 4039,\n",
       " 'منتدي': 4038,\n",
       " 'مقاومة': 4037,\n",
       " 'محلي': 4036,\n",
       " 'عظيم': 4035,\n",
       " 'اعلام': 4034,\n",
       " 'فرنسي': 4033,\n",
       " 'فيلم': 4032,\n",
       " 'طبيعي': 4031,\n",
       " 'شاب': 4030,\n",
       " 'وراء': 4029,\n",
       " 'سوري': 4028,\n",
       " 'وحد': 4027,\n",
       " 'فهم': 4026,\n",
       " 'بلا': 4025,\n",
       " 'دعوة': 4024,\n",
       " 'خطوة': 4023,\n",
       " 'ابد': 4022,\n",
       " 'تقديم': 4021,\n",
       " 'مدي': 4020,\n",
       " 'تجربة': 4019,\n",
       " 'وحيد': 4018,\n",
       " 'امير': 4017,\n",
       " 'مدة': 4016,\n",
       " 'ستة': 4015,\n",
       " 'تغيير': 4014,\n",
       " 'مات': 4013,\n",
       " 'دار': 4012,\n",
       " 'دخول': 4011,\n",
       " 'اهمية': 4010,\n",
       " 'صعب': 4009,\n",
       " 'مقبل': 4008,\n",
       " 'دورة': 4007,\n",
       " 'نشاط': 4006,\n",
       " 'ضمن': 4005,\n",
       " 'اوروبي': 4004,\n",
       " 'فني': 4003,\n",
       " 'اوضح': 4002,\n",
       " 'قدرة': 4001,\n",
       " 'نصف': 4000,\n",
       " 'صراحة': 3999,\n",
       " 'جماعة': 3998,\n",
       " 'معرفة': 3997,\n",
       " 'ظهر': 3996,\n",
       " 'مواجهة': 3995,\n",
       " 'رجع': 3994,\n",
       " 'ايا': 3993,\n",
       " 'عشرون': 3992,\n",
       " 'بطولة': 3991,\n",
       " 'نجاح': 3990,\n",
       " 'شرطة': 3989,\n",
       " 'لعب': 3988,\n",
       " 'تنمية': 3987,\n",
       " 'حاجة': 3986,\n",
       " 'تطوير': 3985,\n",
       " 'شمال': 3984,\n",
       " 'بنك': 3983,\n",
       " 'فرد': 3982,\n",
       " 'عامل': 3981,\n",
       " 'ثقافي': 3980,\n",
       " 'قاعدة': 3979,\n",
       " 'عادي': 3978,\n",
       " 'اكيد': 3977,\n",
       " 'سواء': 3976,\n",
       " 'يومي': 3975,\n",
       " 'صلاة': 3974,\n",
       " 'شاعر': 3973,\n",
       " 'حلم': 3972,\n",
       " 'وصول': 3971,\n",
       " 'قتل': 3970,\n",
       " 'سرعة': 3969,\n",
       " 'عزيز': 3968,\n",
       " 'مساء': 3967,\n",
       " 'عنوان': 3966,\n",
       " 'طبيب': 3965,\n",
       " 'استخدام': 3964,\n",
       " 'عقل': 3963,\n",
       " 'عيد': 3962,\n",
       " 'امل': 3961,\n",
       " 'خارجية': 3960,\n",
       " 'دفع': 3959,\n",
       " 'قيام': 3958,\n",
       " 'منتخب': 3957,\n",
       " 'اثنان': 3956,\n",
       " 'جندي': 3955,\n",
       " 'اذن': 3954,\n",
       " 'اتفاق': 3953,\n",
       " 'نور': 3952,\n",
       " 'شديد': 3951,\n",
       " 'شعبي': 3950,\n",
       " 'محافظة': 3949,\n",
       " 'انتظر': 3948,\n",
       " 'ظرف': 3947,\n",
       " 'اسرة': 3946,\n",
       " 'قرية': 3945,\n",
       " 'مقابل': 3944,\n",
       " 'جو': 3943,\n",
       " 'وكالة': 3942,\n",
       " 'خطة': 3941,\n",
       " 'مدني': 3940,\n",
       " 'شارك': 3939,\n",
       " 'نزل': 3938,\n",
       " 'صح': 3937,\n",
       " 'ازمة': 3936,\n",
       " 'مملكة': 3935,\n",
       " 'اطلاق': 3934,\n",
       " 'اوسط': 3933,\n",
       " 'محاولة': 3932,\n",
       " 'قدر': 3931,\n",
       " 'اسود': 3930,\n",
       " 'قسم': 3929,\n",
       " 'تحديد': 3928,\n",
       " 'خلف': 3927,\n",
       " 'شمس': 3926,\n",
       " 'مزيد': 3925,\n",
       " 'تعرض': 3924,\n",
       " 'سبعة': 3923,\n",
       " 'اهتمام': 3922,\n",
       " 'ديني': 3921,\n",
       " 'مساعدة': 3920,\n",
       " 'كافة': 3919,\n",
       " 'عبد': 3918,\n",
       " 'غرب': 3917,\n",
       " 'عاصمة': 3916,\n",
       " 'اطار': 3915,\n",
       " 'صحي': 3914,\n",
       " 'مشكور': 3913,\n",
       " 'حضور': 3912,\n",
       " 'محل': 3911,\n",
       " 'يهودي': 3910,\n",
       " 'تنظيم': 3909,\n",
       " 'رياضة': 3908,\n",
       " 'فضل': 3907,\n",
       " 'اثناء': 3906,\n",
       " 'حقق': 3905,\n",
       " 'رفض': 3904,\n",
       " 'شخصية': 3903,\n",
       " 'امين': 3902,\n",
       " 'مستشفي': 3901,\n",
       " 'ولا': 3900,\n",
       " 'طول': 3899,\n",
       " 'رابع': 3898,\n",
       " 'كذا': 3897,\n",
       " 'طاقة': 3896,\n",
       " 'مين': 3895,\n",
       " 'قائل': 3894,\n",
       " 'كاتب': 3893,\n",
       " 'معروف': 3892,\n",
       " 'رياضي': 3891,\n",
       " 'اتصل': 3890,\n",
       " 'اجنبي': 3889,\n",
       " 'جمهور': 3888,\n",
       " 'هاي': 3887,\n",
       " 'استمر': 3886,\n",
       " 'قرا': 3885,\n",
       " 'سماء': 3884,\n",
       " 'هذي': 3883,\n",
       " 'نسي': 3882,\n",
       " 'جهد': 3881,\n",
       " 'شهيد': 3880,\n",
       " 'رفع': 3879,\n",
       " 'عادة': 3878,\n",
       " 'ضغط': 3877,\n",
       " 'سهم': 3876,\n",
       " 'زمان': 3875,\n",
       " 'مسالة': 3874,\n",
       " 'كون': 3873,\n",
       " 'جريمة': 3872,\n",
       " 'ارهاب': 3871,\n",
       " 'شوي': 3870,\n",
       " 'نهائي': 3869,\n",
       " 'جسم': 3868,\n",
       " 'حساب': 3867,\n",
       " 'انساني': 3866,\n",
       " 'ساكن': 3865,\n",
       " 'شغل': 3864,\n",
       " 'علاج': 3863,\n",
       " 'يعني': 3862,\n",
       " 'اقامة': 3861,\n",
       " 'سعادة': 3860,\n",
       " 'مو': 3859,\n",
       " 'اصاب': 3858,\n",
       " 'اصيب': 3857,\n",
       " 'تعلق': 3856,\n",
       " 'حماية': 3855,\n",
       " 'اعتبار': 3854,\n",
       " 'تقدم': 3853,\n",
       " 'شخصي': 3852,\n",
       " 'شخصيا': 3851,\n",
       " 'مشير': 3850,\n",
       " 'شبكة': 3849,\n",
       " 'زواج': 3848,\n",
       " 'خارجي': 3847,\n",
       " 'مجرد': 3846,\n",
       " 'بمجرد': 3845,\n",
       " 'لمجرد': 3844,\n",
       " 'قرر': 3843,\n",
       " 'كمان': 3842,\n",
       " 'حديثا': 3841,\n",
       " 'بال': 3840,\n",
       " 'خطر': 3839,\n",
       " 'كشف': 3838,\n",
       " 'ذو': 3837,\n",
       " 'غد': 3836,\n",
       " 'احسن': 3835,\n",
       " 'ملف': 3834,\n",
       " 'حجم': 3833,\n",
       " 'شرط': 3832,\n",
       " 'وفقا': 3831,\n",
       " 'عنصر': 3830,\n",
       " 'مناسبة': 3829,\n",
       " 'مناسبات': 3828,\n",
       " 'بالمناسبة': 3827,\n",
       " 'اللهم': 3826,\n",
       " 'غال': 3825,\n",
       " 'صدر': 3824,\n",
       " 'سمح': 3823,\n",
       " 'فوز': 3822,\n",
       " 'سجن': 3821,\n",
       " 'فتاة': 3820,\n",
       " 'سر': 3819,\n",
       " 'سرا': 3818,\n",
       " 'حر': 3817,\n",
       " 'مسؤولية': 3816,\n",
       " 'نشر': 3815,\n",
       " 'صناعة': 3814,\n",
       " 'قمة': 3813,\n",
       " 'عدو': 3812,\n",
       " 'ناحية': 3811,\n",
       " 'مطلوب': 3810,\n",
       " 'استثمار': 3809,\n",
       " 'توقع': 3808,\n",
       " 'استمرار': 3807,\n",
       " 'باستمرار': 3806,\n",
       " 'مناسب': 3805,\n",
       " 'حوالي': 3804,\n",
       " 'حضر': 3803,\n",
       " 'امارة': 3802,\n",
       " 'خطا': 3801,\n",
       " 'تحية': 3800,\n",
       " 'نبي': 3799,\n",
       " 'تطور': 3798,\n",
       " 'متي': 3797,\n",
       " 'اصابة': 3796,\n",
       " 'فن': 3795,\n",
       " 'سار': 3794,\n",
       " 'مهمة': 3793,\n",
       " 'مهمات': 3792,\n",
       " 'حزن': 3791,\n",
       " 'مريض': 3790,\n",
       " 'مشترك': 3789,\n",
       " 'جمهورية': 3788,\n",
       " 'واسع': 3787,\n",
       " 'ده': 3786,\n",
       " 'قادر': 3785,\n",
       " 'حاكم': 3784,\n",
       " 'تربية': 3783,\n",
       " 'جبل': 3782,\n",
       " 'اطلق': 3781,\n",
       " 'جلسة': 3780,\n",
       " 'حي': 3779,\n",
       " 'عد': 3778,\n",
       " 'عافية': 3777,\n",
       " 'تجاري': 3776,\n",
       " 'القران': 3775,\n",
       " 'اغنية': 3774,\n",
       " 'رئيسي': 3773,\n",
       " 'كاس': 3772,\n",
       " 'معظم': 3771,\n",
       " 'شك': 3770,\n",
       " 'قناة': 3769,\n",
       " 'انتاج': 3768,\n",
       " 'حصول': 3767,\n",
       " 'معين': 3766,\n",
       " 'بسيط': 3765,\n",
       " 'عائلة': 3764,\n",
       " 'مسجد': 3763,\n",
       " 'سريع': 3762,\n",
       " 'سريعا': 3761,\n",
       " 'سلامة': 3760,\n",
       " 'مالية': 3759,\n",
       " 'اتجاه': 3758,\n",
       " 'صمت': 3757,\n",
       " 'سعي': 3756,\n",
       " 'اقام': 3755,\n",
       " 'خوف': 3754,\n",
       " 'خوفا': 3753,\n",
       " 'ضوء': 3752,\n",
       " 'بدل': 3751,\n",
       " 'بدلا': 3750,\n",
       " 'طبي': 3749,\n",
       " 'دائرة': 3748,\n",
       " 'رئاسة': 3747,\n",
       " 'ارتفاع': 3746,\n",
       " 'كـ': 3745,\n",
       " 'كالتالي': 3744,\n",
       " 'بطل': 3743,\n",
       " 'خروج': 3742,\n",
       " 'اعلان': 3741,\n",
       " 'عقد': 3740,\n",
       " 'ثمانية': 3739,\n",
       " 'ثقيل': 3738,\n",
       " 'سجل': 3737,\n",
       " 'ساحة': 3736,\n",
       " 'عصر': 3735,\n",
       " 'نووي': 3734,\n",
       " 'فرقة': 3733,\n",
       " 'قرن': 3732,\n",
       " 'حكومي': 3731,\n",
       " 'رؤية': 3730,\n",
       " 'تجارة': 3729,\n",
       " 'تابع': 3728,\n",
       " 'تصريح': 3727,\n",
       " 'صراع': 3726,\n",
       " 'تعامل': 3725,\n",
       " 'عهد': 3724,\n",
       " 'كلية': 3723,\n",
       " 'ثقة': 3722,\n",
       " 'ضبط': 3721,\n",
       " 'بالضبط': 3720,\n",
       " 'سمي': 3719,\n",
       " 'عاني': 3718,\n",
       " 'معلم': 3717,\n",
       " 'عنف': 3716,\n",
       " 'طبيعة': 3715,\n",
       " 'ممثل': 3714,\n",
       " 'عبارة': 3713,\n",
       " 'بعبارة': 3712,\n",
       " 'صف': 3711,\n",
       " 'تحرير': 3710,\n",
       " 'بريطاني': 3709,\n",
       " 'مضي': 3708,\n",
       " 'سمو': 3707,\n",
       " 'مباشر': 3706,\n",
       " 'تقريب': 3705,\n",
       " 'تقريبا': 3704,\n",
       " 'نص': 3703,\n",
       " 'موظف': 3702,\n",
       " 'صفحة': 3701,\n",
       " 'مسلح': 3700,\n",
       " 'حملة': 3699,\n",
       " 'باق': 3698,\n",
       " 'شكر': 3697,\n",
       " 'لعل': 3696,\n",
       " 'تدريب': 3695,\n",
       " 'قراءة': 3694,\n",
       " 'جلس': 3693,\n",
       " 'فنان': 3692,\n",
       " 'تكلم': 3691,\n",
       " 'احمر': 3690,\n",
       " 'بقية': 3689,\n",
       " 'الم': 3688,\n",
       " 'نوم': 3687,\n",
       " 'ضم': 3686,\n",
       " 'علشان': 3685,\n",
       " 'دليل': 3684,\n",
       " 'رغبة': 3683,\n",
       " 'توقف': 3682,\n",
       " 'قائم': 3681,\n",
       " 'صحفي': 3680,\n",
       " 'صهيوني': 3679,\n",
       " 'محطة': 3678,\n",
       " 'مليار': 3677,\n",
       " 'ديمقراطي': 3676,\n",
       " 'ايراني': 3675,\n",
       " 'اصلاح': 3674,\n",
       " 'اصلاحات': 3673,\n",
       " 'اداء': 3672,\n",
       " 'نفط': 3671,\n",
       " 'صالح': 3670,\n",
       " 'سلطان': 3669,\n",
       " 'نوعا': 3668,\n",
       " 'تغير': 3667,\n",
       " 'شامل': 3666,\n",
       " 'نجح': 3665,\n",
       " 'جمعة': 3664,\n",
       " 'شهادة': 3663,\n",
       " 'التابعون': 3662,\n",
       " 'خلاف': 3661,\n",
       " 'اختيار': 3660,\n",
       " 'ذكري': 3659,\n",
       " 'ذكريات': 3658,\n",
       " 'زين': 3657,\n",
       " 'مبلغ': 3656,\n",
       " 'جسد': 3655,\n",
       " 'رجا': 3654,\n",
       " 'كتابة': 3653,\n",
       " 'انشاء': 3652,\n",
       " 'سيدة': 3651,\n",
       " 'اقتصاد': 3650,\n",
       " 'معركة': 3649,\n",
       " 'بارك': 3648,\n",
       " 'رحمة': 3647,\n",
       " 'طائرة': 3646,\n",
       " 'كلما': 3645,\n",
       " 'دمع': 3644,\n",
       " 'دمعة': 3643,\n",
       " 'كفي': 3642,\n",
       " 'قرب': 3641,\n",
       " 'بالقرب': 3640,\n",
       " 'موسم': 3639,\n",
       " 'مالي': 3638,\n",
       " 'نهار': 3637,\n",
       " 'نهارا': 3636,\n",
       " 'تمكن': 3635,\n",
       " 'دام': 3634,\n",
       " 'جنة': 3633,\n",
       " 'كاد': 3632,\n",
       " 'تطبيق': 3631,\n",
       " 'اخضر': 3630,\n",
       " 'ممارسة': 3629,\n",
       " 'صدق': 3628,\n",
       " 'وفد': 3627,\n",
       " 'نفسي': 3626,\n",
       " 'تقدير': 3625,\n",
       " 'تقديرا': 3624,\n",
       " 'خليج': 3623,\n",
       " 'نظرة': 3622,\n",
       " 'عكس': 3621,\n",
       " 'قصيدة': 3620,\n",
       " 'استقرار': 3619,\n",
       " 'تشكيل': 3618,\n",
       " 'مستمر': 3617,\n",
       " 'كدا': 3616,\n",
       " 'شجر': 3615,\n",
       " 'ديمقراطية': 3614,\n",
       " 'ذاك': 3613,\n",
       " 'موعد': 3612,\n",
       " 'بغي': 3611,\n",
       " 'واجه': 3610,\n",
       " 'ضابط': 3609,\n",
       " 'رحلة': 3608,\n",
       " 'معرض': 3607,\n",
       " 'جرح': 3606,\n",
       " 'خامس': 3605,\n",
       " 'توفير': 3604,\n",
       " 'سفير': 3603,\n",
       " 'كومبيوتر': 3602,\n",
       " 'اسلوب': 3601,\n",
       " 'دوري': 3600,\n",
       " 'نجم': 3599,\n",
       " 'تاثير': 3598,\n",
       " 'قلم': 3597,\n",
       " 'مقالة': 3596,\n",
       " 'بدء': 3595,\n",
       " 'اظهر': 3594,\n",
       " 'سبق': 3593,\n",
       " 'لسان': 3592,\n",
       " 'سفر': 3591,\n",
       " 'غاية': 3590,\n",
       " 'للغاية': 3589,\n",
       " 'شمل': 3588,\n",
       " 'قطع': 3587,\n",
       " 'ثورة': 3586,\n",
       " 'بعدين': 3585,\n",
       " 'تاكيد': 3584,\n",
       " 'دينار': 3583,\n",
       " 'اشارة': 3582,\n",
       " 'ظن': 3581,\n",
       " 'بيئة': 3580,\n",
       " 'مسابقة': 3579,\n",
       " 'رعاية': 3578,\n",
       " 'خاف': 3577,\n",
       " 'القي': 3576,\n",
       " 'احترام': 3575,\n",
       " 'مفتوح': 3574,\n",
       " 'جاب': 3573,\n",
       " 'تحول': 3572,\n",
       " 'فجر': 3571,\n",
       " 'التقي': 3570,\n",
       " ...}"
      ]
     },
     "execution_count": 250,
     "metadata": {},
     "output_type": "execute_result"
    }
   ],
   "source": [
    "# load Arabic frequency list (not from text)\n",
    "freq_list_full_ar = pd.read_csv('Anki decks/freqlist.csv', header=0)\n",
    "    \n",
    "freq_list_ar = normalize_freq_list(freq_list_full_ar['Arabic'])\n",
    "\n",
    "freq_list_ar"
   ]
  },
  {
   "cell_type": "markdown",
   "metadata": {
    "heading_collapsed": true
   },
   "source": [
    "### Reverso"
   ]
  },
  {
   "cell_type": "markdown",
   "metadata": {
    "heading_collapsed": true,
    "hidden": true
   },
   "source": [
    "#### API functions"
   ]
  },
  {
   "cell_type": "code",
   "execution_count": 326,
   "metadata": {
    "ExecuteTime": {
     "end_time": "2021-02-10T14:46:15.062201Z",
     "start_time": "2021-02-10T14:46:15.051963Z"
    },
    "hidden": true
   },
   "outputs": [],
   "source": [
    "# get translations and example sentences from reverso\n",
    "def reverso(word):\n",
    "    try:\n",
    "        api = ReversoContextAPI(\n",
    "            source_text=word,\n",
    "            source_lang='ar',\n",
    "            target_lang='en'\n",
    "        )\n",
    "\n",
    "        translations = []\n",
    "        for i in islice(api.get_translations(), 10):\n",
    "#             try:\n",
    "            translations.append(i)\n",
    "#             except Exception as ex:\n",
    "#                 print(\n",
    "#                     'error\\t\\t\\t\\t\\t\\t\\treverso translations:\\t',\n",
    "#                     repr(ex)\n",
    "#                 )\n",
    "#                 sleep(10)\n",
    "#                 translations.append(i) \n",
    "\n",
    "        examples = []\n",
    "        for i in islice(api.get_examples(), 10):\n",
    "#             try:\n",
    "            examples.append(i)\n",
    "#             except Exception as ex:\n",
    "#                 print(\n",
    "#                     'error\\t\\t\\t\\t\\t\\t\\treverso examples:\\t',\n",
    "#                     repr(ex)\n",
    "#                 )\n",
    "#                 sleep(10)\n",
    "#                 examples.append(i)\n",
    "\n",
    "        result = {\n",
    "            'translations': translations,\n",
    "            'examples': examples\n",
    "        }\n",
    "    \n",
    "    except Exception as ex:\n",
    "        print(\n",
    "            'error\\t\\t\\t\\t\\t\\t\\treverso:\\t',\n",
    "            repr(ex)\n",
    "        )\n",
    "        sleep(10)\n",
    "        result = reverso(word)\n",
    "    \n",
    "    return result"
   ]
  },
  {
   "cell_type": "code",
   "execution_count": 327,
   "metadata": {
    "ExecuteTime": {
     "end_time": "2021-02-10T14:46:15.918139Z",
     "start_time": "2021-02-10T14:46:15.913143Z"
    },
    "hidden": true,
    "scrolled": true
   },
   "outputs": [],
   "source": [
    "# iterate over lemmas and deal with connection errors\n",
    "def api_calls(freq_list_translations, freq_list, n):\n",
    "    try:\n",
    "        keys = list(freq_list.keys())[n:]\n",
    "        for word in keys:\n",
    "#             try:\n",
    "            freq_list_translations[word] = reverso(word)\n",
    "#             except Exception as ex:\n",
    "#                 print(\n",
    "#                     'error\\t\\t\\t\\t\\t\\t\\tapi_calls for:\\t',\n",
    "#                     repr(ex)\n",
    "#                 )\n",
    "#                 sleep(10)\n",
    "#                 freq_list_translations[word] = reverso(word)\n",
    "            print(n, word)\n",
    "            n += 1\n",
    "    except Exception as ex:\n",
    "        print(\n",
    "            'error\\t\\t\\t\\t\\t\\t\\tapi_calls:\\t',\n",
    "            repr(ex)\n",
    "        )\n",
    "        sleep(10)\n",
    "        freq_list_translations = api_calls(freq_list_translations, n)\n",
    "    \n",
    "    return freq_list_translations"
   ]
  },
  {
   "cell_type": "markdown",
   "metadata": {
    "heading_collapsed": true,
    "hidden": true
   },
   "source": [
    "#### Getting translations and example sentences from Reverso"
   ]
  },
  {
   "cell_type": "code",
   "execution_count": 379,
   "metadata": {
    "ExecuteTime": {
     "end_time": "2021-02-10T15:08:50.391020Z",
     "start_time": "2021-02-10T15:08:50.376132Z"
    },
    "hidden": true
   },
   "outputs": [
    {
     "name": "stdout",
     "output_type": "stream",
     "text": [
      "2500\n",
      "0\n"
     ]
    }
   ],
   "source": [
    "# list of lemmas to get sentences for\n",
    "freq_list = dict(freq_lemmas_ar.most_common(2500))\n",
    "print(len(freq_list))\n",
    "\n",
    "# remove any lemmas that already have translations\n",
    "for i in set(freq_list.keys()).intersection(set(freq_list_translations.keys())):\n",
    "    freq_list.pop(i)\n",
    "print(len(freq_list))"
   ]
  },
  {
   "cell_type": "code",
   "execution_count": 315,
   "metadata": {
    "ExecuteTime": {
     "end_time": "2021-02-10T14:43:19.999329Z",
     "start_time": "2021-02-10T14:30:33.785306Z"
    },
    "hidden": true,
    "scrolled": true
   },
   "outputs": [
    {
     "name": "stdout",
     "output_type": "stream",
     "text": [
      "0 ان\n",
      "1 الي\n",
      "2 امر\n",
      "3 انا\n",
      "4 اي\n",
      "5 اذا\n",
      "6 اخر\n",
      "7 لدي\n",
      "8 اراد\n",
      "9 ارض\n",
      "10 انت\n",
      "11 اب\n",
      "12 احد\n",
      "13 اجل\n",
      "14 امام\n",
      "15 او\n",
      "16 ارتميس\n",
      "17 اكثر\n",
      "18 راي\n",
      "19 حتي\n",
      "20 سال\n",
      "21 اوكسجين\n",
      "22 اخذ\n",
      "23 امكن\n",
      "24 تاكيد\n",
      "25 عني\n",
      "26 افضل\n",
      "27 راس\n",
      "28 المنيوم\n",
      "29 اقل\n",
      "30 ماوي\n",
      "31 اول\n",
      "32 ايض\n",
      "33 اربع\n",
      "34 امسك\n",
      "35 اغلق\n",
      "36 اوه\n",
      "37 اتي\n",
      "38 اخرج\n",
      "39 الف\n",
      "40 احب\n",
      "41 اخير\n",
      "42 اسفل\n",
      "43 اسطوانة\n",
      "44 ادار\n",
      "45 اخبر\n",
      "46 ارتدي\n",
      "47 الدرين\n",
      "48 امن\n",
      "49 اشار\n",
      "50 انبوب\n",
      "51 انتهي\n",
      "52 ارجح\n",
      "53 اكبر\n",
      "54 اين\n",
      "55 شوي\n",
      "56 اعلي\n",
      "57 الا\n",
      "58 كفي\n",
      "59 اعطي\n",
      "60 تاكد\n",
      "61 القي\n",
      "62 مدي\n",
      "63 ام\n",
      "64 اطلاق\n",
      "65 اما\n",
      "66 اشول\n",
      "67 ارمسترونغ\n",
      "68 اكمل\n",
      "69 اسرع\n",
      "70 مراة\n",
      "71 اعاد\n",
      "72 اه\n",
      "73 اردف\n",
      "74 اوما\n",
      "75 اثر\n",
      "76 اعلم\n",
      "77 اوبلاسيو\n",
      "78 الكتروني\n",
      "79 ادني\n",
      "80 اصبع\n",
      "81 اشر\n",
      "82 ارضية\n",
      "83 انذار\n",
      "84 تمني\n",
      "85 ارسل\n",
      "86 اعد\n",
      "87 شان\n",
      "88 اضاف\n",
      "89 ابد\n",
      "90 الهي\n",
      "91 الم\n",
      "92 الفاريز\n",
      "93 اولائك\n",
      "94 امان\n",
      "95 اذن\n",
      "96 سمي\n",
      "97 متاكد\n",
      "98 انهي\n",
      "99 اقرب\n",
      "100 اطلق\n",
      "101 ايري\n",
      "102 ارسال\n",
      "103 اضافة\n",
      "104 اقصي\n",
      "105 احمر\n",
      "106 احكم\n",
      "107 مستوي\n",
      "108 اسبوع\n",
      "109 امراة\n",
      "110 منشاة\n",
      "111 اسف\n",
      "112 ملا\n",
      "113 غطي\n",
      "114 اصاب\n",
      "115 انتاج\n",
      "116 قضي\n",
      "117 ابعد\n",
      "118 امل\n",
      "119 انترنت\n",
      "120 اوكسيد\n",
      "121 اعادة\n",
      "122 كاس\n",
      "123 اسيتيلين\n",
      "124 اوصل\n",
      "125 اريكة\n",
      "126 الة\n",
      "127 اداة\n",
      "128 استطع\n",
      "error\t\t\t\t\t\t\treverso:\t <class 'Exception'>\n",
      "129 اهم\n",
      "130 ابقاء\n",
      "131 اغلاق\n",
      "132 اصدر\n",
      "133 اثار\n",
      "134 اربعون\n",
      "135 جري\n",
      "136 اكل\n",
      "137 اظهر\n",
      "138 ادارة\n",
      "139 اساسي\n",
      "140 اف\n",
      "141 اذهب\n",
      "142 اضافي\n",
      "143 ابوللو\n",
      "144 اسود\n",
      "145 انيق\n",
      "146 ازالة\n",
      "147 انقاذ\n",
      "148 اطول\n",
      "149 اطل\n",
      "150 احمق\n",
      "151 ايسرو\n",
      "152 ادرك\n",
      "153 امريكي\n",
      "154 اركيد\n",
      "155 اشبه\n",
      "156 ادخل\n",
      "157 اخبار\n",
      "158 احكام\n",
      "159 انام\n",
      "160 ادي\n",
      "161 اشارة\n",
      "162 اسوا\n",
      "163 قرا\n",
      "164 اخفق\n",
      "165 اجاب\n",
      "166 التقي\n",
      "167 خطا\n",
      "168 اصلاح\n",
      "169 اصغر\n",
      "170 معني\n",
      "171 انجليزية\n",
      "172 مالوف\n",
      "173 انشا\n",
      "174 باس\n",
      "175 اجابة\n",
      "176 اجراء\n",
      "177 اشتري\n",
      "178 اجر\n",
      "179 ابيض\n",
      "180 انجاز\n",
      "181 حمقي\n",
      "182 مغطي\n",
      "183 اشعاع\n",
      "184 انورثيت\n",
      "185 اوقف\n",
      "error\t\t\t\t\t\t\treverso:\t <class 'Exception'>\n",
      "186 افسد\n",
      "187 اتاح\n",
      "188 اعداد\n",
      "189 فجاة\n",
      "190 ازال\n",
      "191 اوتوماتي\n",
      "192 انبغي\n",
      "193 ايسر\n",
      "194 اقام\n",
      "195 احتوي\n",
      "196 اقر\n",
      "197 اخت\n",
      "198 امداد\n",
      "199 ايجاد\n",
      "200 ارو\n",
      "201 متاخر\n",
      "202 ابله\n",
      "203 حمي\n",
      "204 اسقط\n",
      "205 اجري\n",
      "206 متي\n",
      "207 اهذا\n",
      "208 الديك\n",
      "209 اسهل\n",
      "210 انزل\n",
      "211 اصل\n",
      "212 افقد\n",
      "213 مسالة\n",
      "214 لارتميس\n",
      "215 ارضي\n",
      "216 اعطاء\n",
      "217 فتي\n",
      "218 اصبح\n",
      "219 ازيز\n",
      "220 امامي\n",
      "221 امساك\n",
      "222 ولي\n",
      "223 جني\n",
      "224 تعالي\n",
      "225 افرغ\n",
      "226 اطار\n",
      "227 اسلوب\n",
      "228 استاجر\n",
      "229 اضفي\n",
      "230 نهي\n",
      "231 اخباري\n",
      "232 ايجار\n",
      "233 افق\n",
      "234 ار\n",
      "235 هدا\n",
      "236 اجرامي\n",
      "237 فوضي\n",
      "238 ايا\n",
      "239 اصابة\n",
      "240 احسن\n",
      "241 انجز\n",
      "242 القاء\n",
      "243 اجبر\n",
      "244 اولي\n",
      "245 اوسط\n",
      "246 ارجاء\n",
      "247 اثارة\n",
      "248 هوي\n",
      "249 اجمالي\n",
      "250 اغادر\n",
      "251 انتج\n",
      "252 ملهي\n",
      "253 اخفاء\n",
      "254 اساس\n",
      "255 ايقاع\n",
      "256 تاخير\n",
      "257 اقوي\n",
      "258 ايغل\n",
      "259 اشعال\n",
      "260 اله\n",
      "261 ابدي\n",
      "262 اصبعي\n",
      "263 اخمن\n",
      "264 امضي\n",
      "265 اندي\n",
      "266 اعلان\n",
      "267 مبني\n",
      "268 ازعاج\n",
      "269 متاهب\n",
      "270 محتوي\n",
      "271 اسيوي\n",
      "272 اراح\n",
      "273 احضار\n",
      "274 اشعل\n",
      "275 اعتني\n",
      "276 امني\n",
      "277 اقلق\n",
      "278 بني\n",
      "279 الصق\n",
      "280 انقذ\n",
      "281 ايثانول\n",
      "282 اعجاب\n",
      "283 عاني\n",
      "284 صدي\n",
      "285 اوربي\n",
      "286 اخبريني\n",
      "287 مجري\n",
      "288 احاط\n",
      "289 نشا\n",
      "290 اعلن\n",
      "291 ارجوحة\n",
      "292 ساستخدم\n",
      "293 منتهي\n",
      "294 ساتصل\n",
      "295 ارتجف\n",
      "296 ارفع\n",
      "297 بكي\n",
      "298 احرق\n",
      "299 افطار\n",
      "300 يمني\n",
      "301 اديم\n",
      "302 اسطوانتي\n",
      "303 تداعي\n",
      "304 اتستطيعين\n",
      "305 ارتمي\n",
      "306 انتم\n",
      "307 ازرق\n",
      "308 انفق\n",
      "309 امكانية\n",
      "310 تسني\n",
      "311 اسعد\n",
      "312 مفاجاة\n",
      "313 اشرق\n",
      "314 ارتميسي\n",
      "315 اهمية\n",
      "316 اهدار\n",
      "error\t\t\t\t\t\t\treverso:\t <class 'Exception'>\n",
      "317 اذي\n",
      "318 انف\n",
      "319 اثبات\n",
      "320 اقنعة\n",
      "321 قاسي\n",
      "322 اكد\n",
      "323 ادخر\n",
      "324 اهل\n",
      "325 ابيك\n",
      "326 اصدق\n",
      "327 اهذه\n",
      "328 انهض\n",
      "329 امال\n",
      "330 الان\n",
      "331 اخفي\n",
      "332 استدعي\n",
      "333 انسي\n",
      "334 اقسم\n",
      "335 اتمزح\n",
      "336 افاد\n",
      "337 اهدا\n",
      "338 صلي\n",
      "339 اقطع\n",
      "340 اكر\n",
      "341 اخضر\n",
      "342 مامن\n",
      "343 امير\n",
      "344 انزال\n",
      "345 اخلي\n",
      "346 تامل\n",
      "347 ايقاف\n",
      "348 شكوي\n",
      "349 اناقة\n",
      "350 ابدا\n",
      "351 افتقد\n",
      "352 ازعج\n",
      "353 تدلي\n",
      "354 افلت\n",
      "355 ايصال\n",
      "356 اعطني\n",
      "357 اقبل\n",
      "358 اوقع\n",
      "359 الغي\n",
      "360 اقتحم\n",
      "361 تاثير\n",
      "362 ادعي\n",
      "363 اتعرفين\n",
      "364 لاوبلاسيو\n",
      "365 اصفاد\n",
      "366 تاهب\n",
      "367 اتلقي\n",
      "368 امكان\n",
      "369 امهر\n",
      "370 ابرة\n",
      "371 افقر\n",
      "372 الحق\n",
      "373 احضر\n",
      "374 املس\n",
      "375 حوي\n",
      "376 انخرط\n"
     ]
    }
   ],
   "source": [
    "# get translations and examples for each lemma in freq_list\n",
    "freq_list_translations = api_calls(freq_list_translations, freq_list, 0)"
   ]
  },
  {
   "cell_type": "code",
   "execution_count": 381,
   "metadata": {
    "ExecuteTime": {
     "end_time": "2021-02-10T15:09:35.368878Z",
     "start_time": "2021-02-10T15:09:35.315219Z"
    },
    "hidden": true
   },
   "outputs": [
    {
     "name": "stdout",
     "output_type": "stream",
     "text": [
      "freq_list: 2500\n",
      "freq_list_translations: 2500\n",
      "Equal: True\n",
      "Difference: 0 0\n"
     ]
    }
   ],
   "source": [
    "# check that freq_list_translations has covered unique lemmas\n",
    "print(\n",
    "    'freq_list: {}\\nfreq_list_translations: {}\\nEqual: {}\\nDifference: {} {}'.format(\n",
    "        len(dict(freq_lemmas_ar.most_common(2500))),\n",
    "        len(freq_list_translations),\n",
    "        set(freq_list_translations.keys()) == set(dict(freq_lemmas_ar.most_common(2500)).keys()),\n",
    "        len(set(dict(freq_lemmas_ar.most_common(2500)).keys()).difference(set(freq_list_translations.keys()))),\n",
    "        len(set(freq_list_translations.keys()).difference(set(dict(freq_lemmas_ar.most_common(2500)).keys())))\n",
    "    )\n",
    ")"
   ]
  },
  {
   "cell_type": "code",
   "execution_count": 408,
   "metadata": {
    "ExecuteTime": {
     "end_time": "2021-02-10T15:20:26.593848Z",
     "start_time": "2021-02-10T15:20:25.849439Z"
    },
    "hidden": true
   },
   "outputs": [],
   "source": [
    "# pickle reverso translations\n",
    "with open('translations_reverso.pkl', 'wb') as file:\n",
    "    pickle.dump(freq_list_translations, file)"
   ]
  },
  {
   "cell_type": "markdown",
   "metadata": {
    "heading_collapsed": true,
    "hidden": true
   },
   "source": [
    "#### Scoring sentences"
   ]
  },
  {
   "cell_type": "code",
   "execution_count": 3,
   "metadata": {
    "ExecuteTime": {
     "end_time": "2021-02-20T10:10:17.918714Z",
     "start_time": "2021-02-20T10:10:17.434122Z"
    },
    "hidden": true
   },
   "outputs": [],
   "source": [
    "# load reverso translations\n",
    "with open('translations_reverso.pkl', 'rb') as file:\n",
    "    freq_list_translations = pickle.load(file)"
   ]
  },
  {
   "cell_type": "code",
   "execution_count": 57,
   "metadata": {
    "ExecuteTime": {
     "end_time": "2021-02-20T10:27:58.041915Z",
     "start_time": "2021-02-20T10:27:57.923992Z"
    },
    "hidden": true
   },
   "outputs": [
    {
     "data": {
      "text/html": [
       "<div>\n",
       "<style scoped>\n",
       "    .dataframe tbody tr th:only-of-type {\n",
       "        vertical-align: middle;\n",
       "    }\n",
       "\n",
       "    .dataframe tbody tr th {\n",
       "        vertical-align: top;\n",
       "    }\n",
       "\n",
       "    .dataframe thead th {\n",
       "        text-align: right;\n",
       "    }\n",
       "</style>\n",
       "<table border=\"1\" class=\"dataframe\">\n",
       "  <thead>\n",
       "    <tr style=\"text-align: right;\">\n",
       "      <th></th>\n",
       "      <th>text_source</th>\n",
       "      <th>text_target</th>\n",
       "    </tr>\n",
       "  </thead>\n",
       "  <tbody>\n",
       "    <tr>\n",
       "      <th>2305</th>\n",
       "      <td>\" يتدفّق منه ماء الذهب والفضّة واللازورد\"!</td>\n",
       "      <td>It flows with water of gold, silver, and lapis...</td>\n",
       "    </tr>\n",
       "    <tr>\n",
       "      <th>17689</th>\n",
       "      <td>\"... كل عصر له مسيح\"</td>\n",
       "      <td>'every era has a messiah...'</td>\n",
       "    </tr>\n",
       "    <tr>\n",
       "      <th>23326</th>\n",
       "      <td>\".تكون هنا لجمال و أناقة لغة الأُرديّة\"</td>\n",
       "      <td>\"Here's to the beauty and elegance of Urdu...\"</td>\n",
       "    </tr>\n",
       "    <tr>\n",
       "      <th>865</th>\n",
       "      <td>\"Eyeballing\" هي الطريقة الأكثر شيوعًا والمتاحة...</td>\n",
       "      <td>\"Eyeballing\" is the most common and readily av...</td>\n",
       "    </tr>\n",
       "    <tr>\n",
       "      <th>8540</th>\n",
       "      <td>\"آسفه من طلب\" كونج بآو</td>\n",
       "      <td>Sorry, who had the kung pao?</td>\n",
       "    </tr>\n",
       "    <tr>\n",
       "      <th>...</th>\n",
       "      <td>...</td>\n",
       "      <td>...</td>\n",
       "    </tr>\n",
       "    <tr>\n",
       "      <th>9983</th>\n",
       "      <td>٩ - السيدة سمولسك)أوروغواي(: تحدثت، باسم مقدمي...</td>\n",
       "      <td>Ms. Smolcic (Uruguay) said, on behalf of the s...</td>\n",
       "    </tr>\n",
       "    <tr>\n",
       "      <th>6467</th>\n",
       "      <td>٩- وتشيد اللجنة بالتدابير القانونية وادارية ال...</td>\n",
       "      <td>The Committee commends the legal and administr...</td>\n",
       "    </tr>\n",
       "    <tr>\n",
       "      <th>14823</th>\n",
       "      <td>٩-٣١ واهداف في مجال استثمار هي:</td>\n",
       "      <td>9.13 In the area of investment the objectives ...</td>\n",
       "    </tr>\n",
       "    <tr>\n",
       "      <th>21856</th>\n",
       "      <td>٩٤ - ويسمح اختيار نظام اتصال مع الساتل بالتشغي...</td>\n",
       "      <td>Selection of an uplink system allows for fully...</td>\n",
       "    </tr>\n",
       "    <tr>\n",
       "      <th>19528</th>\n",
       "      <td>٩٥١- وتفرض بعض اتفاقات التبادل التزاما على الم...</td>\n",
       "      <td>Some interchange agreements impose an obligati...</td>\n",
       "    </tr>\n",
       "  </tbody>\n",
       "</table>\n",
       "<p>23580 rows × 2 columns</p>\n",
       "</div>"
      ],
      "text/plain": [
       "                                             text_source  \\\n",
       "2305          \" يتدفّق منه ماء الذهب والفضّة واللازورد\"!   \n",
       "17689                               \"... كل عصر له مسيح\"   \n",
       "23326            \".تكون هنا لجمال و أناقة لغة الأُرديّة\"   \n",
       "865    \"Eyeballing\" هي الطريقة الأكثر شيوعًا والمتاحة...   \n",
       "8540                              \"آسفه من طلب\" كونج بآو   \n",
       "...                                                  ...   \n",
       "9983   ٩ - السيدة سمولسك)أوروغواي(: تحدثت، باسم مقدمي...   \n",
       "6467   ٩- وتشيد اللجنة بالتدابير القانونية وادارية ال...   \n",
       "14823                    ٩-٣١ واهداف في مجال استثمار هي:   \n",
       "21856  ٩٤ - ويسمح اختيار نظام اتصال مع الساتل بالتشغي...   \n",
       "19528  ٩٥١- وتفرض بعض اتفاقات التبادل التزاما على الم...   \n",
       "\n",
       "                                             text_target  \n",
       "2305   It flows with water of gold, silver, and lapis...  \n",
       "17689                       'every era has a messiah...'  \n",
       "23326     \"Here's to the beauty and elegance of Urdu...\"  \n",
       "865    \"Eyeballing\" is the most common and readily av...  \n",
       "8540                        Sorry, who had the kung pao?  \n",
       "...                                                  ...  \n",
       "9983   Ms. Smolcic (Uruguay) said, on behalf of the s...  \n",
       "6467   The Committee commends the legal and administr...  \n",
       "14823  9.13 In the area of investment the objectives ...  \n",
       "21856  Selection of an uplink system allows for fully...  \n",
       "19528  Some interchange agreements impose an obligati...  \n",
       "\n",
       "[23580 rows x 2 columns]"
      ]
     },
     "execution_count": 57,
     "metadata": {},
     "output_type": "execute_result"
    }
   ],
   "source": [
    "# check the sentences\n",
    "sentences = []\n",
    "translations = []\n",
    "\n",
    "for key, value in freq_list_translations.items():\n",
    "    for item in value['examples']:\n",
    "        sentences.append(item[0].text)\n",
    "        translations.append(item[1].text)\n",
    "        \n",
    "sentences = pd.DataFrame({\n",
    "    'text_source': sentences,\n",
    "    'text_target': translations\n",
    "})\n",
    "\n",
    "sentences.drop_duplicates(\n",
    "    'text_source',\n",
    "    keep='first',\n",
    "    inplace=True,\n",
    "    ignore_index=True\n",
    ")\n",
    "\n",
    "sentences.drop_duplicates(\n",
    "    'text_target',\n",
    "    keep='first',\n",
    "    inplace=True,\n",
    "    ignore_index=True\n",
    ")\n",
    "\n",
    "sentences.sort_values('text_source')"
   ]
  },
  {
   "cell_type": "code",
   "execution_count": 25,
   "metadata": {
    "ExecuteTime": {
     "end_time": "2021-02-12T19:22:29.086097Z",
     "start_time": "2021-02-12T19:22:25.595422Z"
    },
    "hidden": true
   },
   "outputs": [
    {
     "name": "stderr",
     "output_type": "stream",
     "text": [
      "[2021-02-12 19:22:25,767 - farasapy_logger - WARNING]: Be careful with large lines as they may break on interactive mode. You may switch to Standalone mode for such cases.\n"
     ]
    }
   ],
   "source": [
    "# initiate Arabic NLP model\n",
    "# stemmer in interactive mode to increase speed when iterating\n",
    "stemmer = FarasaStemmer(interactive=True)"
   ]
  },
  {
   "cell_type": "code",
   "execution_count": 26,
   "metadata": {
    "ExecuteTime": {
     "end_time": "2021-02-12T19:22:32.140089Z",
     "start_time": "2021-02-12T19:22:32.134195Z"
    },
    "hidden": true
   },
   "outputs": [],
   "source": [
    "# function that scores sentences based on how common their lemmas are\n",
    "def score_sentence(sentence, freq_lemmas_ar):\n",
    "    score = 0\n",
    "    lemmas = 0\n",
    "    \n",
    "    sentence_normalized = normalize_ar(stemmer.stem(sentence))\n",
    "    sentence_lemmas = [token for token in nltk.wordpunct_tokenize(sentence_normalized) if token.isalpha()]\n",
    "    \n",
    "    for lemma in sentence_lemmas:\n",
    "        try:\n",
    "            score += freq_lemmas_ar[lemma]\n",
    "            lemmas += 1\n",
    "        except:\n",
    "            continue\n",
    "            \n",
    "    score = score / lemmas / len(sentence_lemmas) * 100\n",
    "            \n",
    "    return score"
   ]
  },
  {
   "cell_type": "code",
   "execution_count": 27,
   "metadata": {
    "ExecuteTime": {
     "end_time": "2021-02-12T19:22:34.631183Z",
     "start_time": "2021-02-12T19:22:34.533022Z"
    },
    "hidden": true
   },
   "outputs": [
    {
     "name": "stdout",
     "output_type": "stream",
     "text": [
      "ذلك\n",
      "الباب الخلفي Johnnies، أو ما شابه ذلك ذلك الرجلِ الغريبِ بالتوقيعِ الكتاب يَدْعو نفسه. \n",
      "\t\t\t 1310.204081632653 \n",
      "\t\t\t The stage-door Johnnies, or whatever that strange man with the autograph book calls himself. \n",
      "\n",
      "أنا يَجِبُ أَنْ أُعالجَ ذلك عندما أَنا خلفيُ في Ilaria. \n",
      "\t\t\t 6000.0 \n",
      "\t\t\t I'll have to remedy that once I'm back at Ilaria. \n",
      "\n",
      "لقد استحقيت ذلك ولكن أريدكِ أن تدركِ ذلك \n",
      "\t\t\t 7656.25 \n",
      "\t\t\t I have earned it, but I want you to know it. \n",
      "\n",
      "العاملون يشجعون ذلك ويقفون بينما يحدث ذلك \n",
      "\t\t\t 3151.0204081632655 \n",
      "\t\t\t The staff encourages it and stand by while it happens. \n",
      "\n",
      "الساحرات والقمر لديهم ذلك الاتفاق ذلك الاتصال \n",
      "\t\t\t 3375.5102040816328 \n",
      "\t\t\t Witches and the moon they have this deal, this connection. \n",
      "\n",
      "ذلك شخص ما سرق المفاتيح للإقتحام نظام ترشيح بركة جيمي Castigan. \n",
      "\t\t\t 1204.9586776859503 \n",
      "\t\t\t That somebody stole the keys to break into Jimmy Castigan's pool filtration system. \n",
      "\n",
      "إصدارها الأخير ذلك العام كان فيلم Madhoshi بجانب جون أبراهام. \n",
      "\t\t\t 2255.0 \n",
      "\t\t\t Her final release that year was Anil Sharma's Madhoshi opposite John Abraham. \n",
      "\n",
      "وهم كَانوا يَجيئونَ ذلك المنحنى الخطرِ في نهايةِ طريقِ Sweeney. \n",
      "\t\t\t 4435.0 \n",
      "\t\t\t And they were coming around that dangerous curve at the end of Sweeney Road. \n",
      "\n",
      "لأن ذلك الرجلِ الذي إعترفَ لقَتْل Zamesca ما عَمِلَ هو. \n",
      "\t\t\t 4296.0 \n",
      "\t\t\t Because that guy who confessed to killing Zamesca didn't do it. \n",
      "\n",
      "هو ذلك نوعِ الإدارة المُطّلعة الذي جَعلَ الاسمَ Keckner مرادف بالأمنِ. \n",
      "\t\t\t 1184.2975206611573 \n",
      "\t\t\t It's that kind of enlightened management that has made the name Keckner synonymous with security. \n",
      "\n"
     ]
    }
   ],
   "source": [
    "# check the scoring function\n",
    "word = list(dict(freq_lemmas_ar.most_common(2500)).keys())[10]\n",
    "print(word)\n",
    "\n",
    "sentence = freq_list_translations[word]['examples']\n",
    "for ar, en in sentence:\n",
    "    print(\n",
    "        ar.text,\n",
    "        '\\n\\t\\t\\t',\n",
    "        score_sentence(ar.text, freq_lemmas_ar),\n",
    "        '\\n\\t\\t\\t',\n",
    "        en.text,\n",
    "        '\\n'\n",
    "    )\n",
    "   "
   ]
  },
  {
   "cell_type": "code",
   "execution_count": 28,
   "metadata": {
    "ExecuteTime": {
     "end_time": "2021-02-12T19:22:37.690144Z",
     "start_time": "2021-02-12T19:22:37.681704Z"
    },
    "hidden": true
   },
   "outputs": [],
   "source": [
    "# iterate over sentences, scoring and translating each\n",
    "def score_translate_sentences(freq_list_translations, freq_lemmas_ar):\n",
    "    sentences = {}\n",
    "\n",
    "    for lemma in freq_list_translations:\n",
    "        examples = freq_list_translations[lemma]['examples']\n",
    "        for sentence_ar, sentence_en in examples:\n",
    "            sentences[sentence_ar.text] = {\n",
    "                'translation': sentence_en.text,\n",
    "                'score': score_sentence(sentence_ar.text, freq_lemmas_ar)\n",
    "            }\n",
    "\n",
    "    return sentences"
   ]
  },
  {
   "cell_type": "code",
   "execution_count": 29,
   "metadata": {
    "ExecuteTime": {
     "end_time": "2021-02-12T19:22:53.042045Z",
     "start_time": "2021-02-12T19:22:39.509493Z"
    },
    "hidden": true
   },
   "outputs": [],
   "source": [
    "# score sentences\n",
    "sentences = score_translate_sentences(freq_list_translations, freq_lemmas_ar)"
   ]
  },
  {
   "cell_type": "code",
   "execution_count": 30,
   "metadata": {
    "ExecuteTime": {
     "end_time": "2021-02-12T19:22:53.628556Z",
     "start_time": "2021-02-12T19:22:53.604133Z"
    },
    "hidden": true,
    "scrolled": true
   },
   "outputs": [
    {
     "name": "stdout",
     "output_type": "stream",
     "text": [
      "إنها لا تزحزح.\n",
      "{'translation': \"It won't budge.\", 'score': 33522.222222222226}\n",
      "\n",
      "هذا يَكُونُ جيزمو.\n",
      "{'translation': 'That would be Gizmo over here.', 'score': 26677.777777777777}\n",
      "\n",
      "من الذى شهق ؟\n",
      "{'translation': \"Who's sniffling?\", 'score': 25011.111111111113}\n",
      "\n",
      "ملتف في داخلك...\n",
      "{'translation': 'Coiled inside you.', 'score': 24522.22222222222}\n",
      "\n",
      "الآن، الطبيب مجيء في إلى...\n",
      "{'translation': 'Now, the doctor is coming in to...', 'score': 22248.0}\n",
      "\n",
      "عبس من الصلب.\n",
      "{'translation': 'Abs of steel.', 'score': 20844.444444444445}\n",
      "\n",
      "كيفما تريدين أنْ أكون، سأكون.\n",
      "{'translation': \"however you want me to be, i'll be.\", 'score': 20748.0}\n",
      "\n",
      "ليس الآن، ليس الآن، ليس الآن\n",
      "{'translation': 'Not now, not now, not now.', 'score': 20066.666666666664}\n",
      "\n",
      "قلت أنه سعل رئه\n",
      "{'translation': 'You said he coughed up a lung.', 'score': 19068.75}\n",
      "\n",
      "لقد ظننت أنك أشول\n",
      "{'translation': 'i thought you were left handed.', 'score': 17600.0}\n",
      "\n"
     ]
    }
   ],
   "source": [
    "# check best scoring sentences\n",
    "sentences_sorted = sorted(sentences, key=lambda x: sentences[x]['score'], reverse=True)\n",
    "for i in sentences_sorted[:10]:\n",
    "    print(\n",
    "        '{}\\n{}\\n'.format(\n",
    "        i,\n",
    "        sentences[i]\n",
    "        )\n",
    "    )"
   ]
  },
  {
   "cell_type": "code",
   "execution_count": 31,
   "metadata": {
    "ExecuteTime": {
     "end_time": "2021-02-12T19:22:54.220319Z",
     "start_time": "2021-02-12T19:22:54.183683Z"
    },
    "hidden": true
   },
   "outputs": [],
   "source": [
    "# pickle reverso sentences\n",
    "with open('sentences_reverso.pkl', 'wb') as file:\n",
    "    pickle.dump(sentences, file)"
   ]
  },
  {
   "cell_type": "markdown",
   "metadata": {},
   "source": [
    "### Tatoeba"
   ]
  },
  {
   "cell_type": "markdown",
   "metadata": {},
   "source": [
    "#### Getting sentences from Tatoeba"
   ]
  },
  {
   "cell_type": "code",
   "execution_count": 87,
   "metadata": {
    "ExecuteTime": {
     "end_time": "2021-02-20T10:43:24.657612Z",
     "start_time": "2021-02-20T10:43:05.157603Z"
    }
   },
   "outputs": [
    {
     "name": "stdout",
     "output_type": "stream",
     "text": [
      "Shapes: \n",
      "sentences (9289126, 3) \n",
      "links (18977846, 2) \n",
      "reviews (1166067, 5)\n"
     ]
    }
   ],
   "source": [
    "# load the dataset from Tatoeba's downloads page\n",
    "sentences_all = pd.read_csv(\n",
    "    'Sentences/sentences.csv',\n",
    "    delimiter='\\t',\n",
    "    header=None,\n",
    "    names=['id', 'lang', 'text']\n",
    ")\n",
    "\n",
    "links = pd.read_csv(\n",
    "    'Sentences/links.csv',\n",
    "    delimiter='\\t',\n",
    "    header=None,\n",
    "    names=['id', 'translation_id']\n",
    ")\n",
    "\n",
    "reviews = pd.read_csv(\n",
    "    'Sentences/users_sentences.csv',\n",
    "    delimiter='\\t',\n",
    "    header=None,\n",
    "    names=[\n",
    "        'username',\n",
    "        'id',\n",
    "        'review',\n",
    "        'added',\n",
    "        'modified'\n",
    "    ]\n",
    ")\n",
    "\n",
    "# check dataframes' shape\n",
    "print(\n",
    "    'Shapes:',\n",
    "    '\\nsentences', sentences_all.shape,\n",
    "    '\\nlinks', links.shape,\n",
    "    '\\nreviews', reviews.shape\n",
    ")"
   ]
  },
  {
   "cell_type": "code",
   "execution_count": 88,
   "metadata": {
    "ExecuteTime": {
     "end_time": "2021-02-20T10:43:26.808092Z",
     "start_time": "2021-02-20T10:43:26.350351Z"
    }
   },
   "outputs": [
    {
     "name": "stdout",
     "output_type": "stream",
     "text": [
      "Shape: (1460909, 3) \n",
      "\n",
      "Value counts:\n",
      " eng    1425300\n",
      "ara      35609\n",
      "Name: lang, dtype: int64\n"
     ]
    },
    {
     "data": {
      "text/html": [
       "<div>\n",
       "<style scoped>\n",
       "    .dataframe tbody tr th:only-of-type {\n",
       "        vertical-align: middle;\n",
       "    }\n",
       "\n",
       "    .dataframe tbody tr th {\n",
       "        vertical-align: top;\n",
       "    }\n",
       "\n",
       "    .dataframe thead th {\n",
       "        text-align: right;\n",
       "    }\n",
       "</style>\n",
       "<table border=\"1\" class=\"dataframe\">\n",
       "  <thead>\n",
       "    <tr style=\"text-align: right;\">\n",
       "      <th></th>\n",
       "      <th>id</th>\n",
       "      <th>lang</th>\n",
       "      <th>text</th>\n",
       "    </tr>\n",
       "  </thead>\n",
       "  <tbody>\n",
       "    <tr>\n",
       "      <th>1232</th>\n",
       "      <td>1276</td>\n",
       "      <td>eng</td>\n",
       "      <td>Let's try something.</td>\n",
       "    </tr>\n",
       "    <tr>\n",
       "      <th>1233</th>\n",
       "      <td>1277</td>\n",
       "      <td>eng</td>\n",
       "      <td>I have to go to sleep.</td>\n",
       "    </tr>\n",
       "    <tr>\n",
       "      <th>1235</th>\n",
       "      <td>1280</td>\n",
       "      <td>eng</td>\n",
       "      <td>Today is June 18th and it is Muiriel's birthday!</td>\n",
       "    </tr>\n",
       "    <tr>\n",
       "      <th>1236</th>\n",
       "      <td>1282</td>\n",
       "      <td>eng</td>\n",
       "      <td>Muiriel is 20 now.</td>\n",
       "    </tr>\n",
       "    <tr>\n",
       "      <th>1237</th>\n",
       "      <td>1283</td>\n",
       "      <td>eng</td>\n",
       "      <td>The password is \"Muiriel\".</td>\n",
       "    </tr>\n",
       "  </tbody>\n",
       "</table>\n",
       "</div>"
      ],
      "text/plain": [
       "        id lang                                              text\n",
       "1232  1276  eng                              Let's try something.\n",
       "1233  1277  eng                            I have to go to sleep.\n",
       "1235  1280  eng  Today is June 18th and it is Muiriel's birthday!\n",
       "1236  1282  eng                                Muiriel is 20 now.\n",
       "1237  1283  eng                        The password is \"Muiriel\"."
      ]
     },
     "execution_count": 88,
     "metadata": {},
     "output_type": "execute_result"
    }
   ],
   "source": [
    "# select sentences in either eng or ara\n",
    "sentences_ara_eng = sentences_all[sentences_all['lang'].isin(['ara', 'eng'])]\n",
    "\n",
    "print(\n",
    "    'Shape:', sentences_ara_eng.shape,\n",
    "    '\\n\\nValue counts:\\n',\n",
    "    sentences_ara_eng['lang'].value_counts()\n",
    ")\n",
    "\n",
    "sentences_ara_eng.head()"
   ]
  },
  {
   "cell_type": "code",
   "execution_count": 254,
   "metadata": {
    "ExecuteTime": {
     "end_time": "2021-02-19T16:19:58.401005Z",
     "start_time": "2021-02-19T16:19:54.037124Z"
    }
   },
   "outputs": [
    {
     "name": "stdout",
     "output_type": "stream",
     "text": [
      "True\n"
     ]
    },
    {
     "data": {
      "text/html": [
       "<div>\n",
       "<style scoped>\n",
       "    .dataframe tbody tr th:only-of-type {\n",
       "        vertical-align: middle;\n",
       "    }\n",
       "\n",
       "    .dataframe tbody tr th {\n",
       "        vertical-align: top;\n",
       "    }\n",
       "\n",
       "    .dataframe thead th {\n",
       "        text-align: right;\n",
       "    }\n",
       "</style>\n",
       "<table border=\"1\" class=\"dataframe\">\n",
       "  <thead>\n",
       "    <tr style=\"text-align: right;\">\n",
       "      <th></th>\n",
       "      <th>id</th>\n",
       "      <th>translation_id</th>\n",
       "    </tr>\n",
       "  </thead>\n",
       "  <tbody>\n",
       "    <tr>\n",
       "      <th>0</th>\n",
       "      <td>1</td>\n",
       "      <td>1276</td>\n",
       "    </tr>\n",
       "    <tr>\n",
       "      <th>1</th>\n",
       "      <td>1</td>\n",
       "      <td>2481</td>\n",
       "    </tr>\n",
       "    <tr>\n",
       "      <th>2</th>\n",
       "      <td>1</td>\n",
       "      <td>5350</td>\n",
       "    </tr>\n",
       "    <tr>\n",
       "      <th>3</th>\n",
       "      <td>1</td>\n",
       "      <td>5972</td>\n",
       "    </tr>\n",
       "    <tr>\n",
       "      <th>4</th>\n",
       "      <td>1</td>\n",
       "      <td>180624</td>\n",
       "    </tr>\n",
       "  </tbody>\n",
       "</table>\n",
       "</div>"
      ],
      "text/plain": [
       "   id  translation_id\n",
       "0   1            1276\n",
       "1   1            2481\n",
       "2   1            5350\n",
       "3   1            5972\n",
       "4   1          180624"
      ]
     },
     "execution_count": 254,
     "metadata": {},
     "output_type": "execute_result"
    }
   ],
   "source": [
    "# ensure that 'links' dataframe is bidirectional\n",
    "print(\n",
    "    all(links['id'].value_counts() == links['translation_id'].value_counts())\n",
    ")\n",
    "\n",
    "links.head()"
   ]
  },
  {
   "cell_type": "code",
   "execution_count": 89,
   "metadata": {
    "ExecuteTime": {
     "end_time": "2021-02-20T10:43:34.174275Z",
     "start_time": "2021-02-20T10:43:33.867059Z"
    }
   },
   "outputs": [
    {
     "data": {
      "text/html": [
       "<div>\n",
       "<style scoped>\n",
       "    .dataframe tbody tr th:only-of-type {\n",
       "        vertical-align: middle;\n",
       "    }\n",
       "\n",
       "    .dataframe tbody tr th {\n",
       "        vertical-align: top;\n",
       "    }\n",
       "\n",
       "    .dataframe thead th {\n",
       "        text-align: right;\n",
       "    }\n",
       "</style>\n",
       "<table border=\"1\" class=\"dataframe\">\n",
       "  <thead>\n",
       "    <tr style=\"text-align: right;\">\n",
       "      <th></th>\n",
       "      <th>id</th>\n",
       "      <th>review</th>\n",
       "    </tr>\n",
       "  </thead>\n",
       "  <tbody>\n",
       "    <tr>\n",
       "      <th>30</th>\n",
       "      <td>585</td>\n",
       "      <td>-1.0</td>\n",
       "    </tr>\n",
       "    <tr>\n",
       "      <th>961</th>\n",
       "      <td>3115</td>\n",
       "      <td>-1.0</td>\n",
       "    </tr>\n",
       "    <tr>\n",
       "      <th>1269</th>\n",
       "      <td>5669</td>\n",
       "      <td>-1.0</td>\n",
       "    </tr>\n",
       "    <tr>\n",
       "      <th>1271</th>\n",
       "      <td>5672</td>\n",
       "      <td>-1.0</td>\n",
       "    </tr>\n",
       "    <tr>\n",
       "      <th>1273</th>\n",
       "      <td>5678</td>\n",
       "      <td>-1.0</td>\n",
       "    </tr>\n",
       "    <tr>\n",
       "      <th>...</th>\n",
       "      <td>...</td>\n",
       "      <td>...</td>\n",
       "    </tr>\n",
       "    <tr>\n",
       "      <th>1157247</th>\n",
       "      <td>9712825</td>\n",
       "      <td>-1.0</td>\n",
       "    </tr>\n",
       "    <tr>\n",
       "      <th>1157248</th>\n",
       "      <td>9712828</td>\n",
       "      <td>-1.0</td>\n",
       "    </tr>\n",
       "    <tr>\n",
       "      <th>1157601</th>\n",
       "      <td>9721774</td>\n",
       "      <td>-1.0</td>\n",
       "    </tr>\n",
       "    <tr>\n",
       "      <th>1157603</th>\n",
       "      <td>9721778</td>\n",
       "      <td>-1.0</td>\n",
       "    </tr>\n",
       "    <tr>\n",
       "      <th>1157661</th>\n",
       "      <td>9724221</td>\n",
       "      <td>-1.0</td>\n",
       "    </tr>\n",
       "  </tbody>\n",
       "</table>\n",
       "<p>3390 rows × 2 columns</p>\n",
       "</div>"
      ],
      "text/plain": [
       "              id  review\n",
       "30           585    -1.0\n",
       "961         3115    -1.0\n",
       "1269        5669    -1.0\n",
       "1271        5672    -1.0\n",
       "1273        5678    -1.0\n",
       "...          ...     ...\n",
       "1157247  9712825    -1.0\n",
       "1157248  9712828    -1.0\n",
       "1157601  9721774    -1.0\n",
       "1157603  9721778    -1.0\n",
       "1157661  9724221    -1.0\n",
       "\n",
       "[3390 rows x 2 columns]"
      ]
     },
     "execution_count": 89,
     "metadata": {},
     "output_type": "execute_result"
    }
   ],
   "source": [
    "# determine average scores\n",
    "reviews_id = reviews.groupby('id', as_index=False).agg({\n",
    "    'review': 'mean'\n",
    "})\n",
    "\n",
    "reviews_id[reviews_id['review'] < 0]"
   ]
  },
  {
   "cell_type": "code",
   "execution_count": 90,
   "metadata": {
    "ExecuteTime": {
     "end_time": "2021-02-20T10:43:41.412391Z",
     "start_time": "2021-02-20T10:43:37.480714Z"
    },
    "scrolled": false
   },
   "outputs": [
    {
     "data": {
      "text/html": [
       "<div>\n",
       "<style scoped>\n",
       "    .dataframe tbody tr th:only-of-type {\n",
       "        vertical-align: middle;\n",
       "    }\n",
       "\n",
       "    .dataframe tbody tr th {\n",
       "        vertical-align: top;\n",
       "    }\n",
       "\n",
       "    .dataframe thead th {\n",
       "        text-align: right;\n",
       "    }\n",
       "</style>\n",
       "<table border=\"1\" class=\"dataframe\">\n",
       "  <thead>\n",
       "    <tr style=\"text-align: right;\">\n",
       "      <th></th>\n",
       "      <th>id_source</th>\n",
       "      <th>lang_source</th>\n",
       "      <th>text_source</th>\n",
       "      <th>id_target</th>\n",
       "      <th>lang_target</th>\n",
       "      <th>text_target</th>\n",
       "    </tr>\n",
       "  </thead>\n",
       "  <tbody>\n",
       "    <tr>\n",
       "      <th>0</th>\n",
       "      <td>1276</td>\n",
       "      <td>eng</td>\n",
       "      <td>Let's try something.</td>\n",
       "      <td>392773</td>\n",
       "      <td>ara</td>\n",
       "      <td>لنجرب فعل شيءٍ ما.</td>\n",
       "    </tr>\n",
       "    <tr>\n",
       "      <th>1</th>\n",
       "      <td>1276</td>\n",
       "      <td>eng</td>\n",
       "      <td>Let's try something.</td>\n",
       "      <td>461821</td>\n",
       "      <td>ara</td>\n",
       "      <td>لنجرب شيئاً!</td>\n",
       "    </tr>\n",
       "    <tr>\n",
       "      <th>2</th>\n",
       "      <td>1277</td>\n",
       "      <td>eng</td>\n",
       "      <td>I have to go to sleep.</td>\n",
       "      <td>372962</td>\n",
       "      <td>ara</td>\n",
       "      <td>عليّ أن أنام.</td>\n",
       "    </tr>\n",
       "    <tr>\n",
       "      <th>3</th>\n",
       "      <td>1277</td>\n",
       "      <td>eng</td>\n",
       "      <td>I have to go to sleep.</td>\n",
       "      <td>383342</td>\n",
       "      <td>ara</td>\n",
       "      <td>عليّ الذهاب إلى النوم.</td>\n",
       "    </tr>\n",
       "    <tr>\n",
       "      <th>4</th>\n",
       "      <td>1395</td>\n",
       "      <td>eng</td>\n",
       "      <td>I have to go to bed.</td>\n",
       "      <td>383342</td>\n",
       "      <td>ara</td>\n",
       "      <td>عليّ الذهاب إلى النوم.</td>\n",
       "    </tr>\n",
       "    <tr>\n",
       "      <th>...</th>\n",
       "      <td>...</td>\n",
       "      <td>...</td>\n",
       "      <td>...</td>\n",
       "      <td>...</td>\n",
       "      <td>...</td>\n",
       "      <td>...</td>\n",
       "    </tr>\n",
       "    <tr>\n",
       "      <th>294193</th>\n",
       "      <td>9729424</td>\n",
       "      <td>eng</td>\n",
       "      <td>I thought you already had one of those.</td>\n",
       "      <td>9729425</td>\n",
       "      <td>eng</td>\n",
       "      <td>I thought that you already had one of those.</td>\n",
       "    </tr>\n",
       "    <tr>\n",
       "      <th>294194</th>\n",
       "      <td>9729425</td>\n",
       "      <td>eng</td>\n",
       "      <td>I thought that you already had one of those.</td>\n",
       "      <td>9729424</td>\n",
       "      <td>eng</td>\n",
       "      <td>I thought you already had one of those.</td>\n",
       "    </tr>\n",
       "    <tr>\n",
       "      <th>294195</th>\n",
       "      <td>9729427</td>\n",
       "      <td>eng</td>\n",
       "      <td>I thought Tom might be mad at you.</td>\n",
       "      <td>9729428</td>\n",
       "      <td>eng</td>\n",
       "      <td>I thought that Tom might be mad at you.</td>\n",
       "    </tr>\n",
       "    <tr>\n",
       "      <th>294196</th>\n",
       "      <td>9729428</td>\n",
       "      <td>eng</td>\n",
       "      <td>I thought that Tom might be mad at you.</td>\n",
       "      <td>9729427</td>\n",
       "      <td>eng</td>\n",
       "      <td>I thought Tom might be mad at you.</td>\n",
       "    </tr>\n",
       "    <tr>\n",
       "      <th>294197</th>\n",
       "      <td>9729505</td>\n",
       "      <td>eng</td>\n",
       "      <td>That's the reason that I moved to Boston.</td>\n",
       "      <td>7139776</td>\n",
       "      <td>eng</td>\n",
       "      <td>That's the reason I moved to Boston.</td>\n",
       "    </tr>\n",
       "  </tbody>\n",
       "</table>\n",
       "<p>294198 rows × 6 columns</p>\n",
       "</div>"
      ],
      "text/plain": [
       "        id_source lang_source                                   text_source  \\\n",
       "0            1276         eng                          Let's try something.   \n",
       "1            1276         eng                          Let's try something.   \n",
       "2            1277         eng                        I have to go to sleep.   \n",
       "3            1277         eng                        I have to go to sleep.   \n",
       "4            1395         eng                          I have to go to bed.   \n",
       "...           ...         ...                                           ...   \n",
       "294193    9729424         eng       I thought you already had one of those.   \n",
       "294194    9729425         eng  I thought that you already had one of those.   \n",
       "294195    9729427         eng            I thought Tom might be mad at you.   \n",
       "294196    9729428         eng       I thought that Tom might be mad at you.   \n",
       "294197    9729505         eng     That's the reason that I moved to Boston.   \n",
       "\n",
       "        id_target lang_target                                   text_target  \n",
       "0          392773         ara                            لنجرب فعل شيءٍ ما.  \n",
       "1          461821         ara                                  لنجرب شيئاً!  \n",
       "2          372962         ara                                 عليّ أن أنام.  \n",
       "3          383342         ara                        عليّ الذهاب إلى النوم.  \n",
       "4          383342         ara                        عليّ الذهاب إلى النوم.  \n",
       "...           ...         ...                                           ...  \n",
       "294193    9729425         eng  I thought that you already had one of those.  \n",
       "294194    9729424         eng       I thought you already had one of those.  \n",
       "294195    9729428         eng       I thought that Tom might be mad at you.  \n",
       "294196    9729427         eng            I thought Tom might be mad at you.  \n",
       "294197    7139776         eng          That's the reason I moved to Boston.  \n",
       "\n",
       "[294198 rows x 6 columns]"
      ]
     },
     "execution_count": 90,
     "metadata": {},
     "output_type": "execute_result"
    }
   ],
   "source": [
    "# select inter-related sentences that are either 'ara' or 'eng', and add scores\n",
    "sentences_translations = links.merge(\n",
    "    sentences_ara_eng,\n",
    "    how='inner',\n",
    "    on='id'\n",
    ") \\\n",
    ".merge(\n",
    "    sentences_ara_eng,\n",
    "    how='inner',\n",
    "    left_on='translation_id',\n",
    "    right_on='id',\n",
    "    suffixes=('_source', '_target')\n",
    ") \\\n",
    ".drop(columns=['translation_id'])\n",
    "\n",
    "sentences_translations"
   ]
  },
  {
   "cell_type": "code",
   "execution_count": 91,
   "metadata": {
    "ExecuteTime": {
     "end_time": "2021-02-20T10:43:43.435423Z",
     "start_time": "2021-02-20T10:43:42.680477Z"
    }
   },
   "outputs": [
    {
     "data": {
      "text/html": [
       "<div>\n",
       "<style scoped>\n",
       "    .dataframe tbody tr th:only-of-type {\n",
       "        vertical-align: middle;\n",
       "    }\n",
       "\n",
       "    .dataframe tbody tr th {\n",
       "        vertical-align: top;\n",
       "    }\n",
       "\n",
       "    .dataframe thead th {\n",
       "        text-align: right;\n",
       "    }\n",
       "</style>\n",
       "<table border=\"1\" class=\"dataframe\">\n",
       "  <thead>\n",
       "    <tr style=\"text-align: right;\">\n",
       "      <th></th>\n",
       "      <th>id_source</th>\n",
       "      <th>lang_source</th>\n",
       "      <th>text_source</th>\n",
       "      <th>id_target</th>\n",
       "      <th>lang_target</th>\n",
       "      <th>text_target</th>\n",
       "      <th>review_score_source</th>\n",
       "      <th>review_score_target</th>\n",
       "    </tr>\n",
       "  </thead>\n",
       "  <tbody>\n",
       "    <tr>\n",
       "      <th>0</th>\n",
       "      <td>1276</td>\n",
       "      <td>eng</td>\n",
       "      <td>Let's try something.</td>\n",
       "      <td>392773</td>\n",
       "      <td>ara</td>\n",
       "      <td>لنجرب فعل شيءٍ ما.</td>\n",
       "      <td>1.0</td>\n",
       "      <td>0.0</td>\n",
       "    </tr>\n",
       "    <tr>\n",
       "      <th>1</th>\n",
       "      <td>1276</td>\n",
       "      <td>eng</td>\n",
       "      <td>Let's try something.</td>\n",
       "      <td>461821</td>\n",
       "      <td>ara</td>\n",
       "      <td>لنجرب شيئاً!</td>\n",
       "      <td>1.0</td>\n",
       "      <td>0.0</td>\n",
       "    </tr>\n",
       "    <tr>\n",
       "      <th>2</th>\n",
       "      <td>1277</td>\n",
       "      <td>eng</td>\n",
       "      <td>I have to go to sleep.</td>\n",
       "      <td>372962</td>\n",
       "      <td>ara</td>\n",
       "      <td>عليّ أن أنام.</td>\n",
       "      <td>1.0</td>\n",
       "      <td>0.0</td>\n",
       "    </tr>\n",
       "    <tr>\n",
       "      <th>3</th>\n",
       "      <td>1277</td>\n",
       "      <td>eng</td>\n",
       "      <td>I have to go to sleep.</td>\n",
       "      <td>383342</td>\n",
       "      <td>ara</td>\n",
       "      <td>عليّ الذهاب إلى النوم.</td>\n",
       "      <td>1.0</td>\n",
       "      <td>0.0</td>\n",
       "    </tr>\n",
       "    <tr>\n",
       "      <th>4</th>\n",
       "      <td>1395</td>\n",
       "      <td>eng</td>\n",
       "      <td>I have to go to bed.</td>\n",
       "      <td>383342</td>\n",
       "      <td>ara</td>\n",
       "      <td>عليّ الذهاب إلى النوم.</td>\n",
       "      <td>1.0</td>\n",
       "      <td>0.0</td>\n",
       "    </tr>\n",
       "    <tr>\n",
       "      <th>...</th>\n",
       "      <td>...</td>\n",
       "      <td>...</td>\n",
       "      <td>...</td>\n",
       "      <td>...</td>\n",
       "      <td>...</td>\n",
       "      <td>...</td>\n",
       "      <td>...</td>\n",
       "      <td>...</td>\n",
       "    </tr>\n",
       "    <tr>\n",
       "      <th>294193</th>\n",
       "      <td>9729424</td>\n",
       "      <td>eng</td>\n",
       "      <td>I thought you already had one of those.</td>\n",
       "      <td>9729425</td>\n",
       "      <td>eng</td>\n",
       "      <td>I thought that you already had one of those.</td>\n",
       "      <td>1.0</td>\n",
       "      <td>0.0</td>\n",
       "    </tr>\n",
       "    <tr>\n",
       "      <th>294194</th>\n",
       "      <td>9729425</td>\n",
       "      <td>eng</td>\n",
       "      <td>I thought that you already had one of those.</td>\n",
       "      <td>9729424</td>\n",
       "      <td>eng</td>\n",
       "      <td>I thought you already had one of those.</td>\n",
       "      <td>0.0</td>\n",
       "      <td>1.0</td>\n",
       "    </tr>\n",
       "    <tr>\n",
       "      <th>294195</th>\n",
       "      <td>9729427</td>\n",
       "      <td>eng</td>\n",
       "      <td>I thought Tom might be mad at you.</td>\n",
       "      <td>9729428</td>\n",
       "      <td>eng</td>\n",
       "      <td>I thought that Tom might be mad at you.</td>\n",
       "      <td>0.0</td>\n",
       "      <td>0.0</td>\n",
       "    </tr>\n",
       "    <tr>\n",
       "      <th>294196</th>\n",
       "      <td>9729428</td>\n",
       "      <td>eng</td>\n",
       "      <td>I thought that Tom might be mad at you.</td>\n",
       "      <td>9729427</td>\n",
       "      <td>eng</td>\n",
       "      <td>I thought Tom might be mad at you.</td>\n",
       "      <td>0.0</td>\n",
       "      <td>0.0</td>\n",
       "    </tr>\n",
       "    <tr>\n",
       "      <th>294197</th>\n",
       "      <td>9729505</td>\n",
       "      <td>eng</td>\n",
       "      <td>That's the reason that I moved to Boston.</td>\n",
       "      <td>7139776</td>\n",
       "      <td>eng</td>\n",
       "      <td>That's the reason I moved to Boston.</td>\n",
       "      <td>0.0</td>\n",
       "      <td>1.0</td>\n",
       "    </tr>\n",
       "  </tbody>\n",
       "</table>\n",
       "<p>294198 rows × 8 columns</p>\n",
       "</div>"
      ],
      "text/plain": [
       "        id_source lang_source                                   text_source  \\\n",
       "0            1276         eng                          Let's try something.   \n",
       "1            1276         eng                          Let's try something.   \n",
       "2            1277         eng                        I have to go to sleep.   \n",
       "3            1277         eng                        I have to go to sleep.   \n",
       "4            1395         eng                          I have to go to bed.   \n",
       "...           ...         ...                                           ...   \n",
       "294193    9729424         eng       I thought you already had one of those.   \n",
       "294194    9729425         eng  I thought that you already had one of those.   \n",
       "294195    9729427         eng            I thought Tom might be mad at you.   \n",
       "294196    9729428         eng       I thought that Tom might be mad at you.   \n",
       "294197    9729505         eng     That's the reason that I moved to Boston.   \n",
       "\n",
       "        id_target lang_target                                   text_target  \\\n",
       "0          392773         ara                            لنجرب فعل شيءٍ ما.   \n",
       "1          461821         ara                                  لنجرب شيئاً!   \n",
       "2          372962         ara                                 عليّ أن أنام.   \n",
       "3          383342         ara                        عليّ الذهاب إلى النوم.   \n",
       "4          383342         ara                        عليّ الذهاب إلى النوم.   \n",
       "...           ...         ...                                           ...   \n",
       "294193    9729425         eng  I thought that you already had one of those.   \n",
       "294194    9729424         eng       I thought you already had one of those.   \n",
       "294195    9729428         eng       I thought that Tom might be mad at you.   \n",
       "294196    9729427         eng            I thought Tom might be mad at you.   \n",
       "294197    7139776         eng          That's the reason I moved to Boston.   \n",
       "\n",
       "        review_score_source  review_score_target  \n",
       "0                       1.0                  0.0  \n",
       "1                       1.0                  0.0  \n",
       "2                       1.0                  0.0  \n",
       "3                       1.0                  0.0  \n",
       "4                       1.0                  0.0  \n",
       "...                     ...                  ...  \n",
       "294193                  1.0                  0.0  \n",
       "294194                  0.0                  1.0  \n",
       "294195                  0.0                  0.0  \n",
       "294196                  0.0                  0.0  \n",
       "294197                  0.0                  1.0  \n",
       "\n",
       "[294198 rows x 8 columns]"
      ]
     },
     "execution_count": 91,
     "metadata": {},
     "output_type": "execute_result"
    }
   ],
   "source": [
    "# add review information for source and target\n",
    "sentences_scores = sentences_translations.merge(\n",
    "    reviews_id,\n",
    "    how='left',\n",
    "    left_on='id_source',\n",
    "    right_on='id'\n",
    ") \\\n",
    ".merge(\n",
    "    reviews_id,\n",
    "    how='left',\n",
    "    left_on='id_target',\n",
    "    right_on='id',\n",
    "    suffixes=('_score_source', '_score_target')\n",
    ") \\\n",
    ".drop(columns=['id_score_source', 'id_score_target']) \\\n",
    ".fillna(0)\n",
    "\n",
    "sentences_scores"
   ]
  },
  {
   "cell_type": "code",
   "execution_count": 92,
   "metadata": {
    "ExecuteTime": {
     "end_time": "2021-02-20T10:43:48.608817Z",
     "start_time": "2021-02-20T10:43:48.425573Z"
    }
   },
   "outputs": [
    {
     "data": {
      "text/html": [
       "<div>\n",
       "<style scoped>\n",
       "    .dataframe tbody tr th:only-of-type {\n",
       "        vertical-align: middle;\n",
       "    }\n",
       "\n",
       "    .dataframe tbody tr th {\n",
       "        vertical-align: top;\n",
       "    }\n",
       "\n",
       "    .dataframe thead th {\n",
       "        text-align: right;\n",
       "    }\n",
       "</style>\n",
       "<table border=\"1\" class=\"dataframe\">\n",
       "  <thead>\n",
       "    <tr style=\"text-align: right;\">\n",
       "      <th></th>\n",
       "      <th>id_source</th>\n",
       "      <th>lang_source</th>\n",
       "      <th>text_source</th>\n",
       "      <th>id_target</th>\n",
       "      <th>lang_target</th>\n",
       "      <th>text_target</th>\n",
       "      <th>review_score_source</th>\n",
       "      <th>review_score_target</th>\n",
       "    </tr>\n",
       "  </thead>\n",
       "  <tbody>\n",
       "    <tr>\n",
       "      <th>0</th>\n",
       "      <td>392773</td>\n",
       "      <td>ara</td>\n",
       "      <td>لنجرب فعل شيءٍ ما.</td>\n",
       "      <td>1276</td>\n",
       "      <td>eng</td>\n",
       "      <td>Let's try something.</td>\n",
       "      <td>0.0</td>\n",
       "      <td>1.0</td>\n",
       "    </tr>\n",
       "    <tr>\n",
       "      <th>1</th>\n",
       "      <td>461821</td>\n",
       "      <td>ara</td>\n",
       "      <td>لنجرب شيئاً!</td>\n",
       "      <td>1276</td>\n",
       "      <td>eng</td>\n",
       "      <td>Let's try something.</td>\n",
       "      <td>0.0</td>\n",
       "      <td>1.0</td>\n",
       "    </tr>\n",
       "    <tr>\n",
       "      <th>2</th>\n",
       "      <td>383342</td>\n",
       "      <td>ara</td>\n",
       "      <td>عليّ الذهاب إلى النوم.</td>\n",
       "      <td>1277</td>\n",
       "      <td>eng</td>\n",
       "      <td>I have to go to sleep.</td>\n",
       "      <td>0.0</td>\n",
       "      <td>1.0</td>\n",
       "    </tr>\n",
       "    <tr>\n",
       "      <th>3</th>\n",
       "      <td>7960374</td>\n",
       "      <td>ara</td>\n",
       "      <td>لازم أنام.</td>\n",
       "      <td>1277</td>\n",
       "      <td>eng</td>\n",
       "      <td>I have to go to sleep.</td>\n",
       "      <td>0.0</td>\n",
       "      <td>1.0</td>\n",
       "    </tr>\n",
       "    <tr>\n",
       "      <th>4</th>\n",
       "      <td>372962</td>\n",
       "      <td>ara</td>\n",
       "      <td>عليّ أن أنام.</td>\n",
       "      <td>1277</td>\n",
       "      <td>eng</td>\n",
       "      <td>I have to go to sleep.</td>\n",
       "      <td>0.0</td>\n",
       "      <td>1.0</td>\n",
       "    </tr>\n",
       "    <tr>\n",
       "      <th>...</th>\n",
       "      <td>...</td>\n",
       "      <td>...</td>\n",
       "      <td>...</td>\n",
       "      <td>...</td>\n",
       "      <td>...</td>\n",
       "      <td>...</td>\n",
       "      <td>...</td>\n",
       "      <td>...</td>\n",
       "    </tr>\n",
       "    <tr>\n",
       "      <th>14507</th>\n",
       "      <td>9640524</td>\n",
       "      <td>ara</td>\n",
       "      <td>كل ما نحن بحاجة إليه هو خطة.</td>\n",
       "      <td>9640522</td>\n",
       "      <td>eng</td>\n",
       "      <td>All we need is a plan.</td>\n",
       "      <td>0.0</td>\n",
       "      <td>1.0</td>\n",
       "    </tr>\n",
       "    <tr>\n",
       "      <th>14508</th>\n",
       "      <td>6009369</td>\n",
       "      <td>ara</td>\n",
       "      <td>كان عليك أن تكون قد بدأت الآن.</td>\n",
       "      <td>9684702</td>\n",
       "      <td>eng</td>\n",
       "      <td>You should've started by now.</td>\n",
       "      <td>0.0</td>\n",
       "      <td>1.0</td>\n",
       "    </tr>\n",
       "    <tr>\n",
       "      <th>14509</th>\n",
       "      <td>416582</td>\n",
       "      <td>ara</td>\n",
       "      <td>أنت مجرد طالب.</td>\n",
       "      <td>9684756</td>\n",
       "      <td>eng</td>\n",
       "      <td>You're nothing but a student.</td>\n",
       "      <td>0.0</td>\n",
       "      <td>1.0</td>\n",
       "    </tr>\n",
       "    <tr>\n",
       "      <th>14510</th>\n",
       "      <td>794485</td>\n",
       "      <td>ara</td>\n",
       "      <td>ليس بمقدوري إنهاء العمل قبل حلول الغد.</td>\n",
       "      <td>9694274</td>\n",
       "      <td>eng</td>\n",
       "      <td>I can't possibly finish the work by tomorrow.</td>\n",
       "      <td>0.0</td>\n",
       "      <td>1.0</td>\n",
       "    </tr>\n",
       "    <tr>\n",
       "      <th>14511</th>\n",
       "      <td>417606</td>\n",
       "      <td>ara</td>\n",
       "      <td>شكلك جميل وأنت تلبس الأزرق.</td>\n",
       "      <td>9725329</td>\n",
       "      <td>eng</td>\n",
       "      <td>You're very attractive in blue.</td>\n",
       "      <td>0.0</td>\n",
       "      <td>1.0</td>\n",
       "    </tr>\n",
       "  </tbody>\n",
       "</table>\n",
       "<p>14512 rows × 8 columns</p>\n",
       "</div>"
      ],
      "text/plain": [
       "       id_source lang_source                             text_source  \\\n",
       "0         392773         ara                      لنجرب فعل شيءٍ ما.   \n",
       "1         461821         ara                            لنجرب شيئاً!   \n",
       "2         383342         ara                  عليّ الذهاب إلى النوم.   \n",
       "3        7960374         ara                              لازم أنام.   \n",
       "4         372962         ara                           عليّ أن أنام.   \n",
       "...          ...         ...                                     ...   \n",
       "14507    9640524         ara            كل ما نحن بحاجة إليه هو خطة.   \n",
       "14508    6009369         ara          كان عليك أن تكون قد بدأت الآن.   \n",
       "14509     416582         ara                          أنت مجرد طالب.   \n",
       "14510     794485         ara  ليس بمقدوري إنهاء العمل قبل حلول الغد.   \n",
       "14511     417606         ara             شكلك جميل وأنت تلبس الأزرق.   \n",
       "\n",
       "       id_target lang_target                                    text_target  \\\n",
       "0           1276         eng                           Let's try something.   \n",
       "1           1276         eng                           Let's try something.   \n",
       "2           1277         eng                         I have to go to sleep.   \n",
       "3           1277         eng                         I have to go to sleep.   \n",
       "4           1277         eng                         I have to go to sleep.   \n",
       "...          ...         ...                                            ...   \n",
       "14507    9640522         eng                         All we need is a plan.   \n",
       "14508    9684702         eng                  You should've started by now.   \n",
       "14509    9684756         eng                  You're nothing but a student.   \n",
       "14510    9694274         eng  I can't possibly finish the work by tomorrow.   \n",
       "14511    9725329         eng                You're very attractive in blue.   \n",
       "\n",
       "       review_score_source  review_score_target  \n",
       "0                      0.0                  1.0  \n",
       "1                      0.0                  1.0  \n",
       "2                      0.0                  1.0  \n",
       "3                      0.0                  1.0  \n",
       "4                      0.0                  1.0  \n",
       "...                    ...                  ...  \n",
       "14507                  0.0                  1.0  \n",
       "14508                  0.0                  1.0  \n",
       "14509                  0.0                  1.0  \n",
       "14510                  0.0                  1.0  \n",
       "14511                  0.0                  1.0  \n",
       "\n",
       "[14512 rows x 8 columns]"
      ]
     },
     "execution_count": 92,
     "metadata": {},
     "output_type": "execute_result"
    }
   ],
   "source": [
    "# select only sentences are 'ara' to 'eng' and have positive scores, then remove 'ara' duplicates\n",
    "# 'eng' duplicates will be dropped in the next section\n",
    "sentences_ara = sentences_scores[\n",
    "    (\n",
    "        (sentences_scores['lang_source'] == 'ara') \n",
    "        & (sentences_scores['lang_target'] == 'eng')\n",
    "    ) & (\n",
    "        (sentences_scores['review_score_source'] >= 0)\n",
    "        & (sentences_scores['review_score_target'] > 0)\n",
    "    )\n",
    "].sort_values(\n",
    "    ['review_score_source', 'review_score_target'],\n",
    "    ascending=False\n",
    ").drop_duplicates(\n",
    "    ['id_source'],\n",
    "    keep='first'\n",
    ").sort_values(\n",
    "    'id_target',\n",
    "    ignore_index=True\n",
    ")\n",
    "\n",
    "sentences_ara"
   ]
  },
  {
   "cell_type": "markdown",
   "metadata": {
    "heading_collapsed": true
   },
   "source": [
    "#### Removing duplicates"
   ]
  },
  {
   "cell_type": "code",
   "execution_count": 93,
   "metadata": {
    "ExecuteTime": {
     "end_time": "2021-02-20T10:44:01.001051Z",
     "start_time": "2021-02-20T10:43:57.690482Z"
    },
    "hidden": true,
    "scrolled": true
   },
   "outputs": [
    {
     "name": "stderr",
     "output_type": "stream",
     "text": [
      "[2021-02-20 10:43:57,855 - farasapy_logger - WARNING]: Be careful with large lines as they may break on interactive mode. You may switch to Standalone mode for such cases.\n"
     ]
    }
   ],
   "source": [
    "# initiate Arabic NLP model\n",
    "# stemmer in interactive mode to increase speed when iterating\n",
    "stemmer = FarasaStemmer(interactive=True)"
   ]
  },
  {
   "cell_type": "code",
   "execution_count": 94,
   "metadata": {
    "ExecuteTime": {
     "end_time": "2021-02-20T10:44:05.568335Z",
     "start_time": "2021-02-20T10:44:05.543860Z"
    },
    "hidden": true,
    "scrolled": true
   },
   "outputs": [
    {
     "name": "stdout",
     "output_type": "stream",
     "text": [
      "3523\n"
     ]
    },
    {
     "data": {
      "text/html": [
       "<div>\n",
       "<style scoped>\n",
       "    .dataframe tbody tr th:only-of-type {\n",
       "        vertical-align: middle;\n",
       "    }\n",
       "\n",
       "    .dataframe tbody tr th {\n",
       "        vertical-align: top;\n",
       "    }\n",
       "\n",
       "    .dataframe thead th {\n",
       "        text-align: right;\n",
       "    }\n",
       "</style>\n",
       "<table border=\"1\" class=\"dataframe\">\n",
       "  <thead>\n",
       "    <tr style=\"text-align: right;\">\n",
       "      <th></th>\n",
       "      <th>id_source</th>\n",
       "      <th>lang_source</th>\n",
       "      <th>text_source</th>\n",
       "      <th>id_target</th>\n",
       "      <th>lang_target</th>\n",
       "      <th>text_target</th>\n",
       "      <th>review_score_source</th>\n",
       "      <th>review_score_target</th>\n",
       "    </tr>\n",
       "  </thead>\n",
       "  <tbody>\n",
       "    <tr>\n",
       "      <th>0</th>\n",
       "      <td>392773</td>\n",
       "      <td>ara</td>\n",
       "      <td>لنجرب فعل شيءٍ ما.</td>\n",
       "      <td>1276</td>\n",
       "      <td>eng</td>\n",
       "      <td>Let's try something.</td>\n",
       "      <td>0.0</td>\n",
       "      <td>1.0</td>\n",
       "    </tr>\n",
       "    <tr>\n",
       "      <th>1</th>\n",
       "      <td>461821</td>\n",
       "      <td>ara</td>\n",
       "      <td>لنجرب شيئاً!</td>\n",
       "      <td>1276</td>\n",
       "      <td>eng</td>\n",
       "      <td>Let's try something.</td>\n",
       "      <td>0.0</td>\n",
       "      <td>1.0</td>\n",
       "    </tr>\n",
       "    <tr>\n",
       "      <th>2</th>\n",
       "      <td>383342</td>\n",
       "      <td>ara</td>\n",
       "      <td>عليّ الذهاب إلى النوم.</td>\n",
       "      <td>1277</td>\n",
       "      <td>eng</td>\n",
       "      <td>I have to go to sleep.</td>\n",
       "      <td>0.0</td>\n",
       "      <td>1.0</td>\n",
       "    </tr>\n",
       "    <tr>\n",
       "      <th>3</th>\n",
       "      <td>7960374</td>\n",
       "      <td>ara</td>\n",
       "      <td>لازم أنام.</td>\n",
       "      <td>1277</td>\n",
       "      <td>eng</td>\n",
       "      <td>I have to go to sleep.</td>\n",
       "      <td>0.0</td>\n",
       "      <td>1.0</td>\n",
       "    </tr>\n",
       "    <tr>\n",
       "      <th>4</th>\n",
       "      <td>372962</td>\n",
       "      <td>ara</td>\n",
       "      <td>عليّ أن أنام.</td>\n",
       "      <td>1277</td>\n",
       "      <td>eng</td>\n",
       "      <td>I have to go to sleep.</td>\n",
       "      <td>0.0</td>\n",
       "      <td>1.0</td>\n",
       "    </tr>\n",
       "  </tbody>\n",
       "</table>\n",
       "</div>"
      ],
      "text/plain": [
       "   id_source lang_source             text_source  id_target lang_target  \\\n",
       "0     392773         ara      لنجرب فعل شيءٍ ما.       1276         eng   \n",
       "1     461821         ara            لنجرب شيئاً!       1276         eng   \n",
       "2     383342         ara  عليّ الذهاب إلى النوم.       1277         eng   \n",
       "3    7960374         ara              لازم أنام.       1277         eng   \n",
       "4     372962         ara           عليّ أن أنام.       1277         eng   \n",
       "\n",
       "              text_target  review_score_source  review_score_target  \n",
       "0    Let's try something.                  0.0                  1.0  \n",
       "1    Let's try something.                  0.0                  1.0  \n",
       "2  I have to go to sleep.                  0.0                  1.0  \n",
       "3  I have to go to sleep.                  0.0                  1.0  \n",
       "4  I have to go to sleep.                  0.0                  1.0  "
      ]
     },
     "execution_count": 94,
     "metadata": {},
     "output_type": "execute_result"
    }
   ],
   "source": [
    "# identify sentences with identical translations\n",
    "duplicates = sentences_ara[sentences_ara.duplicated('id_target', keep=False)]\n",
    "\n",
    "print(len(duplicates))\n",
    "duplicates.head()"
   ]
  },
  {
   "cell_type": "code",
   "execution_count": 95,
   "metadata": {
    "ExecuteTime": {
     "end_time": "2021-02-20T10:44:19.094866Z",
     "start_time": "2021-02-20T10:44:14.750030Z"
    },
    "hidden": true,
    "scrolled": true
   },
   "outputs": [
    {
     "name": "stderr",
     "output_type": "stream",
     "text": [
      "/home/warehouse/miniconda3/envs/arabic/lib/python3.8/site-packages/pandas/core/indexing.py:1599: SettingWithCopyWarning: \n",
      "A value is trying to be set on a copy of a slice from a DataFrame.\n",
      "Try using .loc[row_indexer,col_indexer] = value instead\n",
      "\n",
      "See the caveats in the documentation: https://pandas.pydata.org/pandas-docs/stable/user_guide/indexing.html#returning-a-view-versus-a-copy\n",
      "  self.obj[key] = infer_fill_value(value)\n",
      "/home/warehouse/miniconda3/envs/arabic/lib/python3.8/site-packages/pandas/core/indexing.py:1700: SettingWithCopyWarning: \n",
      "A value is trying to be set on a copy of a slice from a DataFrame.\n",
      "Try using .loc[row_indexer,col_indexer] = value instead\n",
      "\n",
      "See the caveats in the documentation: https://pandas.pydata.org/pandas-docs/stable/user_guide/indexing.html#returning-a-view-versus-a-copy\n",
      "  self._setitem_single_column(loc, v, pi)\n"
     ]
    },
    {
     "name": "stdout",
     "output_type": "stream",
     "text": [
      "3523\n"
     ]
    },
    {
     "data": {
      "text/html": [
       "<div>\n",
       "<style scoped>\n",
       "    .dataframe tbody tr th:only-of-type {\n",
       "        vertical-align: middle;\n",
       "    }\n",
       "\n",
       "    .dataframe tbody tr th {\n",
       "        vertical-align: top;\n",
       "    }\n",
       "\n",
       "    .dataframe thead th {\n",
       "        text-align: right;\n",
       "    }\n",
       "</style>\n",
       "<table border=\"1\" class=\"dataframe\">\n",
       "  <thead>\n",
       "    <tr style=\"text-align: right;\">\n",
       "      <th></th>\n",
       "      <th>id_source</th>\n",
       "      <th>lang_source</th>\n",
       "      <th>text_source</th>\n",
       "      <th>id_target</th>\n",
       "      <th>lang_target</th>\n",
       "      <th>text_target</th>\n",
       "      <th>review_score_source</th>\n",
       "      <th>review_score_target</th>\n",
       "      <th>lemmas_source</th>\n",
       "    </tr>\n",
       "  </thead>\n",
       "  <tbody>\n",
       "    <tr>\n",
       "      <th>0</th>\n",
       "      <td>392773</td>\n",
       "      <td>ara</td>\n",
       "      <td>لنجرب فعل شيءٍ ما.</td>\n",
       "      <td>1276</td>\n",
       "      <td>eng</td>\n",
       "      <td>Let's try something.</td>\n",
       "      <td>0.0</td>\n",
       "      <td>1.0</td>\n",
       "      <td>[جرب, فعل, شيء, ما]</td>\n",
       "    </tr>\n",
       "    <tr>\n",
       "      <th>1</th>\n",
       "      <td>461821</td>\n",
       "      <td>ara</td>\n",
       "      <td>لنجرب شيئاً!</td>\n",
       "      <td>1276</td>\n",
       "      <td>eng</td>\n",
       "      <td>Let's try something.</td>\n",
       "      <td>0.0</td>\n",
       "      <td>1.0</td>\n",
       "      <td>[جرب, شيء]</td>\n",
       "    </tr>\n",
       "    <tr>\n",
       "      <th>2</th>\n",
       "      <td>383342</td>\n",
       "      <td>ara</td>\n",
       "      <td>عليّ الذهاب إلى النوم.</td>\n",
       "      <td>1277</td>\n",
       "      <td>eng</td>\n",
       "      <td>I have to go to sleep.</td>\n",
       "      <td>0.0</td>\n",
       "      <td>1.0</td>\n",
       "      <td>[علي, ذهاب, الي, نوم]</td>\n",
       "    </tr>\n",
       "    <tr>\n",
       "      <th>3</th>\n",
       "      <td>7960374</td>\n",
       "      <td>ara</td>\n",
       "      <td>لازم أنام.</td>\n",
       "      <td>1277</td>\n",
       "      <td>eng</td>\n",
       "      <td>I have to go to sleep.</td>\n",
       "      <td>0.0</td>\n",
       "      <td>1.0</td>\n",
       "      <td>[لازم, انام]</td>\n",
       "    </tr>\n",
       "    <tr>\n",
       "      <th>4</th>\n",
       "      <td>372962</td>\n",
       "      <td>ara</td>\n",
       "      <td>عليّ أن أنام.</td>\n",
       "      <td>1277</td>\n",
       "      <td>eng</td>\n",
       "      <td>I have to go to sleep.</td>\n",
       "      <td>0.0</td>\n",
       "      <td>1.0</td>\n",
       "      <td>[علي, ان, انام]</td>\n",
       "    </tr>\n",
       "  </tbody>\n",
       "</table>\n",
       "</div>"
      ],
      "text/plain": [
       "   id_source lang_source             text_source  id_target lang_target  \\\n",
       "0     392773         ara      لنجرب فعل شيءٍ ما.       1276         eng   \n",
       "1     461821         ara            لنجرب شيئاً!       1276         eng   \n",
       "2     383342         ara  عليّ الذهاب إلى النوم.       1277         eng   \n",
       "3    7960374         ara              لازم أنام.       1277         eng   \n",
       "4     372962         ara           عليّ أن أنام.       1277         eng   \n",
       "\n",
       "              text_target  review_score_source  review_score_target  \\\n",
       "0    Let's try something.                  0.0                  1.0   \n",
       "1    Let's try something.                  0.0                  1.0   \n",
       "2  I have to go to sleep.                  0.0                  1.0   \n",
       "3  I have to go to sleep.                  0.0                  1.0   \n",
       "4  I have to go to sleep.                  0.0                  1.0   \n",
       "\n",
       "           lemmas_source  \n",
       "0    [جرب, فعل, شيء, ما]  \n",
       "1             [جرب, شيء]  \n",
       "2  [علي, ذهاب, الي, نوم]  \n",
       "3           [لازم, انام]  \n",
       "4        [علي, ان, انام]  "
      ]
     },
     "execution_count": 95,
     "metadata": {},
     "output_type": "execute_result"
    }
   ],
   "source": [
    "# lemmatize, normalize, and tokenize sentences for comparison\n",
    "\n",
    "for index, row in duplicates.iterrows():\n",
    "    sentence_normalized = normalize_ar(stemmer.stem(row['text_source']))\n",
    "    sentence_lemmas = [token for token in nltk.wordpunct_tokenize(sentence_normalized) if token.isalpha()]\n",
    "    duplicates.loc[index, 'lemmas_source'] = {'_': sentence_lemmas}.values()\n",
    "        \n",
    "print(len(duplicates))\n",
    "duplicates.head()"
   ]
  },
  {
   "cell_type": "code",
   "execution_count": 98,
   "metadata": {
    "ExecuteTime": {
     "end_time": "2021-02-20T10:44:51.108794Z",
     "start_time": "2021-02-20T10:44:50.262553Z"
    },
    "hidden": true
   },
   "outputs": [
    {
     "data": {
      "text/plain": [
       "584"
      ]
     },
     "execution_count": 98,
     "metadata": {},
     "output_type": "execute_result"
    }
   ],
   "source": [
    "# check overlap between lemmas of duplicate sentences\n",
    "redundant_all = set()\n",
    "\n",
    "for i in duplicates['id_target'].unique():\n",
    "    duplicate_sentences = duplicates[duplicates['id_target'] == i]\n",
    "    redundant = set()\n",
    "\n",
    "#     if lemmas of sentence are included in lemmas of another, get the index\n",
    "    for j in permutations(duplicate_sentences.index, 2):\n",
    "        difference = set(duplicates.loc[j[0], 'lemmas_source']).difference(\n",
    "            set(duplicates.loc[j[1], 'lemmas_source'])\n",
    "        )\n",
    "        if not difference:\n",
    "            redundant.add(j[0])\n",
    "    \n",
    "#     if all sentences for specific translation are redundant, remove one from 'redundant'\n",
    "    if set(duplicate_sentences.index) == redundant:\n",
    "        redundant.pop()\n",
    "        \n",
    "    redundant_all = redundant_all.union(redundant)\n",
    "            \n",
    "len(set(redundant_all))"
   ]
  },
  {
   "cell_type": "code",
   "execution_count": 99,
   "metadata": {
    "ExecuteTime": {
     "end_time": "2021-02-20T10:44:54.615172Z",
     "start_time": "2021-02-20T10:44:54.581557Z"
    },
    "hidden": true
   },
   "outputs": [
    {
     "data": {
      "text/html": [
       "<div>\n",
       "<style scoped>\n",
       "    .dataframe tbody tr th:only-of-type {\n",
       "        vertical-align: middle;\n",
       "    }\n",
       "\n",
       "    .dataframe tbody tr th {\n",
       "        vertical-align: top;\n",
       "    }\n",
       "\n",
       "    .dataframe thead th {\n",
       "        text-align: right;\n",
       "    }\n",
       "</style>\n",
       "<table border=\"1\" class=\"dataframe\">\n",
       "  <thead>\n",
       "    <tr style=\"text-align: right;\">\n",
       "      <th></th>\n",
       "      <th>id_source</th>\n",
       "      <th>lang_source</th>\n",
       "      <th>text_source</th>\n",
       "      <th>id_target</th>\n",
       "      <th>lang_target</th>\n",
       "      <th>text_target</th>\n",
       "      <th>review_score_source</th>\n",
       "      <th>review_score_target</th>\n",
       "      <th>lemmas_source</th>\n",
       "    </tr>\n",
       "  </thead>\n",
       "  <tbody>\n",
       "    <tr>\n",
       "      <th>1</th>\n",
       "      <td>461821</td>\n",
       "      <td>ara</td>\n",
       "      <td>لنجرب شيئاً!</td>\n",
       "      <td>1276</td>\n",
       "      <td>eng</td>\n",
       "      <td>Let's try something.</td>\n",
       "      <td>0.0</td>\n",
       "      <td>1.0</td>\n",
       "      <td>[جرب, شيء]</td>\n",
       "    </tr>\n",
       "    <tr>\n",
       "      <th>9</th>\n",
       "      <td>400781</td>\n",
       "      <td>ara</td>\n",
       "      <td>سأعود قريباً.</td>\n",
       "      <td>1284</td>\n",
       "      <td>eng</td>\n",
       "      <td>I will be back soon.</td>\n",
       "      <td>0.0</td>\n",
       "      <td>1.0</td>\n",
       "      <td>[عاد, قريب]</td>\n",
       "    </tr>\n",
       "    <tr>\n",
       "      <th>10</th>\n",
       "      <td>549596</td>\n",
       "      <td>ara</td>\n",
       "      <td>سأعود بعد قليل.</td>\n",
       "      <td>1284</td>\n",
       "      <td>eng</td>\n",
       "      <td>I will be back soon.</td>\n",
       "      <td>0.0</td>\n",
       "      <td>1.0</td>\n",
       "      <td>[عاد, بعد, قليل]</td>\n",
       "    </tr>\n",
       "    <tr>\n",
       "      <th>21</th>\n",
       "      <td>461824</td>\n",
       "      <td>ara</td>\n",
       "      <td>كنت في الجبال.</td>\n",
       "      <td>1290</td>\n",
       "      <td>eng</td>\n",
       "      <td>I was in the mountains.</td>\n",
       "      <td>0.0</td>\n",
       "      <td>1.0</td>\n",
       "      <td>[كان, في, جبل]</td>\n",
       "    </tr>\n",
       "    <tr>\n",
       "      <th>23</th>\n",
       "      <td>434091</td>\n",
       "      <td>ara</td>\n",
       "      <td>هل هذه صورة حديثة؟</td>\n",
       "      <td>1291</td>\n",
       "      <td>eng</td>\n",
       "      <td>Is it a recent picture?</td>\n",
       "      <td>0.0</td>\n",
       "      <td>1.0</td>\n",
       "      <td>[هل, هذا, صورة, حديث]</td>\n",
       "    </tr>\n",
       "    <tr>\n",
       "      <th>...</th>\n",
       "      <td>...</td>\n",
       "      <td>...</td>\n",
       "      <td>...</td>\n",
       "      <td>...</td>\n",
       "      <td>...</td>\n",
       "      <td>...</td>\n",
       "      <td>...</td>\n",
       "      <td>...</td>\n",
       "      <td>...</td>\n",
       "    </tr>\n",
       "    <tr>\n",
       "      <th>14330</th>\n",
       "      <td>8182024</td>\n",
       "      <td>ara</td>\n",
       "      <td>لا أصدق أن توم هو القاتل.</td>\n",
       "      <td>8182022</td>\n",
       "      <td>eng</td>\n",
       "      <td>I don't believe that Tom is the killer.</td>\n",
       "      <td>0.0</td>\n",
       "      <td>1.0</td>\n",
       "      <td>[لا, اصدق, ان, توم, هو, قاتل]</td>\n",
       "    </tr>\n",
       "    <tr>\n",
       "      <th>14382</th>\n",
       "      <td>8636665</td>\n",
       "      <td>ara</td>\n",
       "      <td>أحب قطتكم.</td>\n",
       "      <td>8636533</td>\n",
       "      <td>eng</td>\n",
       "      <td>I love your cat.</td>\n",
       "      <td>0.0</td>\n",
       "      <td>1.0</td>\n",
       "      <td>[احب, قط]</td>\n",
       "    </tr>\n",
       "    <tr>\n",
       "      <th>14383</th>\n",
       "      <td>8636661</td>\n",
       "      <td>ara</td>\n",
       "      <td>أحب قطتك.</td>\n",
       "      <td>8636533</td>\n",
       "      <td>eng</td>\n",
       "      <td>I love your cat.</td>\n",
       "      <td>0.0</td>\n",
       "      <td>1.0</td>\n",
       "      <td>[احب, قط]</td>\n",
       "    </tr>\n",
       "    <tr>\n",
       "      <th>14385</th>\n",
       "      <td>8636660</td>\n",
       "      <td>ara</td>\n",
       "      <td>أحب قطك.</td>\n",
       "      <td>8636533</td>\n",
       "      <td>eng</td>\n",
       "      <td>I love your cat.</td>\n",
       "      <td>0.0</td>\n",
       "      <td>1.0</td>\n",
       "      <td>[احب, قط]</td>\n",
       "    </tr>\n",
       "    <tr>\n",
       "      <th>14502</th>\n",
       "      <td>9627416</td>\n",
       "      <td>ara</td>\n",
       "      <td>ظهرة توم فجأة.</td>\n",
       "      <td>9627393</td>\n",
       "      <td>eng</td>\n",
       "      <td>Tom appeared out of thin air.</td>\n",
       "      <td>0.0</td>\n",
       "      <td>1.0</td>\n",
       "      <td>[ظهر, توم, فجاة]</td>\n",
       "    </tr>\n",
       "  </tbody>\n",
       "</table>\n",
       "<p>584 rows × 9 columns</p>\n",
       "</div>"
      ],
      "text/plain": [
       "       id_source lang_source                text_source  id_target  \\\n",
       "1         461821         ara               لنجرب شيئاً!       1276   \n",
       "9         400781         ara              سأعود قريباً.       1284   \n",
       "10        549596         ara            سأعود بعد قليل.       1284   \n",
       "21        461824         ara             كنت في الجبال.       1290   \n",
       "23        434091         ara         هل هذه صورة حديثة؟       1291   \n",
       "...          ...         ...                        ...        ...   \n",
       "14330    8182024         ara  لا أصدق أن توم هو القاتل.    8182022   \n",
       "14382    8636665         ara                 أحب قطتكم.    8636533   \n",
       "14383    8636661         ara                  أحب قطتك.    8636533   \n",
       "14385    8636660         ara                   أحب قطك.    8636533   \n",
       "14502    9627416         ara             ظهرة توم فجأة.    9627393   \n",
       "\n",
       "      lang_target                              text_target  \\\n",
       "1             eng                     Let's try something.   \n",
       "9             eng                     I will be back soon.   \n",
       "10            eng                     I will be back soon.   \n",
       "21            eng                  I was in the mountains.   \n",
       "23            eng                  Is it a recent picture?   \n",
       "...           ...                                      ...   \n",
       "14330         eng  I don't believe that Tom is the killer.   \n",
       "14382         eng                         I love your cat.   \n",
       "14383         eng                         I love your cat.   \n",
       "14385         eng                         I love your cat.   \n",
       "14502         eng            Tom appeared out of thin air.   \n",
       "\n",
       "       review_score_source  review_score_target                  lemmas_source  \n",
       "1                      0.0                  1.0                     [جرب, شيء]  \n",
       "9                      0.0                  1.0                    [عاد, قريب]  \n",
       "10                     0.0                  1.0               [عاد, بعد, قليل]  \n",
       "21                     0.0                  1.0                 [كان, في, جبل]  \n",
       "23                     0.0                  1.0          [هل, هذا, صورة, حديث]  \n",
       "...                    ...                  ...                            ...  \n",
       "14330                  0.0                  1.0  [لا, اصدق, ان, توم, هو, قاتل]  \n",
       "14382                  0.0                  1.0                      [احب, قط]  \n",
       "14383                  0.0                  1.0                      [احب, قط]  \n",
       "14385                  0.0                  1.0                      [احب, قط]  \n",
       "14502                  0.0                  1.0               [ظهر, توم, فجاة]  \n",
       "\n",
       "[584 rows x 9 columns]"
      ]
     },
     "execution_count": 99,
     "metadata": {},
     "output_type": "execute_result"
    }
   ],
   "source": [
    "# check redundant duplicate sentences\n",
    "duplicates[duplicates.index.isin(redundant_all)]"
   ]
  },
  {
   "cell_type": "code",
   "execution_count": 100,
   "metadata": {
    "ExecuteTime": {
     "end_time": "2021-02-20T10:45:00.074623Z",
     "start_time": "2021-02-20T10:45:00.033566Z"
    },
    "hidden": true
   },
   "outputs": [
    {
     "data": {
      "text/html": [
       "<div>\n",
       "<style scoped>\n",
       "    .dataframe tbody tr th:only-of-type {\n",
       "        vertical-align: middle;\n",
       "    }\n",
       "\n",
       "    .dataframe tbody tr th {\n",
       "        vertical-align: top;\n",
       "    }\n",
       "\n",
       "    .dataframe thead th {\n",
       "        text-align: right;\n",
       "    }\n",
       "</style>\n",
       "<table border=\"1\" class=\"dataframe\">\n",
       "  <thead>\n",
       "    <tr style=\"text-align: right;\">\n",
       "      <th></th>\n",
       "      <th>id_source</th>\n",
       "      <th>lang_source</th>\n",
       "      <th>text_source</th>\n",
       "      <th>id_target</th>\n",
       "      <th>lang_target</th>\n",
       "      <th>text_target</th>\n",
       "      <th>review_score_source</th>\n",
       "      <th>review_score_target</th>\n",
       "    </tr>\n",
       "  </thead>\n",
       "  <tbody>\n",
       "    <tr>\n",
       "      <th>0</th>\n",
       "      <td>392773</td>\n",
       "      <td>ara</td>\n",
       "      <td>لنجرب فعل شيءٍ ما.</td>\n",
       "      <td>1276</td>\n",
       "      <td>eng</td>\n",
       "      <td>Let's try something.</td>\n",
       "      <td>0.0</td>\n",
       "      <td>1.0</td>\n",
       "    </tr>\n",
       "    <tr>\n",
       "      <th>2</th>\n",
       "      <td>383342</td>\n",
       "      <td>ara</td>\n",
       "      <td>عليّ الذهاب إلى النوم.</td>\n",
       "      <td>1277</td>\n",
       "      <td>eng</td>\n",
       "      <td>I have to go to sleep.</td>\n",
       "      <td>0.0</td>\n",
       "      <td>1.0</td>\n",
       "    </tr>\n",
       "    <tr>\n",
       "      <th>3</th>\n",
       "      <td>7960374</td>\n",
       "      <td>ara</td>\n",
       "      <td>لازم أنام.</td>\n",
       "      <td>1277</td>\n",
       "      <td>eng</td>\n",
       "      <td>I have to go to sleep.</td>\n",
       "      <td>0.0</td>\n",
       "      <td>1.0</td>\n",
       "    </tr>\n",
       "    <tr>\n",
       "      <th>4</th>\n",
       "      <td>372962</td>\n",
       "      <td>ara</td>\n",
       "      <td>عليّ أن أنام.</td>\n",
       "      <td>1277</td>\n",
       "      <td>eng</td>\n",
       "      <td>I have to go to sleep.</td>\n",
       "      <td>0.0</td>\n",
       "      <td>1.0</td>\n",
       "    </tr>\n",
       "    <tr>\n",
       "      <th>5</th>\n",
       "      <td>407539</td>\n",
       "      <td>ara</td>\n",
       "      <td>اليوم هو الثامن عشر من يونيو و هو عيد ميلاد مو...</td>\n",
       "      <td>1280</td>\n",
       "      <td>eng</td>\n",
       "      <td>Today is June 18th and it is Muiriel's birthday!</td>\n",
       "      <td>0.0</td>\n",
       "      <td>1.0</td>\n",
       "    </tr>\n",
       "    <tr>\n",
       "      <th>...</th>\n",
       "      <td>...</td>\n",
       "      <td>...</td>\n",
       "      <td>...</td>\n",
       "      <td>...</td>\n",
       "      <td>...</td>\n",
       "      <td>...</td>\n",
       "      <td>...</td>\n",
       "      <td>...</td>\n",
       "    </tr>\n",
       "    <tr>\n",
       "      <th>14507</th>\n",
       "      <td>9640524</td>\n",
       "      <td>ara</td>\n",
       "      <td>كل ما نحن بحاجة إليه هو خطة.</td>\n",
       "      <td>9640522</td>\n",
       "      <td>eng</td>\n",
       "      <td>All we need is a plan.</td>\n",
       "      <td>0.0</td>\n",
       "      <td>1.0</td>\n",
       "    </tr>\n",
       "    <tr>\n",
       "      <th>14508</th>\n",
       "      <td>6009369</td>\n",
       "      <td>ara</td>\n",
       "      <td>كان عليك أن تكون قد بدأت الآن.</td>\n",
       "      <td>9684702</td>\n",
       "      <td>eng</td>\n",
       "      <td>You should've started by now.</td>\n",
       "      <td>0.0</td>\n",
       "      <td>1.0</td>\n",
       "    </tr>\n",
       "    <tr>\n",
       "      <th>14509</th>\n",
       "      <td>416582</td>\n",
       "      <td>ara</td>\n",
       "      <td>أنت مجرد طالب.</td>\n",
       "      <td>9684756</td>\n",
       "      <td>eng</td>\n",
       "      <td>You're nothing but a student.</td>\n",
       "      <td>0.0</td>\n",
       "      <td>1.0</td>\n",
       "    </tr>\n",
       "    <tr>\n",
       "      <th>14510</th>\n",
       "      <td>794485</td>\n",
       "      <td>ara</td>\n",
       "      <td>ليس بمقدوري إنهاء العمل قبل حلول الغد.</td>\n",
       "      <td>9694274</td>\n",
       "      <td>eng</td>\n",
       "      <td>I can't possibly finish the work by tomorrow.</td>\n",
       "      <td>0.0</td>\n",
       "      <td>1.0</td>\n",
       "    </tr>\n",
       "    <tr>\n",
       "      <th>14511</th>\n",
       "      <td>417606</td>\n",
       "      <td>ara</td>\n",
       "      <td>شكلك جميل وأنت تلبس الأزرق.</td>\n",
       "      <td>9725329</td>\n",
       "      <td>eng</td>\n",
       "      <td>You're very attractive in blue.</td>\n",
       "      <td>0.0</td>\n",
       "      <td>1.0</td>\n",
       "    </tr>\n",
       "  </tbody>\n",
       "</table>\n",
       "<p>13928 rows × 8 columns</p>\n",
       "</div>"
      ],
      "text/plain": [
       "       id_source lang_source  \\\n",
       "0         392773         ara   \n",
       "2         383342         ara   \n",
       "3        7960374         ara   \n",
       "4         372962         ara   \n",
       "5         407539         ara   \n",
       "...          ...         ...   \n",
       "14507    9640524         ara   \n",
       "14508    6009369         ara   \n",
       "14509     416582         ara   \n",
       "14510     794485         ara   \n",
       "14511     417606         ara   \n",
       "\n",
       "                                             text_source  id_target  \\\n",
       "0                                     لنجرب فعل شيءٍ ما.       1276   \n",
       "2                                 عليّ الذهاب إلى النوم.       1277   \n",
       "3                                             لازم أنام.       1277   \n",
       "4                                          عليّ أن أنام.       1277   \n",
       "5      اليوم هو الثامن عشر من يونيو و هو عيد ميلاد مو...       1280   \n",
       "...                                                  ...        ...   \n",
       "14507                       كل ما نحن بحاجة إليه هو خطة.    9640522   \n",
       "14508                     كان عليك أن تكون قد بدأت الآن.    9684702   \n",
       "14509                                     أنت مجرد طالب.    9684756   \n",
       "14510             ليس بمقدوري إنهاء العمل قبل حلول الغد.    9694274   \n",
       "14511                        شكلك جميل وأنت تلبس الأزرق.    9725329   \n",
       "\n",
       "      lang_target                                       text_target  \\\n",
       "0             eng                              Let's try something.   \n",
       "2             eng                            I have to go to sleep.   \n",
       "3             eng                            I have to go to sleep.   \n",
       "4             eng                            I have to go to sleep.   \n",
       "5             eng  Today is June 18th and it is Muiriel's birthday!   \n",
       "...           ...                                               ...   \n",
       "14507         eng                            All we need is a plan.   \n",
       "14508         eng                     You should've started by now.   \n",
       "14509         eng                     You're nothing but a student.   \n",
       "14510         eng     I can't possibly finish the work by tomorrow.   \n",
       "14511         eng                   You're very attractive in blue.   \n",
       "\n",
       "       review_score_source  review_score_target  \n",
       "0                      0.0                  1.0  \n",
       "2                      0.0                  1.0  \n",
       "3                      0.0                  1.0  \n",
       "4                      0.0                  1.0  \n",
       "5                      0.0                  1.0  \n",
       "...                    ...                  ...  \n",
       "14507                  0.0                  1.0  \n",
       "14508                  0.0                  1.0  \n",
       "14509                  0.0                  1.0  \n",
       "14510                  0.0                  1.0  \n",
       "14511                  0.0                  1.0  \n",
       "\n",
       "[13928 rows x 8 columns]"
      ]
     },
     "execution_count": 100,
     "metadata": {},
     "output_type": "execute_result"
    }
   ],
   "source": [
    "# drop redundant duplicate sentences\n",
    "index_drop = duplicates[duplicates.index.isin(redundant_all)].index\n",
    "sentences_ara.drop(index=index_drop, inplace=True)\n",
    "\n",
    "sentences_ara"
   ]
  },
  {
   "cell_type": "code",
   "execution_count": 101,
   "metadata": {
    "ExecuteTime": {
     "end_time": "2021-02-20T10:45:02.919210Z",
     "start_time": "2021-02-20T10:45:02.901066Z"
    },
    "hidden": true
   },
   "outputs": [],
   "source": [
    "# pickle freq_list_translations\n",
    "with open('translations_tatoeba.pkl', 'wb') as file:\n",
    "    pickle.dump(sentences_ara, file)"
   ]
  },
  {
   "cell_type": "markdown",
   "metadata": {
    "ExecuteTime": {
     "end_time": "2021-02-09T15:26:58.188253Z",
     "start_time": "2021-02-09T15:26:58.151006Z"
    },
    "heading_collapsed": true
   },
   "source": [
    "#### Scoring sentences"
   ]
  },
  {
   "cell_type": "code",
   "execution_count": 23,
   "metadata": {
    "ExecuteTime": {
     "end_time": "2021-02-20T14:08:52.811218Z",
     "start_time": "2021-02-20T14:08:52.800643Z"
    },
    "hidden": true
   },
   "outputs": [],
   "source": [
    "# load tatoeba translations\n",
    "with open('translations_tatoeba.pkl', 'rb') as file:\n",
    "    sentences_ara = pickle.load(file)"
   ]
  },
  {
   "cell_type": "code",
   "execution_count": 3,
   "metadata": {
    "ExecuteTime": {
     "end_time": "2021-02-20T13:57:25.529756Z",
     "start_time": "2021-02-20T13:57:22.256611Z"
    },
    "hidden": true,
    "scrolled": true
   },
   "outputs": [
    {
     "name": "stderr",
     "output_type": "stream",
     "text": [
      "[2021-02-20 13:57:22,385 - farasapy_logger - WARNING]: Be careful with large lines as they may break on interactive mode. You may switch to Standalone mode for such cases.\n"
     ]
    }
   ],
   "source": [
    "# initiate Arabic NLP model\n",
    "# stemmer in interactive mode to increase speed when iterating\n",
    "stemmer = FarasaStemmer(interactive=True)"
   ]
  },
  {
   "cell_type": "code",
   "execution_count": 28,
   "metadata": {
    "ExecuteTime": {
     "end_time": "2021-02-20T14:09:52.227260Z",
     "start_time": "2021-02-20T14:09:52.221765Z"
    },
    "hidden": true
   },
   "outputs": [],
   "source": [
    "# function that scores sentences based on how common their lemmas are\n",
    "def score_sentence(sentence, freq_lemmas_ar):\n",
    "    score = 0\n",
    "    lemmas = 0\n",
    "    \n",
    "    sentence_normalized = normalize_ar(stemmer.stem(sentence))\n",
    "    sentence_lemmas = [token for token in nltk.wordpunct_tokenize(sentence_normalized) if token.isalpha()]\n",
    "    \n",
    "    for lemma in sentence_lemmas:\n",
    "        try:\n",
    "            score += freq_lemmas_ar[lemma]\n",
    "            lemmas += 1\n",
    "        except:\n",
    "            continue\n",
    "            \n",
    "    score = score / lemmas / len(sentence_lemmas) * 100\n",
    "            \n",
    "    return score"
   ]
  },
  {
   "cell_type": "code",
   "execution_count": 29,
   "metadata": {
    "ExecuteTime": {
     "end_time": "2021-02-20T14:09:54.266794Z",
     "start_time": "2021-02-20T14:09:54.257942Z"
    },
    "hidden": true
   },
   "outputs": [
    {
     "name": "stdout",
     "output_type": "stream",
     "text": [
      "id_source                               392776\n",
      "lang_source                                ara\n",
      "text_source            سيكلفك ذلك ثلاثين يورو.\n",
      "id_target                                 1298\n",
      "lang_target                                eng\n",
      "text_target                This will cost €30.\n",
      "review_score_source                        0.0\n",
      "review_score_target                        1.0\n",
      "Name: 36, dtype: object\n"
     ]
    },
    {
     "data": {
      "text/plain": [
       "4137.5"
      ]
     },
     "execution_count": 29,
     "metadata": {},
     "output_type": "execute_result"
    }
   ],
   "source": [
    "# check the scoring function\n",
    "sentence = sentences_ara.iloc[30]\n",
    "print(sentence)\n",
    "\n",
    "score_sentence(sentence['text_source'], freq_lemmas_ar)"
   ]
  },
  {
   "cell_type": "code",
   "execution_count": 30,
   "metadata": {
    "ExecuteTime": {
     "end_time": "2021-02-20T14:09:56.327140Z",
     "start_time": "2021-02-20T14:09:56.322750Z"
    },
    "hidden": true
   },
   "outputs": [],
   "source": [
    "# iterate over sentences, scoring and translating each\n",
    "def score_translate_sentences(sentences_ara, freq_lemmas_ar):\n",
    "    sentences = {}\n",
    "\n",
    "    for index, row in sentences_ara.iterrows():\n",
    "        sentences[row['text_source']] = {\n",
    "            'translation': row['text_target'],\n",
    "            'score': score_sentence(row['text_source'], freq_lemmas_ar)\n",
    "        }\n",
    "    \n",
    "    return sentences"
   ]
  },
  {
   "cell_type": "code",
   "execution_count": 19,
   "metadata": {
    "ExecuteTime": {
     "end_time": "2021-02-20T14:00:09.132749Z",
     "start_time": "2021-02-20T14:00:01.408881Z"
    },
    "hidden": true
   },
   "outputs": [],
   "source": [
    "# score sentences\n",
    "sentences = score_translate_sentences(sentences_ara, freq_lemmas_ar)"
   ]
  },
  {
   "cell_type": "code",
   "execution_count": 108,
   "metadata": {
    "ExecuteTime": {
     "end_time": "2021-02-20T10:46:43.994076Z",
     "start_time": "2021-02-20T10:46:14.862964Z"
    },
    "hidden": true
   },
   "outputs": [
    {
     "name": "stderr",
     "output_type": "stream",
     "text": [
      "[2021-02-20 10:46:15,011 - farasapy_logger - WARNING]: Be careful with large lines as they may break on interactive mode. You may switch to Standalone mode for such cases.\n"
     ]
    }
   ],
   "source": [
    "# load diactritization model\n",
    "diacritizer = FarasaDiacritizer(interactive=True)"
   ]
  },
  {
   "cell_type": "code",
   "execution_count": 109,
   "metadata": {
    "ExecuteTime": {
     "end_time": "2021-02-20T10:47:36.714054Z",
     "start_time": "2021-02-20T10:46:50.279478Z"
    },
    "hidden": true
   },
   "outputs": [],
   "source": [
    "# diacritize sentences\n",
    "sentences = {diacritizer.diacritize(key): value for key, value in sentences.items()}"
   ]
  },
  {
   "cell_type": "code",
   "execution_count": 110,
   "metadata": {
    "ExecuteTime": {
     "end_time": "2021-02-20T10:48:58.361512Z",
     "start_time": "2021-02-20T10:48:58.320659Z"
    },
    "hidden": true
   },
   "outputs": [
    {
     "ename": "KeyError",
     "evalue": "'لنجرب فعل شيءٍ ما.'",
     "output_type": "error",
     "traceback": [
      "\u001b[0;31m---------------------------------------------------------------------------\u001b[0m",
      "\u001b[0;31mKeyError\u001b[0m                                  Traceback (most recent call last)",
      "\u001b[0;32m<ipython-input-110-bb3f4ea07dba>\u001b[0m in \u001b[0;36m<module>\u001b[0;34m\u001b[0m\n\u001b[1;32m      4\u001b[0m \u001b[0;34m\u001b[0m\u001b[0m\n\u001b[1;32m      5\u001b[0m \u001b[0;32mfor\u001b[0m \u001b[0mindex\u001b[0m\u001b[0;34m,\u001b[0m \u001b[0mtext\u001b[0m \u001b[0;32min\u001b[0m \u001b[0msentences_ara\u001b[0m\u001b[0;34m[\u001b[0m\u001b[0;34m'text_source'\u001b[0m\u001b[0;34m]\u001b[0m\u001b[0;34m.\u001b[0m\u001b[0miteritems\u001b[0m\u001b[0;34m(\u001b[0m\u001b[0;34m)\u001b[0m\u001b[0;34m:\u001b[0m\u001b[0;34m\u001b[0m\u001b[0;34m\u001b[0m\u001b[0m\n\u001b[0;32m----> 6\u001b[0;31m     \u001b[0msentences_ara\u001b[0m\u001b[0;34m.\u001b[0m\u001b[0mloc\u001b[0m\u001b[0;34m[\u001b[0m\u001b[0mindex\u001b[0m\u001b[0;34m,\u001b[0m \u001b[0;34m'score_source'\u001b[0m\u001b[0;34m]\u001b[0m \u001b[0;34m=\u001b[0m \u001b[0msentences\u001b[0m\u001b[0;34m[\u001b[0m\u001b[0mtext\u001b[0m\u001b[0;34m]\u001b[0m\u001b[0;34m[\u001b[0m\u001b[0;34m'score'\u001b[0m\u001b[0;34m]\u001b[0m\u001b[0;34m\u001b[0m\u001b[0;34m\u001b[0m\u001b[0m\n\u001b[0m\u001b[1;32m      7\u001b[0m \u001b[0;34m\u001b[0m\u001b[0m\n\u001b[1;32m      8\u001b[0m x = sentences_ara[\n",
      "\u001b[0;31mKeyError\u001b[0m: 'لنجرب فعل شيءٍ ما.'"
     ]
    }
   ],
   "source": [
    "# check correlation between length of sentences and score\n",
    "# longer sentences have higher scores, because of how score is calculated\n",
    "sentences_ara['score_source'] = pd.NA\n",
    "\n",
    "for index, text in sentences_ara['text_source'].iteritems():\n",
    "    sentences_ara.loc[index, 'score_source'] = sentences[text]['score']\n",
    "    \n",
    "x = sentences_ara[\n",
    "    sentences_ara.duplicated(\n",
    "        'id_target',\n",
    "        keep=False\n",
    "    )\n",
    "].copy()\n",
    "\n",
    "x['len'] = x['text_source'].apply(len)\n",
    "\n",
    "x.sort_values(\n",
    "    ['id_target', 'len', 'score_source'],\n",
    "    ascending=False,\n",
    "    inplace=True\n",
    ")\n",
    "x = x.where(\n",
    "    x['score_source']/x['score_source'].max() >= 0\n",
    ").dropna()\n",
    "\n",
    "fig = plt.figure(figsize=(10, 10))\n",
    "\n",
    "x1 = x.drop_duplicates('id_target', keep='first')\n",
    "\n",
    "ax1 = fig.add_subplot(221)\n",
    "sns.histplot(\n",
    "    data=x1['len']/x['len'].max(),\n",
    "    color='red',\n",
    "    label='len',\n",
    "    ax=ax1\n",
    ")\n",
    "sns.histplot(\n",
    "    x1['score_source']/x['score_source'].max(),\n",
    "    color='blue',\n",
    "    label='score',\n",
    "    ax=ax1\n",
    ")\n",
    "ax1.set_title('keep longest sentences')\n",
    "ax1.legend()\n",
    "\n",
    "x2 = x.drop_duplicates('id_target', keep='last')\n",
    "\n",
    "ax2 = fig.add_subplot(222)\n",
    "sns.histplot(\n",
    "    data=x2['len']/x['len'].max(),\n",
    "    color='red',\n",
    "    label='len',\n",
    "    ax=ax2\n",
    ")\n",
    "sns.histplot(\n",
    "    x2['score_source']/x['score_source'].max(),\n",
    "    color='blue',\n",
    "    label='score',\n",
    "    ax=ax2\n",
    ")\n",
    "ax2.set_title('keep shortest sentences')\n",
    "ax2.legend()\n",
    "\n",
    "ax3 = fig.add_subplot(223)\n",
    "sns.scatterplot(\n",
    "    data=x,\n",
    "    x='len',\n",
    "    y='score_source',\n",
    "    ax=ax3\n",
    ")"
   ]
  },
  {
   "cell_type": "code",
   "execution_count": 20,
   "metadata": {
    "ExecuteTime": {
     "end_time": "2021-02-20T14:00:20.580473Z",
     "start_time": "2021-02-20T14:00:20.557586Z"
    },
    "hidden": true
   },
   "outputs": [
    {
     "name": "stdout",
     "output_type": "stream",
     "text": [
      "مَن؟\n",
      "{'translation': 'Who is it?', 'score': 348568900.0}\n",
      "\n",
      "من؟\n",
      "{'translation': 'Who?', 'score': 348568900.0}\n",
      "\n",
      "انهِ هذا.\n",
      "{'translation': 'Finish this.', 'score': 123071650.0}\n",
      "\n",
      "أنا في 19\n",
      "{'translation': \"I'm 19.\", 'score': 113784325.0}\n",
      "\n",
      "إنّهما معي.\n",
      "{'translation': \"They're with me.\", 'score': 110173050.0}\n",
      "\n",
      "أفكر فيك.\n",
      "{'translation': \"I'm thinking about you.\", 'score': 110084200.0}\n",
      "\n",
      "في صحتك.\n",
      "{'translation': 'Cheers!', 'score': 110040500.0}\n",
      "\n",
      "إنّي أبوك.\n",
      "{'translation': 'I am your father.', 'score': 108848125.0}\n",
      "\n",
      "إننا رجال.\n",
      "{'translation': 'We are men.', 'score': 108342250.0}\n",
      "\n",
      "إنها جديدة.\n",
      "{'translation': \"It's brand new.\", 'score': 108164925.0}\n",
      "\n"
     ]
    }
   ],
   "source": [
    "# check best scoring sentences\n",
    "sentences_sorted = sorted(sentences, key=lambda x: sentences[x]['score'], reverse=True)\n",
    "for i in sentences_sorted[:10]:\n",
    "    print(\n",
    "        '{}\\n{}\\n'.format(\n",
    "        i,\n",
    "        sentences[i]\n",
    "        )\n",
    "    )"
   ]
  },
  {
   "cell_type": "code",
   "execution_count": 112,
   "metadata": {
    "ExecuteTime": {
     "end_time": "2021-02-20T10:50:00.221447Z",
     "start_time": "2021-02-20T10:50:00.179661Z"
    },
    "hidden": true
   },
   "outputs": [],
   "source": [
    "# pickle tatoeba sentences\n",
    "with open('sentences_tatoeba.pkl', 'wb') as file:\n",
    "    pickle.dump(sentences, file)"
   ]
  },
  {
   "cell_type": "markdown",
   "metadata": {
    "heading_collapsed": true
   },
   "source": [
    "## Anki deck generation"
   ]
  },
  {
   "cell_type": "markdown",
   "metadata": {
    "heading_collapsed": true,
    "hidden": true
   },
   "source": [
    "### Sentences"
   ]
  },
  {
   "cell_type": "code",
   "execution_count": 114,
   "metadata": {
    "ExecuteTime": {
     "end_time": "2021-02-20T10:50:14.081673Z",
     "start_time": "2021-02-20T10:50:14.003825Z"
    },
    "hidden": true,
    "scrolled": true
   },
   "outputs": [
    {
     "name": "stdout",
     "output_type": "stream",
     "text": [
      "23636\n"
     ]
    }
   ],
   "source": [
    "# load reverso sentences\n",
    "with open('sentences_reverso.pkl', 'rb') as file:\n",
    "    sentences_reverso = pickle.load(file)\n",
    "    \n",
    "# for i in range(len(sentences_reverso) - 20):\n",
    "#     sentences_reverso.popitem()\n",
    "print(len(sentences_reverso))\n",
    "# sentences_reverso"
   ]
  },
  {
   "cell_type": "code",
   "execution_count": 115,
   "metadata": {
    "ExecuteTime": {
     "end_time": "2021-02-20T10:50:15.503233Z",
     "start_time": "2021-02-20T10:50:15.467664Z"
    },
    "hidden": true
   },
   "outputs": [
    {
     "name": "stdout",
     "output_type": "stream",
     "text": [
      "13924\n"
     ]
    }
   ],
   "source": [
    "# load tatoeba sentences\n",
    "with open('sentences_tatoeba.pkl', 'rb') as file:\n",
    "    sentences_tatoeba = pickle.load(file)\n",
    "    \n",
    "# for i in range(len(sentences_tatoeba) - 20):\n",
    "#     sentences_tatoeba.popitem()\n",
    "print(len(sentences_tatoeba))\n",
    "# sentences_tatoeba"
   ]
  },
  {
   "cell_type": "code",
   "execution_count": 121,
   "metadata": {
    "ExecuteTime": {
     "end_time": "2021-02-20T10:52:13.489885Z",
     "start_time": "2021-02-20T10:52:12.426170Z"
    },
    "hidden": true
   },
   "outputs": [
    {
     "data": {
      "text/plain": [
       "<matplotlib.legend.Legend at 0x7f3cff78e520>"
      ]
     },
     "execution_count": 121,
     "metadata": {},
     "output_type": "execute_result"
    },
    {
     "data": {
      "image/png": "[encoded data removed]",
      "text/plain": [
       "<Figure size 432x288 with 1 Axes>"
      ]
     },
     "metadata": {
      "needs_background": "light"
     },
     "output_type": "display_data"
    }
   ],
   "source": [
    "fig, ax = plt.subplots()\n",
    "\n",
    "sns.histplot(\n",
    "    [sentences_tatoeba[i]['score'] for i in sentences_tatoeba if sentences_tatoeba[i]['score'] < 50000],\n",
    "    color='red',\n",
    "    label='tatoeba',\n",
    "    alpha=.5,\n",
    "    ax=ax\n",
    ")\n",
    "\n",
    "sns.histplot(\n",
    "    [sentences_reverso[i]['score'] for i in sentences_reverso if sentences_reverso[i]['score'] < 50000],\n",
    "    color='blue',\n",
    "    label='reverso',\n",
    "    alpha=.5,\n",
    "    ax=ax\n",
    ")\n",
    "\n",
    "ax.set_title('Sentence score counts')\n",
    "ax.legend()"
   ]
  },
  {
   "cell_type": "markdown",
   "metadata": {
    "heading_collapsed": true,
    "hidden": true
   },
   "source": [
    "### Card model"
   ]
  },
  {
   "cell_type": "code",
   "execution_count": 122,
   "metadata": {
    "ExecuteTime": {
     "end_time": "2021-02-20T10:52:15.439271Z",
     "start_time": "2021-02-20T10:52:15.429720Z"
    },
    "hidden": true
   },
   "outputs": [
    {
     "data": {
      "text/plain": [
       "1772895860"
      ]
     },
     "execution_count": 122,
     "metadata": {},
     "output_type": "execute_result"
    }
   ],
   "source": [
    "# create random model id\n",
    "np.random.randint(1<<30, 1<<31)"
   ]
  },
  {
   "cell_type": "code",
   "execution_count": 123,
   "metadata": {
    "ExecuteTime": {
     "end_time": "2021-02-20T10:52:16.314951Z",
     "start_time": "2021-02-20T10:52:16.310238Z"
    },
    "hidden": true
   },
   "outputs": [],
   "source": [
    "arabic_format = '''\n",
    "<div style=\"padding: 5%; background-color: lightgray; color: black\">\n",
    "    <div id=arabic style=\"text-align: center; vertical-align: middle; direction: rtl; color: DarkRed\"> \n",
    "        {{Arabic}} \n",
    "    </div>\n",
    "    <br>\n",
    "    {{#Synonyms}}\n",
    "        (&ne; {{Synonyms}})\n",
    "    {{/Synonyms}}\n",
    "</div>\n",
    "\n",
    "{{hint::Mnemonic}}\n",
    "'''\n",
    "\n",
    "english_format = '''\n",
    "<div style=\"padding: 5%; background-color: lightgray; color: black\">\n",
    "    <div id=arabic style=\"text-align: center; vertical-align: middle; direction: rtl; color: DarkRed\"> \n",
    "        {{Arabic}} \n",
    "    </div>\n",
    "    <br>\n",
    "    {{#Synonyms}}\n",
    "        (&ne; {{Synonyms}})\n",
    "    {{/Synonyms}}\n",
    "</div>\n",
    "\n",
    "<hr id=answer>\n",
    "\n",
    "<div  id=english style='padding:5%; vertical-align: top; background-color:lightgreen; color:black'> \n",
    "    {{English}}\n",
    "</div>\n",
    "\n",
    "<hr>\n",
    "\n",
    "<div style=\"padding:5%;font-size: small; font-weight: regular; direction: ltr;background-color:lightgreen;color:black;\">\n",
    "    <div id='lemmas' style=\"text-align: justify ; font-weight: regular; direction: rtl\"> \n",
    "        {{Lemmas}}\n",
    "    </div>\n",
    "</div>\n",
    "\n",
    "<hr>\n",
    "\n",
    "<div  style=\"padding-right:10%;padding-left:10%;text-align: justify ; font-size: small; font-weight: regular; direction: ltr;\"> \n",
    "    | Score: {{Score}} <br> \n",
    "    | Mnemonic: {{Mnemonic}}\n",
    "</div>\n",
    "'''\n",
    "\n",
    "css = '''\n",
    ".card {\n",
    "    font-family: Arial;\n",
    "    font-size: x-large;\n",
    "    text-align: center;\n",
    "}\n",
    "#arabic {\n",
    "    font-family: Noto Sans Arabic UI Lt;\n",
    "    font-size: xxx-large\n",
    "}\n",
    "#english {\n",
    "    font-family: Noto Sans;\n",
    "    font-size: xx-large;\n",
    "    text-align: center;\n",
    "    vertical-align: middle;\n",
    "    color: black;\n",
    "}\n",
    "#lemmas {\n",
    "    font-family: Noto Sans Arabic UI Lt;\n",
    "    font-size: xx-large;\n",
    "}\n",
    "'''"
   ]
  },
  {
   "cell_type": "code",
   "execution_count": 124,
   "metadata": {
    "ExecuteTime": {
     "end_time": "2021-02-20T10:52:17.061332Z",
     "start_time": "2021-02-20T10:52:17.052442Z"
    },
    "hidden": true
   },
   "outputs": [],
   "source": [
    "# create deck model\n",
    "sentence_model = genanki.Model(\n",
    "    model_id=1886263227,\n",
    "    name='Arabic',\n",
    "    fields=[\n",
    "        {'name': 'Score'},\n",
    "        {'name': 'Arabic', 'rtl': True},\n",
    "        {'name': 'English'},\n",
    "        {'name': 'Mnemonic'},\n",
    "        {'name': 'Synonyms'},\n",
    "        {'name': 'Lemmas', 'rtl': True}\n",
    "    ],\n",
    "    templates=[\n",
    "        {\n",
    "            'score': '{{Score}}',\n",
    "            'name': 'Card',\n",
    "            'qfmt': arabic_format,\n",
    "            'afmt': english_format\n",
    "        }\n",
    "    ],\n",
    "    css=css\n",
    ")"
   ]
  },
  {
   "cell_type": "markdown",
   "metadata": {
    "heading_collapsed": true,
    "hidden": true
   },
   "source": [
    "### Reverso"
   ]
  },
  {
   "cell_type": "code",
   "execution_count": 42,
   "metadata": {
    "ExecuteTime": {
     "end_time": "2021-02-12T19:24:36.360938Z",
     "start_time": "2021-02-12T19:24:36.358180Z"
    },
    "hidden": true
   },
   "outputs": [],
   "source": [
    "# create reverso deck\n",
    "deck_reverso = genanki.Deck(\n",
    "    1177887818,\n",
    "    'Arabic: Reverso'\n",
    ")"
   ]
  },
  {
   "cell_type": "code",
   "execution_count": 43,
   "metadata": {
    "ExecuteTime": {
     "end_time": "2021-02-12T19:24:37.758056Z",
     "start_time": "2021-02-12T19:24:37.590385Z"
    },
    "hidden": true
   },
   "outputs": [],
   "source": [
    "# build deck\n",
    "for sentence in sentences_reverso:\n",
    "    translation = sentences_reverso[sentence]['translation']\n",
    "    score = int(sentences_reverso[sentence]['score'])\n",
    "#     if score < 200:\n",
    "#         continue\n",
    "    \n",
    "    card = genanki.Note(\n",
    "        model=sentence_model,\n",
    "        fields=[\n",
    "            str(score),\n",
    "            sentence,\n",
    "            translation,\n",
    "            '',\n",
    "            '',\n",
    "            ''\n",
    "        ]\n",
    "    )\n",
    "    deck_reverso.add_note(card)"
   ]
  },
  {
   "cell_type": "code",
   "execution_count": 44,
   "metadata": {
    "ExecuteTime": {
     "end_time": "2021-02-12T19:24:40.559203Z",
     "start_time": "2021-02-12T19:24:39.274266Z"
    },
    "hidden": true
   },
   "outputs": [],
   "source": [
    "# save deck\n",
    "genanki.Package(deck_reverso).write_to_file('deck_reverso.apkg')"
   ]
  },
  {
   "cell_type": "markdown",
   "metadata": {
    "heading_collapsed": true,
    "hidden": true
   },
   "source": [
    "### Tatoeba"
   ]
  },
  {
   "cell_type": "code",
   "execution_count": 125,
   "metadata": {
    "ExecuteTime": {
     "end_time": "2021-02-20T10:52:20.074135Z",
     "start_time": "2021-02-20T10:52:20.070444Z"
    },
    "hidden": true
   },
   "outputs": [],
   "source": [
    "# create tatoeba deck\n",
    "deck_tatoeba = genanki.Deck(\n",
    "    1667002487,\n",
    "    'Arabic: Tatoeba'\n",
    ")"
   ]
  },
  {
   "cell_type": "code",
   "execution_count": 126,
   "metadata": {
    "ExecuteTime": {
     "end_time": "2021-02-20T10:52:21.096126Z",
     "start_time": "2021-02-20T10:52:21.009143Z"
    },
    "hidden": true
   },
   "outputs": [],
   "source": [
    "# build deck\n",
    "for sentence in sentences_tatoeba:\n",
    "    translation = sentences_tatoeba[sentence]['translation']\n",
    "    score = int(sentences_tatoeba[sentence]['score'])\n",
    "#     if score < 200:\n",
    "#         continue\n",
    "    \n",
    "    card = genanki.Note(\n",
    "        model=sentence_model,\n",
    "        fields=[\n",
    "            str(score),\n",
    "            sentence,\n",
    "            translation,\n",
    "            '',\n",
    "            '',\n",
    "            ''\n",
    "        ]\n",
    "    )\n",
    "    deck_tatoeba.add_note(card)"
   ]
  },
  {
   "cell_type": "code",
   "execution_count": 127,
   "metadata": {
    "ExecuteTime": {
     "end_time": "2021-02-20T10:52:22.399857Z",
     "start_time": "2021-02-20T10:52:21.782769Z"
    },
    "hidden": true
   },
   "outputs": [],
   "source": [
    "# save deck\n",
    "genanki.Package(deck_tatoeba).write_to_file('deck_tatoeba.apkg')"
   ]
  },
  {
   "cell_type": "code",
   "execution_count": null,
   "metadata": {
    "hidden": true
   },
   "outputs": [],
   "source": []
  }
 ],
 "metadata": {
  "hide_input": false,
  "kernelspec": {
   "display_name": "Python 3 (ipykernel)",
   "language": "python",
   "name": "python3"
  },
  "language_info": {
   "codemirror_mode": {
    "name": "ipython",
    "version": 3
   },
   "file_extension": ".py",
   "mimetype": "text/x-python",
   "name": "python",
   "nbconvert_exporter": "python",
   "pygments_lexer": "ipython3",
   "version": "3.9.10"
  },
  "toc": {
   "base_numbering": 1,
   "nav_menu": {},
   "number_sections": true,
   "sideBar": true,
   "skip_h1_title": true,
   "title_cell": "Table of Contents",
   "title_sidebar": "Contents",
   "toc_cell": false,
   "toc_position": {},
   "toc_section_display": true,
   "toc_window_display": true
  },
  "varInspector": {
   "cols": {
    "lenName": 16,
    "lenType": 16,
    "lenVar": 40
   },
   "kernels_config": {
    "python": {
     "delete_cmd_postfix": "",
     "delete_cmd_prefix": "del ",
     "library": "var_list.py",
     "varRefreshCmd": "print(var_dic_list())"
    },
    "r": {
     "delete_cmd_postfix": ") ",
     "delete_cmd_prefix": "rm(",
     "library": "var_list.r",
     "varRefreshCmd": "cat(var_dic_list()) "
    }
   },
   "oldHeight": 544.85,
   "position": {
    "height": "566.85px",
    "left": "157px",
    "right": "20px",
    "top": "102px",
    "width": "742px"
   },
   "types_to_exclude": [
    "module",
    "function",
    "builtin_function_or_method",
    "instance",
    "_Feature"
   ],
   "varInspector_section_display": "block",
   "window_display": false
  }
 },
 "nbformat": 4,
 "nbformat_minor": 4
}
